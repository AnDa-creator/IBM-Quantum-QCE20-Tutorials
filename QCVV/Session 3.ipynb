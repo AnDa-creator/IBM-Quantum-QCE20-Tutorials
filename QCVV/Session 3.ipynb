{
 "cells": [
  {
   "cell_type": "markdown",
   "metadata": {},
   "source": [
    "# Session 3: Holistic Benchmarks\n",
    "\n",
    "In this coding example, we will learn how to estimate the quantum volume of a backend using Qiskit's quantum volume module.  The method is based on the paper \"Validating quantum computers using randomized model circuits\" (https://arxiv.org/abs/1811.12926). For more details, see [this chapter](https://qiskit.org/textbook/ch-quantum-hardware/measuring-quantum-volume.html) in the Qiskit textbook, or this [Qiskit Medium blog post](https://medium.com/qiskit/what-is-quantum-volume-anyway-a4dff801c36f).\n",
    "\n"
   ]
  },
  {
   "cell_type": "code",
   "execution_count": null,
   "metadata": {
    "ExecuteTime": {
     "end_time": "2019-12-10T22:04:35.708493Z",
     "start_time": "2019-12-10T22:04:33.913271Z"
    }
   },
   "outputs": [],
   "source": [
    "#Import general libraries (needed for functions)\n",
    "import numpy as np\n",
    "import matplotlib.pyplot as plt\n",
    "from IPython import display\n",
    "\n",
    "#Import Qiskit classes classes\n",
    "import qiskit\n",
    "from qiskit.providers.aer.noise import NoiseModel\n",
    "from qiskit.providers.aer.noise.errors.standard_errors import depolarizing_error, thermal_relaxation_error\n",
    "\n",
    "#Import the qv function.\n",
    "import qiskit.ignis.verification.quantum_volume as qv"
   ]
  },
  {
   "cell_type": "markdown",
   "metadata": {},
   "source": [
    "Let's look at the quantum volume of various backends."
   ]
  },
  {
   "cell_type": "code",
   "execution_count": null,
   "metadata": {},
   "outputs": [],
   "source": [
    "from qiskit import IBMQ\n",
    "IBMQ.load_account()"
   ]
  },
  {
   "cell_type": "code",
   "execution_count": null,
   "metadata": {},
   "outputs": [],
   "source": [
    "hub = 'ibm-q'\n",
    "group = 'open'\n",
    "project = 'main'\n",
    "\n",
    "provider = IBMQ.get_provider(hub, group, project)\n",
    "\n",
    "provider.backends()"
   ]
  },
  {
   "cell_type": "code",
   "execution_count": null,
   "metadata": {},
   "outputs": [],
   "source": [
    "for be in ['ibmqx2', 'ibmq_16_melbourne', 'ibmq_vigo', 'ibmq_ourense', 'ibmq_valencia', 'ibmq_armonk', 'ibmq_athens', 'ibmq_santiago']:\n",
    "    backend = provider.get_backend(be)\n",
    "    props = backend.configuration()\n",
    "    print('Backend : {0}'.format(be))\n",
    "    print('Number of qubits: {0}'.format(props.n_qubits))\n",
    "    print('Quantum volume: {0}'.format(props.to_dict()['quantum_volume']))\n",
    "    print('------------')"
   ]
  },
  {
   "cell_type": "markdown",
   "metadata": {},
   "source": [
    "## Generate a quantum volume experiment design\n",
    "\n",
    "The experiment design for a quantum volume experiment consists of sets of circuits acting on a given number of qubits. Given a circuit width $w$, an ensemble of circuits is generated, where each circuit in the ensemble consists of a random realization of a quantum volume circuit.\n",
    "\n",
    "Here, we will look at quantum volume circuits that act on up to 5 qubits. Note: Because quantum volume circuits include 2-qubit gates, the minimum number of qubits (width) is 2."
   ]
  },
  {
   "cell_type": "code",
   "execution_count": null,
   "metadata": {
    "ExecuteTime": {
     "end_time": "2019-12-10T22:04:35.715110Z",
     "start_time": "2019-12-10T22:04:35.711242Z"
    }
   },
   "outputs": [],
   "source": [
    "# Generate a list of qubits of varying lengths.\n",
    "# The length of each sub-list is the width.\n",
    "qubit_list = [list(range(width)) for width in range(2, 6)]\n",
    "\n",
    "# Set the number of trials (random realizations) for each width\n",
    "# to be 50\n",
    "numTrials = 100"
   ]
  },
  {
   "cell_type": "code",
   "execution_count": null,
   "metadata": {},
   "outputs": [],
   "source": [
    "qubit_list"
   ]
  },
  {
   "cell_type": "code",
   "execution_count": null,
   "metadata": {
    "ExecuteTime": {
     "end_time": "2019-12-10T22:04:36.552439Z",
     "start_time": "2019-12-10T22:04:35.718718Z"
    },
    "scrolled": true
   },
   "outputs": [],
   "source": [
    "qv_circs, qv_circs_nomeas = qv.qv_circuits(qubit_list, ntrials=numTrials)"
   ]
  },
  {
   "cell_type": "markdown",
   "metadata": {},
   "source": [
    "### Look at the circuits\n",
    "\n",
    "The ensemble is indexed as (random realization, number of qubits)."
   ]
  },
  {
   "cell_type": "code",
   "execution_count": null,
   "metadata": {},
   "outputs": [],
   "source": [
    "# Check the shape of the returned object.\n",
    "np.shape(qv_circs)"
   ]
  },
  {
   "cell_type": "code",
   "execution_count": null,
   "metadata": {},
   "outputs": [],
   "source": [
    "# Draw the first circuit in the list\n",
    "qv_circs[0][0].draw(output='mpl')"
   ]
  },
  {
   "cell_type": "code",
   "execution_count": null,
   "metadata": {},
   "outputs": [],
   "source": [
    "# Draw the first circuit in the list, but without the terminating measurements\n",
    "qv_circs_nomeas[0][0].draw(output='mpl')"
   ]
  },
  {
   "cell_type": "markdown",
   "metadata": {},
   "source": [
    "Let's take a circuit and pass it through the transpiler to unroll it."
   ]
  },
  {
   "cell_type": "code",
   "execution_count": null,
   "metadata": {
    "ExecuteTime": {
     "end_time": "2019-12-10T22:04:36.714695Z",
     "start_time": "2019-12-10T22:04:36.555511Z"
    }
   },
   "outputs": [],
   "source": [
    "# Transpile the first circuit to the u1,u2,u3,cx basis set.\n",
    "transpiled_circuit = qiskit.compiler.transpile(qv_circs[0][0], basis_gates=['u1', 'u2', 'u3','cx'])"
   ]
  },
  {
   "cell_type": "markdown",
   "metadata": {},
   "source": [
    "As an example, we print the circuit corresponding to the first QV sequence. Note that the ideal circuits are run on the first n qubits (where n is the number of qubits in the subset)."
   ]
  },
  {
   "cell_type": "code",
   "execution_count": null,
   "metadata": {
    "ExecuteTime": {
     "end_time": "2019-12-10T22:04:36.733124Z",
     "start_time": "2019-12-10T22:04:36.717303Z"
    }
   },
   "outputs": [],
   "source": [
    "# Draw the transpiled circuit\n",
    "transpiled_circuit.draw(output='mpl')"
   ]
  },
  {
   "cell_type": "markdown",
   "metadata": {},
   "source": [
    "## Simulate the ideal circuits"
   ]
  },
  {
   "cell_type": "markdown",
   "metadata": {},
   "source": [
    "Estimating the quantum volume method requires that we know the ideal output for each circuit, so use Qiskit's to get the ideal result."
   ]
  },
  {
   "cell_type": "code",
   "execution_count": null,
   "metadata": {
    "ExecuteTime": {
     "end_time": "2019-12-10T22:04:40.628601Z",
     "start_time": "2019-12-10T22:04:36.735603Z"
    },
    "scrolled": true
   },
   "outputs": [],
   "source": [
    "backend = qiskit.Aer.get_backend('statevector_simulator')\n",
    "ideal_results = []\n",
    "for trial in range(numTrials):\n",
    "    if trial%10 == 0: print('Simulating trial %d'%trial)\n",
    "    ideal_results.append(qiskit.execute(qv_circs_nomeas[trial], backend=backend, optimization_level=0).result())"
   ]
  },
  {
   "cell_type": "markdown",
   "metadata": {},
   "source": [
    "## Simulate running on hardware"
   ]
  },
  {
   "cell_type": "markdown",
   "metadata": {},
   "source": [
    "We define a noise model for the simulator, using the noise properties of a given backend."
   ]
  },
  {
   "cell_type": "code",
   "execution_count": null,
   "metadata": {},
   "outputs": [],
   "source": [
    "# Pick a 5-qubit backend; e.g., valencia, athens, santiago\n",
    "be = 'ibmq_valencia'\n",
    "device_backend = provider.get_backend(be)\n",
    "noise_model = NoiseModel.from_backend(device_backend)\n",
    "print(noise_model)"
   ]
  },
  {
   "cell_type": "code",
   "execution_count": null,
   "metadata": {},
   "outputs": [],
   "source": [
    "basis_gates = noise_model.basis_gates\n",
    "coupling_map = device_backend.configuration().coupling_map"
   ]
  },
  {
   "cell_type": "code",
   "execution_count": null,
   "metadata": {
    "ExecuteTime": {
     "end_time": "2019-12-10T22:04:56.486881Z",
     "start_time": "2019-12-10T22:04:40.688577Z"
    },
    "scrolled": true
   },
   "outputs": [],
   "source": [
    "backend = qiskit.Aer.get_backend('qasm_simulator')\n",
    "basis_gates = ['u1','u2','u3','cx']\n",
    "shots = 10**4\n",
    "exp_results = []\n",
    "for trial in range(numTrials):\n",
    "    if trial%10 == 0: print('Running trial %d'%trial)\n",
    "    exp_results.append(qiskit.execute(qv_circs[trial], basis_gates=basis_gates,\\\n",
    "                                      backend=backend, noise_model=noise_model, coupling_map=coupling_map,\\\n",
    "                                      backend_options={'max_parallel_experiments': 0}, optimization_level=3).result())"
   ]
  },
  {
   "cell_type": "markdown",
   "metadata": {},
   "source": [
    "## Analyze the data\n",
    "\n",
    "Analyzing the data means determining, for each circuit width, the probability the quantum computer products _heavy outputs_, which are bitstrings whose (ideal) probability of occuring is higher than the median ideal probability."
   ]
  },
  {
   "cell_type": "code",
   "execution_count": null,
   "metadata": {},
   "outputs": [],
   "source": [
    "# Instantiate a QV fitter object\n",
    "qv_fitter = qv.QVFitter(qubit_lists=qubit_list)"
   ]
  },
  {
   "cell_type": "code",
   "execution_count": null,
   "metadata": {
    "ExecuteTime": {
     "end_time": "2019-12-10T22:04:56.569352Z",
     "start_time": "2019-12-10T22:04:56.489254Z"
    }
   },
   "outputs": [],
   "source": [
    "# Add ideal statevectors\n",
    "qv_fitter.add_statevectors(ideal_results)\n",
    "\n",
    "# Add experimental data\n",
    "qv_fitter.add_data(exp_results)"
   ]
  },
  {
   "cell_type": "markdown",
   "metadata": {},
   "source": [
    "Now, we'll make a plot of the data."
   ]
  },
  {
   "cell_type": "code",
   "execution_count": null,
   "metadata": {
    "ExecuteTime": {
     "end_time": "2019-12-10T22:04:56.774174Z",
     "start_time": "2019-12-10T22:04:56.571634Z"
    },
    "tags": [
     "nbsphinx-thumbnail"
    ]
   },
   "outputs": [],
   "source": [
    "plt.figure(figsize=(10, 6))\n",
    "ax = plt.gca()\n",
    "\n",
    "# Plot the data\n",
    "qv_fitter.plot_qv_data(ax=ax, show_plt=False)\n",
    "\n",
    "# Add title and label\n",
    "ax.set_title('Simulating a Quantum Volume experiment \\n on {0} ({1} trials)'.format(be, numTrials), fontsize=18)\n",
    "\n",
    "plt.show()"
   ]
  },
  {
   "cell_type": "markdown",
   "metadata": {},
   "source": [
    "While the plot gives us some sense as to whether heavy outputs are in fact being produced, we should take a look at more in-depth statstistics to see whether circuits of a given width pass the heavy output generation test. For each depth list if the depth was successful or not and with what confidence interval. For a depth to be successful the confidence interval must be > 97.5%."
   ]
  },
  {
   "cell_type": "code",
   "execution_count": null,
   "metadata": {
    "ExecuteTime": {
     "end_time": "2019-12-10T22:04:56.782750Z",
     "start_time": "2019-12-10T22:04:56.775951Z"
    }
   },
   "outputs": [],
   "source": [
    "qv_success_list = qv_fitter.qv_success()\n",
    "qv_list = qv_fitter.ydata\n",
    "for qidx, qubits in enumerate(qubit_list):\n",
    "    hog_prob = np.round(qv_list[0][qidx], 5)\n",
    "    confidence = np.round(qv_success_list[qidx][1], 5)\n",
    "    is_successful = qv_success_list[qidx][0]\n",
    "    numQubits = len(qubits)\n",
    "    print('At width/depth {0}, heavy output generation probability is {1} with confidence {2}.'.format(numQubits, hog_prob, confidence))\n",
    "    if is_successful:\n",
    "        print('Quantum volume test passed for QV{0}!'.format(2**numQubits))\n",
    "    else:\n",
    "        print('Quantum volume test failed!')"
   ]
  },
  {
   "cell_type": "code",
   "execution_count": null,
   "metadata": {},
   "outputs": [],
   "source": []
  }
 ],
 "metadata": {
  "kernelspec": {
   "display_name": "Python 3",
   "language": "python",
   "name": "python3"
  },
  "language_info": {
   "codemirror_mode": {
    "name": "ipython",
    "version": 3
   },
   "file_extension": ".py",
   "mimetype": "text/x-python",
   "name": "python",
   "nbconvert_exporter": "python",
   "pygments_lexer": "ipython3",
   "version": "3.7.1"
  },
  "nteract": {
   "version": "0.22.0"
  },
  "varInspector": {
   "cols": {
    "lenName": 16,
    "lenType": 16,
    "lenVar": 40
   },
   "kernels_config": {
    "python": {
     "delete_cmd_postfix": "",
     "delete_cmd_prefix": "del ",
     "library": "var_list.py",
     "varRefreshCmd": "print(var_dic_list())"
    },
    "r": {
     "delete_cmd_postfix": ") ",
     "delete_cmd_prefix": "rm(",
     "library": "var_list.r",
     "varRefreshCmd": "cat(var_dic_list()) "
    }
   },
   "types_to_exclude": [
    "module",
    "function",
    "builtin_function_or_method",
    "instance",
    "_Feature"
   ],
   "window_display": false
  }
 },
 "nbformat": 4,
 "nbformat_minor": 2
}
