{
 "cells": [
  {
   "cell_type": "markdown",
   "metadata": {},
   "source": [
    "# Session 1: Qubit-level benchmarks & measurement error mitigation\n",
    "\n",
    "This notebook gives examples for how to use the ``ignis.characterization.coherence`` module for measuring $T_1$ and $T_2$."
   ]
  },
  {
   "cell_type": "code",
   "execution_count": null,
   "metadata": {},
   "outputs": [],
   "source": [
    "import numpy as np\n",
    "import matplotlib.pyplot as plt\n",
    "%matplotlib inline\n",
    "\n",
    "import qiskit\n",
    "from qiskit.providers.aer.noise.errors.standard_errors import thermal_relaxation_error\n",
    "from qiskit.providers.aer.noise import NoiseModel\n",
    "\n",
    "from qiskit.ignis.characterization.coherence import T1Fitter, T2StarFitter, T2Fitter\n",
    "from qiskit.ignis.characterization.coherence import t1_circuits, t2_circuits, t2star_circuits"
   ]
  },
  {
   "cell_type": "markdown",
   "metadata": {},
   "source": [
    "To estimate $T_{1}$ and $T_{2}$ times, we need to run certain structured circuits (an \"experiment design\"). Qiskit's `characterization` module provides easy helper functions for generating such circuits.\n",
    "\n",
    "# Estimating $T_{1}$ time\n",
    "\n",
    "## Generate the $T_1$ experiment design"
   ]
  },
  {
   "cell_type": "markdown",
   "metadata": {},
   "source": [
    "In a $T_{1}$ experiment, we start with a qubit in the $|0\\rangle$ state, and then excite the qubit to the $|1\\rangle$ state using and $X$-gate. We then wait some number of time steps (delays), and measure the probability the qubit is still in the $|1\\rangle$ state.\n",
    "\n",
    "Below, we set the delay to be some number of identity gates (``iden``); the gate time for an identity gate is available from the backend being characterized. Here, we hard-code it as .1 micro-seconds.\n",
    "\n",
    "Because the $T_1$ time is measured from a fit of the results of circuits with _varying_ delays, we have to specify the minimum and maximum delays."
   ]
  },
  {
   "cell_type": "code",
   "execution_count": null,
   "metadata": {
    "ExecuteTime": {
     "end_time": "2018-12-18T15:34:52.275440Z",
     "start_time": "2018-12-18T15:32:05.667514Z"
    }
   },
   "outputs": [],
   "source": [
    "# Set the number of identity gates to be used in the circuits.\n",
    "# Here, the minimum number of gates is 10, and the maximum, 300.\n",
    "# We step in units of 50.\n",
    "num_of_gates = (np.linspace(10, 300, 50)).astype(int)\n",
    "\n",
    "# We hard-code the gate time for the identity as .1 micro-seconds.\n",
    "gate_time = 0.1\n",
    "\n",
    "# We specify which qubit(s) we want to measure T1 times for.\n",
    "# Note that it is possible to measure several qubits in parallel\n",
    "qubits = [0]"
   ]
  },
  {
   "cell_type": "markdown",
   "metadata": {},
   "source": [
    "The function `t1_circuits` will return both the circuits and delay information. The former we run on the hardware or simulator, and the latter, we use later for fitting purposes."
   ]
  },
  {
   "cell_type": "code",
   "execution_count": null,
   "metadata": {},
   "outputs": [],
   "source": [
    "t1_circs, t1_xdata = t1_circuits(num_of_gates, gate_time, qubits)"
   ]
  },
  {
   "cell_type": "markdown",
   "metadata": {},
   "source": [
    "Let's take a look at the first and last circuits. Note that _barriers_ are inserted into the circuits to prevent Qiskit's transpiler from collapsing the identity gates."
   ]
  },
  {
   "cell_type": "code",
   "execution_count": null,
   "metadata": {
    "scrolled": false
   },
   "outputs": [],
   "source": [
    "# As expected, there are 10 identity gates, separated by barriers.\n",
    "t1_circs[0].draw()"
   ]
  },
  {
   "cell_type": "code",
   "execution_count": null,
   "metadata": {
    "scrolled": true
   },
   "outputs": [],
   "source": [
    "t1_circs[-1].draw()"
   ]
  },
  {
   "cell_type": "markdown",
   "metadata": {},
   "source": [
    "In addition to the circuits in the experiment design, `t1_circuits` also returns the delay times. These are calculated as (number of identity gates) * (time per identity gate)."
   ]
  },
  {
   "cell_type": "code",
   "execution_count": null,
   "metadata": {},
   "outputs": [],
   "source": [
    "# For the first circuit, there are 10 identities, so the delay time is (.1)*10 = 1 micro-second\n",
    "t1_xdata"
   ]
  },
  {
   "cell_type": "markdown",
   "metadata": {},
   "source": [
    "## Simulate running a T1 experiment\n",
    "\n",
    "### Building a noise model\n",
    "\n",
    "To get an intuition for what the $T_{1}$ time is, and how properties of the hardware affect it, we'll use a noisy simulation to mock up running the experiment design on real hardware.\n",
    "\n",
    "We'll assume the hardware has  a $T_1$ time of 25 micro-seconds."
   ]
  },
  {
   "cell_type": "code",
   "execution_count": null,
   "metadata": {},
   "outputs": [],
   "source": [
    "t1_true = 25.0\n",
    "\n",
    "# Instantiate the noise model\n",
    "t1_noise_model = NoiseModel()\n",
    "\n",
    "# Add an error corresponding to thermal relaxation\n",
    "# which acts on the identity gate.\n",
    "# In the noise model, we have to specify which qubit(s) the noise\n",
    "# acts on.\n",
    "# We also set the T2 time of the qubits in the model to be the maximum allowed\n",
    "# by the T1 time; namely, 2*T1\n",
    "t1_noise_model.add_quantum_error(\n",
    "    thermal_relaxation_error(t1_true, 2*t1_true, gate_time), \n",
    "    'id', [0])"
   ]
  },
  {
   "cell_type": "markdown",
   "metadata": {},
   "source": [
    "### Run the simulation"
   ]
  },
  {
   "cell_type": "code",
   "execution_count": null,
   "metadata": {},
   "outputs": [],
   "source": [
    "# Run the simulator, where we mock up repeating each circuit\n",
    "# in the experiment design 500 times (\"shots\").\n",
    "backend = qiskit.Aer.get_backend('qasm_simulator')\n",
    "shots = 500\n",
    "\n",
    "t1_backend_result = qiskit.execute(t1_circs, backend, shots=shots,\n",
    "                                   noise_model=t1_noise_model, optimization_level=0).result()"
   ]
  },
  {
   "cell_type": "markdown",
   "metadata": {},
   "source": [
    "The `t1_backend_result` contains the results(\"counts\") from running the circuits in the simulator. We can access the results associated with the $j^{th}$ circuit in the experiment design by using `.get_counts(j)`."
   ]
  },
  {
   "cell_type": "code",
   "execution_count": null,
   "metadata": {},
   "outputs": [],
   "source": [
    "# Look at results for the first and last circuits  in the experiment design.\n",
    "t1_backend_result.get_counts(0), t1_backend_result.get_counts(-1)"
   ]
  },
  {
   "cell_type": "markdown",
   "metadata": {},
   "source": [
    "For the first circuit, most of the counts are `1`, meaning the qubit survived. But for the last circuit, most are `0`, meaning it decayed.\n",
    "\n",
    "We estimate the rate of decay to get an estimate of the $T_{1}$ time."
   ]
  },
  {
   "cell_type": "markdown",
   "metadata": {},
   "source": [
    "### Fit the data\n",
    "\n",
    "We estimate the $T_{1}$ time by fitting the data of delay times and survival probabilities to the following model:\n",
    "$$ \\mathrm{Pr(survival)} = Ae^{-t/T_{1}} + B.$$\n",
    "\n",
    "The fit to this model is done using the `T1Fitter` function. This function includes keyword arguments which ask us to specify initial guesses and bounds on $(A,T_{1}, B)$."
   ]
  },
  {
   "cell_type": "code",
   "execution_count": null,
   "metadata": {},
   "outputs": [],
   "source": [
    "# The ordering of the guesses and bounds goes (A, T_{1}, B)\n",
    "t1_fit = T1Fitter(t1_backend_result, t1_xdata, qubits,\n",
    "                  fit_p0=[1, t1_true, 0],\n",
    "                  fit_bounds=([0, 0, -1], [2, 40, 1]))"
   ]
  },
  {
   "cell_type": "markdown",
   "metadata": {},
   "source": [
    "From this fit object, we can extract several quantities of interest, including an estimated $T_{1}$ time.\n",
    "\n",
    "First though, let's plot the data to see what's going on."
   ]
  },
  {
   "cell_type": "code",
   "execution_count": null,
   "metadata": {},
   "outputs": [],
   "source": [
    "fig = plt.figure()\n",
    "ax = fig.add_axes([0,0,1,1])\n",
    "\n",
    "# Specify we want the decay curve for qubit 0.\n",
    "t1_fit.plot(0, ax=ax)"
   ]
  },
  {
   "cell_type": "markdown",
   "metadata": {},
   "source": [
    "As the delay time increases, the probability the qubit remains in the $|1\\rangle$ state goes down.\n",
    "\n",
    "The data is fit to an exponential curve, and the coefficient of decay is the estimated $T_{1}$ time.\n",
    "\n",
    "Let's check what the fit parameters are:"
   ]
  },
  {
   "cell_type": "code",
   "execution_count": null,
   "metadata": {},
   "outputs": [],
   "source": [
    "print('Estimated A, T_1, B:', t1_fit.params)\n",
    "print('Error bars on the estimates:', t1_fit.params_err)"
   ]
  },
  {
   "cell_type": "markdown",
   "metadata": {},
   "source": [
    "If we wanted just the $T_{1}$ time and error, we can use some convenience functions:"
   ]
  },
  {
   "cell_type": "code",
   "execution_count": null,
   "metadata": {},
   "outputs": [],
   "source": [
    "print('Estimated $T_{1}$ time (micro-seconds):', t1_fit.time()[0])\n",
    "print('Error bars on the estimate (micro-seconds):', t1_fit.time_err()[0])\n"
   ]
  },
  {
   "cell_type": "markdown",
   "metadata": {},
   "source": [
    "# Estimate $T_{2}$ time \n",
    "\n",
    "## Generate a $T_{2}$ experiment design\n",
    "\n",
    "There are several different kinds of $T_{2}$ experiment designs, which we look at below.\n",
    "\n",
    "The core idea of the experiment design is to measure dephasing noise affecting a qubit.\n",
    "\n",
    "Below, we set the delay to be some number of identity gates (``iden``); the gate time for an identity gate is available from the backend being characterized. Here, we hard-code it as .1 micro-seconds.\n",
    "\n",
    "Because the $T_2$ time is measured from a fit of the results of circuits with _varying_ delays, we have to specify the minimum and maximum delays."
   ]
  },
  {
   "cell_type": "code",
   "execution_count": null,
   "metadata": {},
   "outputs": [],
   "source": [
    "# Set the number of identity gates to be used in the circuits.\n",
    "# Here, the minimum number of gates is 10, and the maximum, 300.\n",
    "# We step in units of 50.\n",
    "num_of_gates = (np.linspace(5, 150, 25)).astype(int)\n",
    "\n",
    "# We hard-code the gate time for the identity as .1 micro-seconds.\n",
    "gate_time = 0.1\n",
    "\n",
    "# We specify which qubit(s) we want to measure T2 times for.\n",
    "# Note that it is possible to measure several qubits in parallel\n",
    "qubits = [0]"
   ]
  },
  {
   "cell_type": "code",
   "execution_count": null,
   "metadata": {},
   "outputs": [],
   "source": [
    "t2echo_circs, t2echo_xdata = t2_circuits(num_of_gates,\n",
    "                                         gate_time, qubits, n_echos=1, phase_alt_echo=False)"
   ]
  },
  {
   "cell_type": "code",
   "execution_count": null,
   "metadata": {},
   "outputs": [],
   "source": [
    "t2echo_circs[0].draw()"
   ]
  },
  {
   "cell_type": "markdown",
   "metadata": {},
   "source": [
    "### A slightly more sophisticated experiment design using an $RZ$ gate"
   ]
  },
  {
   "cell_type": "code",
   "execution_count": null,
   "metadata": {},
   "outputs": [],
   "source": [
    "t2star_circs, t2star_xdata, osc_freq = t2star_circuits(num_of_gates, gate_time, qubits, nosc=5)"
   ]
  },
  {
   "cell_type": "code",
   "execution_count": null,
   "metadata": {},
   "outputs": [],
   "source": [
    "t2star_circs[0].draw()"
   ]
  },
  {
   "cell_type": "markdown",
   "metadata": {},
   "source": [
    "### An even more sophisticated experiment design using CPMG-based circuits"
   ]
  },
  {
   "cell_type": "code",
   "execution_count": null,
   "metadata": {},
   "outputs": [],
   "source": [
    "t2cpmg_circs, t2cpmg_xdata = t2_circuits(num_of_gates, \n",
    "                                         gate_time, qubits, \n",
    "                                         n_echos=1, phase_alt_echo=True)"
   ]
  },
  {
   "cell_type": "code",
   "execution_count": null,
   "metadata": {},
   "outputs": [],
   "source": [
    "t2cpmg_circs[0].draw()"
   ]
  },
  {
   "cell_type": "markdown",
   "metadata": {},
   "source": [
    "## Simulate Running a $T_{2}$ experiment\n",
    "\n",
    "We'll use a simulator, and a noise model, to mock up running these circuits on hardware.\n",
    "\n",
    "### Building a noise model"
   ]
  },
  {
   "cell_type": "code",
   "execution_count": null,
   "metadata": {},
   "outputs": [],
   "source": [
    "# Assume the true T2 time is 25 micro-seconds\n",
    "t2_true = 25.0\n",
    "\n",
    "\n",
    "t2_noise_model = NoiseModel()\n",
    "\n",
    "# Notice that here we assume the T1 time is infinite,\n",
    "# so that contributions to decays caused by T1 processes\n",
    "# is zero.\n",
    "t2_noise_model.add_quantum_error(\n",
    "    thermal_relaxation_error(np.inf, t2_true, gate_time, 0.5), \n",
    "    'id', [0])"
   ]
  },
  {
   "cell_type": "markdown",
   "metadata": {},
   "source": [
    "## Run the simulation"
   ]
  },
  {
   "cell_type": "code",
   "execution_count": null,
   "metadata": {},
   "outputs": [],
   "source": [
    "# Run the simulator, where we mock up repeating each circuit\n",
    "# in the experiment design 500 times (\"shots\").\n",
    "backend = qiskit.Aer.get_backend('qasm_simulator')\n",
    "shots = 500\n",
    "\n",
    "t2star_backend_result = qiskit.execute(t2star_circs, backend, shots=shots,\n",
    "                                       noise_model=t2_noise_model, optimization_level=0).result()\n",
    "t2echo_backend_result = qiskit.execute(t2echo_circs, backend, shots=shots,\n",
    "                                       noise_model=t2_noise_model, optimization_level=0).result()\n",
    "t2cpmg_backend_result = qiskit.execute(t2cpmg_circs, backend,\n",
    "                                        shots=shots, noise_model=t2_noise_model,\n",
    "                                        optimization_level=0).result()"
   ]
  },
  {
   "cell_type": "markdown",
   "metadata": {},
   "source": [
    "The `*_backend_result` objects contain the results(\"counts\") from running the circuits in the simulator. We can access the results associated with the $j^{th}$ circuit in the experiment design by using `.get_counts(j)`."
   ]
  },
  {
   "cell_type": "code",
   "execution_count": null,
   "metadata": {},
   "outputs": [],
   "source": [
    "t2star_backend_result.get_counts(0), t2echo_backend_result.get_counts(0), t2cpmg_backend_result.get_counts(0)"
   ]
  },
  {
   "cell_type": "markdown",
   "metadata": {},
   "source": [
    "Note that each experiment design has a different structure to the circuits, so getting different counts is to be expected."
   ]
  },
  {
   "cell_type": "markdown",
   "metadata": {},
   "source": [
    "### Fit the data\n",
    "\n",
    "#### $T_{2}^{\\star}$ time\n",
    "\n",
    "For estimating the $T_{2}^{\\star}$ time, the data is fit to the model\n",
    "\n",
    "$$ \\mathrm{Pr(qubit~is~0)} = 2Ae^{-t/T_{2}^{\\star}}\\cos(2\\pi f t + \\phi) + B$$"
   ]
  },
  {
   "cell_type": "code",
   "execution_count": null,
   "metadata": {},
   "outputs": [],
   "source": [
    "t2star_fit = T2StarFitter(t2star_backend_result, t2star_xdata, qubits,\n",
    "                          fit_p0=[0.5, t2_true, osc_freq, 0, 0.5],\n",
    "                          fit_bounds=([-0.5, 0, 0, -np.pi, -0.5],\n",
    "                                      [1.5, 40, 2*osc_freq, np.pi, 1.5]))"
   ]
  },
  {
   "cell_type": "markdown",
   "metadata": {},
   "source": [
    "Let's plot the data and the fit."
   ]
  },
  {
   "cell_type": "code",
   "execution_count": null,
   "metadata": {},
   "outputs": [],
   "source": [
    "fig = plt.figure()\n",
    "ax = fig.add_axes([0,0,1,1])\n",
    "\n",
    "# Specify we want the decay curve for qubit 0.\n",
    "t2star_fit.plot(0, ax=ax)"
   ]
  },
  {
   "cell_type": "markdown",
   "metadata": {},
   "source": [
    "Let's check the fit parameters:"
   ]
  },
  {
   "cell_type": "code",
   "execution_count": null,
   "metadata": {},
   "outputs": [],
   "source": [
    "print('Estimated (A, T2*, f, phi, B):', t2star_fit.params)\n",
    "print('Error bars on the estimates:', t2star_fit.params_err)"
   ]
  },
  {
   "cell_type": "markdown",
   "metadata": {},
   "source": [
    "And if we're only interested in the estimated $T_{2}^{\\star}$ time (and its error), we use the `.time()` and `"
   ]
  },
  {
   "cell_type": "code",
   "execution_count": null,
   "metadata": {},
   "outputs": [],
   "source": [
    "print('Estimated T2* time (micro-seconds):', t2star_fit.time())\n",
    "print('Estimated error bars (micro-seconds):', t2star_fit.time_err())"
   ]
  },
  {
   "cell_type": "markdown",
   "metadata": {},
   "source": [
    "#### $T_{2}$ time\n",
    "\n",
    "For estimating the $T_{2}$ time, the data is fit to the model\n",
    "\n",
    "$$ \\mathrm{Pr(qubit~is~0)} = Ae^{-t/T_{2}} + B$$\n",
    "\n",
    "Here, we can use both the echoed and CPMG circuits to see how the experiment design impacts the estimate."
   ]
  },
  {
   "cell_type": "code",
   "execution_count": null,
   "metadata": {},
   "outputs": [],
   "source": [
    "t2echo_fit = T2Fitter(t2echo_backend_result, t2echo_xdata, qubits,\n",
    "                      fit_p0=[0.5, t2_true, 0.5],\n",
    "                      fit_bounds=([-0.5, 0, -0.5],\n",
    "                                  [1.5, 40, 1.5]))\n",
    "\n",
    "t2cpmg_fit = T2Fitter(t2cpmg_backend_result,\n",
    "                      t2cpmg_xdata, qubits,\n",
    "                      fit_p0=[0.5, t2_true, 0.5],\n",
    "                      fit_bounds=([-0.5, 0, -0.5],\n",
    "                                  [1.5, 40, 1.5]))"
   ]
  },
  {
   "cell_type": "markdown",
   "metadata": {},
   "source": [
    "Let's plot the data."
   ]
  },
  {
   "cell_type": "code",
   "execution_count": null,
   "metadata": {},
   "outputs": [],
   "source": [
    "fig = plt.figure(figsize=(15, 5))\n",
    "\n",
    "ax = fig.add_subplot(1, 2, 1)\n",
    "t2echo_fit.plot(0, ax=ax)\n",
    "ax.set_title('Echoed circuits', fontsize=15)\n",
    "\n",
    "ax = fig.add_subplot(1, 2, 2)\n",
    "t2cpmg_fit.plot(0, ax=ax)\n",
    "ax.set_title('CPMG circuits', fontsize=15)"
   ]
  },
  {
   "cell_type": "markdown",
   "metadata": {},
   "source": [
    "The data are similar, but there is variation."
   ]
  },
  {
   "cell_type": "code",
   "execution_count": null,
   "metadata": {},
   "outputs": [],
   "source": [
    "print('Using the echoed circuits, the estimated $T_{2}$ time is:', t2echo_fit.time())\n",
    "print('The error bars are estimated to be ', t2echo_fit.time_err())\n",
    "print('')\n",
    "\n",
    "print('Using the echoed circuits, the estimated $T_{2}$ time is:', t2echo_fit.time())\n",
    "print('The error bars are estimated to be ', t2echo_fit.time_err())"
   ]
  },
  {
   "cell_type": "markdown",
   "metadata": {},
   "source": [
    "# Measurement Error Mitigation\n",
    "\n",
    "## Introduction\n",
    "\n",
    "The measurement calibration is used to mitigate measurement errors. From these calibrations, it is possible to correct the average results of another experiment of interest. This notebook gives examples for how to use the ``ignis.mitigation.measurement`` module.\n",
    "\n",
    "Here, we will do a \"complete\" measurement calibration;  for more details on this and other measurement error mitigation techniques, see [this chapter](https://qiskit.org/textbook/ch-quantum-hardware/measurement-error-mitigation.html) in the Qiskit textbook."
   ]
  },
  {
   "cell_type": "code",
   "execution_count": null,
   "metadata": {},
   "outputs": [],
   "source": [
    "# Import general libraries (needed for functions)\n",
    "import numpy as np\n",
    "import time\n",
    "\n",
    "# Import Qiskit classes\n",
    "import qiskit \n",
    "from qiskit import QuantumRegister, QuantumCircuit, ClassicalRegister, Aer\n",
    "from qiskit.providers.aer import noise\n",
    "from qiskit.tools.visualization import plot_histogram\n",
    "\n",
    "# Import measurement calibration functions\n",
    "from qiskit.ignis.mitigation.measurement import (complete_meas_cal,\n",
    "                                                 CompleteMeasFitter)"
   ]
  },
  {
   "cell_type": "markdown",
   "metadata": {},
   "source": [
    "Assume that we would like to generate a calibration matrix for the 3 qubits Q0, Q1 and Q2 in a 3-qubit Quantum Register [Q0,Q1,Q2]. \n",
    "\n",
    "Since we have 3 qubits, there are $2^3=8$ possible quantum states.\n",
    "\n",
    "## Generating Measurement Calibration Circuits\n",
    "\n",
    "First, we generate a list of measurement calibration circuits for the full Hilbert space. Each circuit creates a basis state.  If there are $n=3$ qubits, then we get $2^3=8$ calibration circuits."
   ]
  },
  {
   "cell_type": "markdown",
   "metadata": {},
   "source": [
    "The following function **complete_meas_cal** returns a list **meas_calibs** of `QuantumCircuit` objects containing the calibration circuits, \n",
    "and a list **state_labels** of the calibration state labels.\n",
    "\n",
    "The input to this function can be given in one of the following three forms:\n",
    "\n",
    "- **qubit_list:** A list of qubits to perform the measurement correction on, or:\n",
    "- **qr (QuantumRegister):** A quantum register, or:\n",
    "- **cr (ClassicalRegister):** A classical register.\n",
    "\n",
    "In addition, one can provide a string **circlabel**, which is added at the beginning of the circuit names for unique identification."
   ]
  },
  {
   "cell_type": "code",
   "execution_count": null,
   "metadata": {},
   "outputs": [],
   "source": [
    "# Generate the calibration circuits\n",
    "qr = qiskit.QuantumRegister(3)\n",
    "qubit_list = [0,1,2]\n",
    "meas_calibs, state_labels = complete_meas_cal(qubit_list=qubit_list, qr=qr, circlabel='my_calibration')"
   ]
  },
  {
   "cell_type": "code",
   "execution_count": null,
   "metadata": {},
   "outputs": [],
   "source": [
    "# Look at a measurement calibration circuit.\n",
    "# This circuit simply prepares the |000> state,\n",
    "# and then immediately measures the qubits.\n",
    "meas_calibs[0].draw()"
   ]
  },
  {
   "cell_type": "code",
   "execution_count": null,
   "metadata": {},
   "outputs": [],
   "source": [
    "# Look at a measurement calibration circuit.\n",
    "# This circuit simply prepares the |111> state,\n",
    "# and then immediately measures the qubits.\n",
    "meas_calibs[-1].draw()"
   ]
  },
  {
   "cell_type": "markdown",
   "metadata": {},
   "source": [
    "## Computing the Calibration Matrix\n",
    "\n",
    "If we do not apply any noise, then the calibration matrix is expected to be the $8 \\times 8$ identity matrix."
   ]
  },
  {
   "cell_type": "code",
   "execution_count": null,
   "metadata": {},
   "outputs": [],
   "source": [
    "# Execute the calibration circuits without noise\n",
    "backend = qiskit.Aer.get_backend('qasm_simulator')\n",
    "job = qiskit.execute(meas_calibs, backend=backend, shots=1000)\n",
    "cal_results = job.result()"
   ]
  },
  {
   "cell_type": "code",
   "execution_count": null,
   "metadata": {},
   "outputs": [],
   "source": [
    "# The calibration matrix without noise is the identity matrix\n",
    "meas_fitter = CompleteMeasFitter(cal_results, state_labels)\n",
    "print(meas_fitter.cal_matrix)"
   ]
  },
  {
   "cell_type": "markdown",
   "metadata": {},
   "source": [
    "Assume that we apply some noise model from Qiskit Aer to the 3 qubits, \n",
    "then the calibration matrix will have most of its mass on the main diagonal, with some additional 'noise'.\n",
    "\n",
    "Alternatively, we can execute the calibration circuits on real quantum systems using the IBMQ provider."
   ]
  },
  {
   "cell_type": "code",
   "execution_count": null,
   "metadata": {},
   "outputs": [],
   "source": [
    "# Generate a noise model for the 3 qubits.\n",
    "# We will use a model wherein, for each qubit,\n",
    "# the following are the probabilities of measurement outcomes:\n",
    "# Pr(\"0\" | |0>) = .9 & Pr(\"1\" | |1>) = .75\n",
    "\n",
    "# Encode measurement probabilities for |0> state\n",
    "readout_error0 = [.9, .1]\n",
    "\n",
    "# Encode measurement probabilities for |1> state\n",
    "readout_error1 = [.25, .75]\n",
    "\n",
    "noise_model = noise.NoiseModel()\n",
    "for qi in range(3):\n",
    "    read_err = noise.errors.readout_error.ReadoutError([readout_error0, readout_error1])\n",
    "    noise_model.add_readout_error(read_err, [qi])"
   ]
  },
  {
   "cell_type": "code",
   "execution_count": null,
   "metadata": {},
   "outputs": [],
   "source": [
    "# Execute the calibration circuits\n",
    "backend = qiskit.Aer.get_backend('qasm_simulator')\n",
    "job = qiskit.execute(meas_calibs, backend=backend, shots=1000, noise_model=noise_model)\n",
    "cal_results = job.result()"
   ]
  },
  {
   "cell_type": "code",
   "execution_count": null,
   "metadata": {},
   "outputs": [],
   "source": [
    "# Calculate the calibration matrix with the noise model\n",
    "meas_fitter = CompleteMeasFitter(cal_results, state_labels, qubit_list=qubit_list)\n",
    "print(meas_fitter.cal_matrix)"
   ]
  },
  {
   "cell_type": "code",
   "execution_count": null,
   "metadata": {},
   "outputs": [],
   "source": [
    "# Let's plot it, for easier visualization\n",
    "meas_fitter.plot_calibration()"
   ]
  },
  {
   "cell_type": "markdown",
   "metadata": {},
   "source": [
    "Most of the weight of the entries of this matrix is along the diagonal (meaning little mis-assignment of the states of the qubits), but there is some weight in the off-diagonals. So sometimes, when we have prepared a state, we'll mis-assign it.\n",
    "\n",
    "## Analyzing the Results\n",
    "\n",
    "We would like to compute the total measurement fidelity, and the measurement fidelity for a specific qubit, for example, Q0.\n",
    "\n",
    "Since the on-diagonal elements of the calibration matrix are the probabilities of measuring state $j$ given preparation of state $j$, \n",
    "then the trace of this matrix is the average assignment fidelity:\n",
    "\n",
    "$$\\mathrm{Pr(~successful~assignment)} = \\sum_{j}\\mathrm{Pr}(j|j)$$"
   ]
  },
  {
   "cell_type": "code",
   "execution_count": null,
   "metadata": {},
   "outputs": [],
   "source": [
    "# What is the measurement fidelity?\n",
    "print(\"Average Measurement Fidelity: %f\" % meas_fitter.readout_fidelity())"
   ]
  },
  {
   "cell_type": "markdown",
   "metadata": {},
   "source": [
    "## Applying the Calibration\n",
    "\n",
    "We now perform another experiment and correct the measured results. \n",
    "\n",
    "## Correct Measurement Noise on a 3Q GHZ State\n",
    "\n",
    "As an example, let's prepare a 3-qubit GHZ state:\n",
    "\n",
    "$$ \\mid GHZ \\rangle = \\frac{\\mid{000} \\rangle + \\mid{111} \\rangle}{\\sqrt{2}}$$"
   ]
  },
  {
   "cell_type": "code",
   "execution_count": null,
   "metadata": {},
   "outputs": [],
   "source": [
    "# Make a 3Q GHZ state\n",
    "ghz = QuantumCircuit(qr)\n",
    "ghz.h(qr[0])\n",
    "ghz.cx(qr[0], qr[1])\n",
    "ghz.cx(qr[0], qr[2])\n",
    "ghz.measure_all()"
   ]
  },
  {
   "cell_type": "code",
   "execution_count": null,
   "metadata": {},
   "outputs": [],
   "source": [
    "# Draw the circuit, so we know what we're dealing with.\n",
    "ghz.draw(output='mpl')"
   ]
  },
  {
   "cell_type": "markdown",
   "metadata": {},
   "source": [
    "We now execute the calibration circuits (with the same noise model as above):"
   ]
  },
  {
   "cell_type": "code",
   "execution_count": null,
   "metadata": {},
   "outputs": [],
   "source": [
    "job = qiskit.execute([ghz], backend=backend, shots=5000, noise_model=noise_model)\n",
    "results = job.result()"
   ]
  },
  {
   "cell_type": "markdown",
   "metadata": {},
   "source": [
    "We now compute the results without any error mitigation and with the mitigation, namely after applying the calibration matrix to the results.\n",
    "\n",
    "There are two fitting methods for applying the calibration (if no method is defined, then 'least_squares' is used). \n",
    "- **'pseudo_inverse'**, which is a direct inversion of the calibration matrix, \n",
    "- **'least_squares'**, which constrains to have physical probabilities.\n",
    "\n",
    "The raw data to be corrected can be given in a number of forms:\n",
    "\n",
    "- Form1: A counts dictionary from results.get_counts,\n",
    "- Form2: A list of counts of length=len(state_labels),\n",
    "- Form3: A list of counts of length=M*len(state_labels) where M is an integer (e.g. for use with the tomography data),\n",
    "- Form4: A qiskit Result (e.g. results as above)."
   ]
  },
  {
   "cell_type": "code",
   "execution_count": null,
   "metadata": {},
   "outputs": [],
   "source": [
    "# Results without mitigation\n",
    "raw_counts = results.get_counts()\n",
    "\n",
    "# Get the filter object\n",
    "meas_filter = meas_fitter.filter\n",
    "\n",
    "# Results with mitigation\n",
    "mitigated_results = meas_filter.apply(results)\n",
    "mitigated_counts = mitigated_results.get_counts(0)"
   ]
  },
  {
   "cell_type": "markdown",
   "metadata": {},
   "source": [
    "Let's plot the raw and mitigated counts.\n",
    "\n",
    "For an ideal GHZ state, we should see `000` and `111` both with probability 1/2."
   ]
  },
  {
   "cell_type": "code",
   "execution_count": null,
   "metadata": {},
   "outputs": [],
   "source": [
    "from qiskit.tools.visualization import *\n",
    "plot_histogram([raw_counts, mitigated_counts], legend=['raw', 'mitigated'])"
   ]
  },
  {
   "cell_type": "markdown",
   "metadata": {},
   "source": [
    "The mitigated counts are much closer to the ideal!"
   ]
  },
  {
   "cell_type": "markdown",
   "metadata": {},
   "source": [
    "## Applying to a reduced subset of qubits\n",
    "\n",
    "Consider now that we want to correct a 2-qubit Bell state, but we have the 3-qubit calibration matrix. We can reduce the matrix and build a new mitigation object."
   ]
  },
  {
   "cell_type": "code",
   "execution_count": null,
   "metadata": {},
   "outputs": [],
   "source": [
    "# Make a 2Q Bell state between Q0 and Q2\n",
    "cr = ClassicalRegister(2)\n",
    "bell = QuantumCircuit(qr, cr)\n",
    "bell.h(qr[0])\n",
    "bell.cx(qr[0], qr[2])\n",
    "bell.measure(qr[0],cr[0])\n",
    "bell.measure(qr[2],cr[1])"
   ]
  },
  {
   "cell_type": "code",
   "execution_count": null,
   "metadata": {},
   "outputs": [],
   "source": [
    "# Let's draw the circuit, so we know what we're working with.\n",
    "bell.draw(output='mpl')"
   ]
  },
  {
   "cell_type": "markdown",
   "metadata": {},
   "source": [
    "We'll simulate running this circuit on HW using the same noise model as we did for the GHZ state."
   ]
  },
  {
   "cell_type": "code",
   "execution_count": null,
   "metadata": {},
   "outputs": [],
   "source": [
    "job = qiskit.execute([bell], backend=backend, shots=5000, noise_model=noise_model)\n",
    "results = job.result()"
   ]
  },
  {
   "cell_type": "markdown",
   "metadata": {},
   "source": [
    "Now, to mitigate these results, we need to reduce the calibration matrix to one which only acts on qubits 0 and 2."
   ]
  },
  {
   "cell_type": "code",
   "execution_count": null,
   "metadata": {},
   "outputs": [],
   "source": [
    "#build a fitter from the subset\n",
    "meas_fitter_sub = meas_fitter.subset_fitter(qubit_sublist=[0,2])"
   ]
  },
  {
   "cell_type": "code",
   "execution_count": null,
   "metadata": {},
   "outputs": [],
   "source": [
    "#The calibration matrix is now in the space Q0/Q2\n",
    "meas_fitter_sub.cal_matrix"
   ]
  },
  {
   "cell_type": "markdown",
   "metadata": {},
   "source": [
    "Let's plot the raw and mitigated counts.\n",
    "\n",
    "For an ideal Bell state, we should see `00` and `11` with probability 1/2."
   ]
  },
  {
   "cell_type": "code",
   "execution_count": null,
   "metadata": {},
   "outputs": [],
   "source": [
    "# Results without mitigation\n",
    "raw_counts = results.get_counts()\n",
    "\n",
    "# Get the filter object\n",
    "meas_filter_sub = meas_fitter_sub.filter\n",
    "\n",
    "# Results with mitigation\n",
    "mitigated_results = meas_filter_sub.apply(results)\n",
    "mitigated_counts = mitigated_results.get_counts(0)\n",
    "from qiskit.tools.visualization import *\n",
    "plot_histogram([raw_counts, mitigated_counts], legend=['raw', 'mitigated'])"
   ]
  },
  {
   "cell_type": "markdown",
   "metadata": {},
   "source": [
    "Again, the mitigated results are in much closer agreement to the ideal probabilities."
   ]
  }
 ],
 "metadata": {
  "anaconda-cloud": {},
  "hide_input": false,
  "kernelspec": {
   "display_name": "Python 3",
   "language": "python",
   "name": "python3"
  },
  "language_info": {
   "codemirror_mode": {
    "name": "ipython",
    "version": 3
   },
   "file_extension": ".py",
   "mimetype": "text/x-python",
   "name": "python",
   "nbconvert_exporter": "python",
   "pygments_lexer": "ipython3",
   "version": "3.7.1"
  },
  "nteract": {
   "version": "0.22.0"
  },
  "varInspector": {
   "cols": {
    "lenName": 16,
    "lenType": 16,
    "lenVar": 40
   },
   "kernels_config": {
    "python": {
     "delete_cmd_postfix": "",
     "delete_cmd_prefix": "del ",
     "library": "var_list.py",
     "varRefreshCmd": "print(var_dic_list())"
    },
    "r": {
     "delete_cmd_postfix": ") ",
     "delete_cmd_prefix": "rm(",
     "library": "var_list.r",
     "varRefreshCmd": "cat(var_dic_list()) "
    }
   },
   "types_to_exclude": [
    "module",
    "function",
    "builtin_function_or_method",
    "instance",
    "_Feature"
   ],
   "window_display": false
  }
 },
 "nbformat": 4,
 "nbformat_minor": 2
}
