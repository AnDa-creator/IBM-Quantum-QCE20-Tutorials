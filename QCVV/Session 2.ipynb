{
 "cells": [
  {
   "cell_type": "markdown",
   "metadata": {},
   "source": [
    "# Session 2\n",
    "\n",
    "# Randomized Benchmarking\n",
    "\n",
    "\n",
    "## Introduction\n",
    "\n",
    "**Randomization benchmarking (RB)** is a technique to estimate average gate performance, by leveraging self-inverting circuits (i.e., circuits whose composite action is to, ideally, implement the identity gate.)\n",
    "\n",
    "Qiskit Ignis has tools to generate one- and two-qubit RB sequences based on self-inverting circuits comprised of Clifford gates.\n",
    "\n",
    "This notebook gives an example for how to use the ``ignis.verification.randomized_benchmarking`` module. This particular example shows how to run 2-qubit randomized benchmarking (RB) simultaneous with 1-qubit RB. There are also examples on how to use some of the companion functions for predicting RB fidelity.\n",
    "\n",
    "For more details on RB, see [this chapter](https://qiskit.org/textbook/ch-quantum-hardware/randomized-benchmarking.html) in the Qiskit textbook."
   ]
  },
  {
   "cell_type": "code",
   "execution_count": null,
   "metadata": {
    "ExecuteTime": {
     "end_time": "2019-12-10T21:49:09.958187Z",
     "start_time": "2019-12-10T21:49:08.131232Z"
    }
   },
   "outputs": [],
   "source": [
    "#Import general libraries (needed for functions)\n",
    "import numpy as np\n",
    "import matplotlib.pyplot as plt\n",
    "from IPython import display\n",
    "\n",
    "#Import Qiskit classes\n",
    "import qiskit\n",
    "from qiskit.providers.aer.noise import NoiseModel\n",
    "from qiskit.providers.aer.noise.errors.standard_errors import depolarizing_error, thermal_relaxation_error\n",
    "\n",
    "#Import the RB Functions\n",
    "import qiskit.ignis.verification.randomized_benchmarking as rb"
   ]
  },
  {
   "cell_type": "code",
   "execution_count": null,
   "metadata": {},
   "outputs": [],
   "source": [
    "from qiskit import IBMQ\n",
    "IBMQ.load_account()"
   ]
  },
  {
   "cell_type": "code",
   "execution_count": null,
   "metadata": {},
   "outputs": [],
   "source": [
    "hub = 'ibm-q'\n",
    "group = 'open'\n",
    "project = 'main'\n",
    "\n",
    "provider = IBMQ.get_provider(hub, group, project)\n",
    "\n",
    "provider.backends()"
   ]
  },
  {
   "cell_type": "code",
   "execution_count": null,
   "metadata": {},
   "outputs": [],
   "source": [
    "backend = provider.get_backend('ibmq_valencia')\n",
    "props = backend.properties()"
   ]
  },
  {
   "cell_type": "markdown",
   "metadata": {},
   "source": [
    "Let's take a look at some of the properties of the gates on Valencia.\n",
    "\n",
    "For details on these gates, see this documentation on [Qiskit's circuit library](https://qiskit.org/documentation/apidoc/circuit_library.html)."
   ]
  },
  {
   "cell_type": "code",
   "execution_count": null,
   "metadata": {},
   "outputs": [],
   "source": [
    "# General single-qubit unitary\n",
    "props.gate_property('u3')"
   ]
  },
  {
   "cell_type": "code",
   "execution_count": null,
   "metadata": {},
   "outputs": [],
   "source": [
    "# Average single-qubit gate error across all 5 qubits\n",
    "np.round(np.mean(np.array([props.gate_property('u3')[(j,)]['gate_error'][0] for j in range(5)])), 5)"
   ]
  },
  {
   "cell_type": "code",
   "execution_count": null,
   "metadata": {},
   "outputs": [],
   "source": [
    "# Two-qubit CNOT gate\n",
    "props.gate_property('cx')"
   ]
  },
  {
   "cell_type": "markdown",
   "metadata": {},
   "source": [
    "## Generate a 1-qubit RB experiment design\n",
    "\n",
    "An RB experiment design is a set of circuits that act on some number of qubits. Each circuit has the form $C_{1}C_{2}\\cdots C_{L}C^{-1}$, where $C_{j}$ are Clifford gates, and $C = C_{1}C_{2}\\cdots C_{L}$. In the ideal case, this circuit is self-inverting: $C_{1}C_{2}\\cdots C_{L}C^{-1} = I$.\n",
    "\n",
    "Given a length $L$, there are many Clifford circuits with that length. Consequently, we need to sample over the Clifford group to generate an ensemble of circuits with that length.\n",
    "\n",
    "First, we'll start with a 1-qubit RB experiment design."
   ]
  },
  {
   "cell_type": "code",
   "execution_count": null,
   "metadata": {
    "ExecuteTime": {
     "end_time": "2019-12-10T21:49:09.963476Z",
     "start_time": "2019-12-10T21:49:09.960218Z"
    }
   },
   "outputs": [],
   "source": [
    "#Number of Cliffords in the sequence (start, stop, steps)\n",
    "lengths = np.arange(1,50,2)\n",
    "\n",
    "#Number of seeds (random sequences) for each length\n",
    "nSeeds = 10\n",
    "\n",
    "# Specify that we want to do RB on qubit 0 on the backend\n",
    "rb_pattern = [[0]]"
   ]
  },
  {
   "cell_type": "markdown",
   "metadata": {},
   "source": [
    "Now that we've set the parameters of the expeirment design, we need to generate the circuits and some other data necessary to analyze the results.\n",
    "\n",
    "We use Qiskit's`rb.randomized_benchmarking_seq` to do this.\n",
    "\n",
    "This function returns:\n",
    "\n",
    "- **rb_circs:** A list of lists of circuits for the rb sequences (separate list for each seed).\n",
    "- **xdata:** The Clifford lengths (with multiplier if applicable)."
   ]
  },
  {
   "cell_type": "code",
   "execution_count": null,
   "metadata": {
    "ExecuteTime": {
     "end_time": "2019-12-10T21:49:15.001889Z",
     "start_time": "2019-12-10T21:49:09.966440Z"
    },
    "scrolled": false
   },
   "outputs": [],
   "source": [
    "rb_circs, xdata = rb.randomized_benchmarking_seq(length_vector=lengths, nseeds=nSeeds, rb_pattern=rb_pattern)"
   ]
  },
  {
   "cell_type": "markdown",
   "metadata": {},
   "source": [
    "The `rb_circs` are indexed as `rb_circs[seed][length]`. Let's look at some."
   ]
  },
  {
   "cell_type": "code",
   "execution_count": null,
   "metadata": {
    "ExecuteTime": {
     "end_time": "2019-12-10T21:49:15.015115Z",
     "start_time": "2019-12-10T21:49:15.004449Z"
    }
   },
   "outputs": [],
   "source": [
    "# First seed, first length\n",
    "rb_circs[0][0].draw(output='mpl')"
   ]
  },
  {
   "cell_type": "code",
   "execution_count": null,
   "metadata": {
    "scrolled": false
   },
   "outputs": [],
   "source": [
    "# First seed, last length\n",
    "rb_circs[0][-1].draw(output='mpl')"
   ]
  },
  {
   "cell_type": "markdown",
   "metadata": {},
   "source": [
    "## Simulate running RB"
   ]
  },
  {
   "cell_type": "markdown",
   "metadata": {},
   "source": [
    "Here, we'll simulate running RB on hardware. \n",
    "\n",
    "We define a noise model for the simulator. Since we're doing single-qubit RB, we'll make a simple noise model of  depolarizing error probabilities to the  $u$-gates."
   ]
  },
  {
   "cell_type": "code",
   "execution_count": null,
   "metadata": {
    "ExecuteTime": {
     "end_time": "2019-12-10T21:49:16.809930Z",
     "start_time": "2019-12-10T21:49:16.806016Z"
    }
   },
   "outputs": [],
   "source": [
    "noise_model = NoiseModel()\n",
    "p1Q = 0.00079\n",
    "\n",
    "noise_model.add_all_qubit_quantum_error(depolarizing_error(p1Q, 1), 'u2')\n",
    "noise_model.add_all_qubit_quantum_error(depolarizing_error(2*p1Q, 1), 'u3')"
   ]
  },
  {
   "cell_type": "markdown",
   "metadata": {},
   "source": [
    "## Execute the RB sequences\n",
    "\n",
    "We simulate the RB sequences either using Qiskit simulator (with the noise model above)."
   ]
  },
  {
   "cell_type": "code",
   "execution_count": null,
   "metadata": {},
   "outputs": [],
   "source": [
    "backend = qiskit.Aer.get_backend('qasm_simulator')\n",
    "basis_gates = ['u1','u2','u3','cx'] # use U,CX for now\n",
    "shots = 200\n",
    "result_list = []\n",
    "transpile_list = []\n",
    "import time\n",
    "for rb_seed,rb_circ_seed in enumerate(rb_circs):\n",
    "    print('Compiling seed %d'%rb_seed)\n",
    "    rb_circ_transpile = qiskit.transpile(rb_circ_seed, basis_gates=basis_gates)\n",
    "    print('Simulating seed %d'%rb_seed)\n",
    "    job = qiskit.execute(rb_circ_transpile, noise_model=noise_model, shots=shots, backend=backend,\\\n",
    "                         backend_options={'max_parallel_experiments': 0})\n",
    "    result_list.append(job.result())\n",
    "    transpile_list.append(rb_circ_transpile)    \n",
    "print(\"Finished Simulating\")"
   ]
  },
  {
   "cell_type": "markdown",
   "metadata": {},
   "source": [
    "## Fit the RB results to a model\n",
    "\n",
    "### Get statistics about the survival probabilities\n",
    "\n",
    "The results in **result_list** should fit to an exponentially decaying function $A \\cdot \\alpha ^ m + B$, where $m$ is the Clifford length.\n",
    "\n",
    "From $\\alpha$ we can calculate the **Error per Clifford (EPC)**:\n",
    "$$ \\mathrm{EPC} = \\frac{2^n-1}{2^n} (1-\\alpha)$$\n",
    "(where $n$ is the number of qubits)."
   ]
  },
  {
   "cell_type": "code",
   "execution_count": null,
   "metadata": {
    "ExecuteTime": {
     "end_time": "2019-12-10T21:49:51.169855Z",
     "start_time": "2019-12-10T21:49:51.146737Z"
    }
   },
   "outputs": [],
   "source": [
    "#Create an RBFitter object and fit the data\n",
    "rbfit = rb.fitters.RBFitter(result_list, xdata)"
   ]
  },
  {
   "cell_type": "code",
   "execution_count": null,
   "metadata": {},
   "outputs": [],
   "source": [
    "fig = plt.figure()\n",
    "ax = fig.add_axes([0,0,1,1])\n",
    "rbfit.plot_rb_data(ax=ax)"
   ]
  },
  {
   "cell_type": "markdown",
   "metadata": {},
   "source": [
    "## Generate a 2-qubit RB experiment design\n",
    "\n",
    "As in the 1-qubit case, an RB experiment design is a set of circuits that act on some number of qubits. Each circuit has the form $C_{1}C_{2}\\cdots C_{L}C^{-1}$, where $C_{j}$ are Clifford gates, and $C = C_{1}C_{2}\\cdots C_{L}$. In the ideal case, this circuit is self-inverting: $C_{1}C_{2}\\cdots C_{L}C^{-1} = I$.\n",
    "\n",
    "For the 2-qubit RB experiment design, each Clifford will act on 2 qubits.\n",
    "\n",
    "Given a length $L$, there are many Clifford circuits with that length. Consequently, we need to sample over the Clifford group to generate an ensemble of circuits with that length."
   ]
  },
  {
   "cell_type": "code",
   "execution_count": null,
   "metadata": {},
   "outputs": [],
   "source": [
    "#Number of Cliffords in the sequence (start, stop, steps)\n",
    "lengths = np.arange(1,50,2)\n",
    "\n",
    "#Number of seeds (random sequences) for each length\n",
    "nSeeds = 5\n",
    "\n",
    "# Specify that we want to do RB on qubits 0 and 1 on the backend\n",
    "rb_pattern = [[0, 1]]"
   ]
  },
  {
   "cell_type": "code",
   "execution_count": null,
   "metadata": {},
   "outputs": [],
   "source": [
    "rb_circs, xdata = rb.randomized_benchmarking_seq(length_vector=lengths, nseeds=nSeeds, rb_pattern=rb_pattern)"
   ]
  },
  {
   "cell_type": "code",
   "execution_count": null,
   "metadata": {},
   "outputs": [],
   "source": [
    "# First seed, first length\n",
    "rb_circs[0][0].draw(output='mpl')"
   ]
  },
  {
   "cell_type": "code",
   "execution_count": null,
   "metadata": {},
   "outputs": [],
   "source": [
    "# First seed, last length\n",
    "rb_circs[0][-1].draw(output='mpl')"
   ]
  },
  {
   "cell_type": "markdown",
   "metadata": {},
   "source": [
    "## Simulate running RB\n",
    "Here, we'll simulate running RB on hardware. \n",
    "\n",
    "We define a noise model for the simulator. Since we're doing two-qubit RB, we'll need to include noise that acts on the 2-qubit CNOT gate, in addition to noise acting on the single-qubit $u$ gates."
   ]
  },
  {
   "cell_type": "code",
   "execution_count": null,
   "metadata": {},
   "outputs": [],
   "source": [
    "noise_model = NoiseModel()\n",
    "p1Q = 0.00079\n",
    "p2Q = .01\n",
    "\n",
    "# For the single-qubit gates ,we'll use the same noise model as before...\n",
    "noise_model.add_all_qubit_quantum_error(depolarizing_error(p1Q, 1), 'u2')\n",
    "noise_model.add_all_qubit_quantum_error(depolarizing_error(2*p1Q, 1), 'u3')\n",
    "\n",
    "# ...but add in noise on the CNOT gate\n",
    "noise_model.add_all_qubit_quantum_error(depolarizing_error(p2Q, 2), 'cx')"
   ]
  },
  {
   "cell_type": "markdown",
   "metadata": {},
   "source": [
    "## Execute the RB sequences\n",
    "\n",
    "We simulate the RB sequences either using Qiskit simulator (with the noise model above)."
   ]
  },
  {
   "cell_type": "code",
   "execution_count": null,
   "metadata": {},
   "outputs": [],
   "source": [
    "backend = qiskit.Aer.get_backend('qasm_simulator')\n",
    "basis_gates = ['u1','u2','u3','cx'] # use U,CX for now\n",
    "shots = 200\n",
    "result_list = []\n",
    "transpile_list = []\n",
    "import time\n",
    "for rb_seed,rb_circ_seed in enumerate(rb_circs):\n",
    "    print('Compiling seed %d'%rb_seed)\n",
    "    rb_circ_transpile = qiskit.transpile(rb_circ_seed, basis_gates=basis_gates)\n",
    "    print('Simulating seed %d'%rb_seed)\n",
    "    job = qiskit.execute(rb_circ_transpile, noise_model=noise_model, shots=shots, backend=backend,\\\n",
    "                         backend_options={'max_parallel_experiments': 0})\n",
    "    result_list.append(job.result())\n",
    "    transpile_list.append(rb_circ_transpile)    \n",
    "print(\"Finished Simulating\")"
   ]
  },
  {
   "cell_type": "markdown",
   "metadata": {},
   "source": [
    "## Fit the RB results to a model\n",
    "\n",
    "### Get statistics about the survival probabilities\n",
    "\n",
    "The results in **result_list** should fit to an exponentially decaying function $A \\cdot \\alpha ^ m + B$, where $m$ is the Clifford length.\n",
    "\n",
    "From $\\alpha$ we can calculate the **Error per Clifford (EPC)**:\n",
    "$$ \\mathrm{EPC} = \\frac{2^n-1}{2^n} (1-\\alpha)$$\n",
    "(where $n$ is the number of qubits)."
   ]
  },
  {
   "cell_type": "code",
   "execution_count": null,
   "metadata": {},
   "outputs": [],
   "source": [
    "#Create an RBFitter object and fit the data\n",
    "rbfit = rb.fitters.RBFitter(result_list, xdata)"
   ]
  },
  {
   "cell_type": "code",
   "execution_count": null,
   "metadata": {},
   "outputs": [],
   "source": [
    "fig = plt.figure()\n",
    "ax = fig.add_axes([0,0,1,1])\n",
    "rbfit.plot_rb_data(ax=ax)"
   ]
  },
  {
   "cell_type": "code",
   "execution_count": null,
   "metadata": {},
   "outputs": [],
   "source": []
  }
 ],
 "metadata": {
  "kernelspec": {
   "display_name": "Python 3",
   "language": "python",
   "name": "python3"
  },
  "language_info": {
   "codemirror_mode": {
    "name": "ipython",
    "version": 3
   },
   "file_extension": ".py",
   "mimetype": "text/x-python",
   "name": "python",
   "nbconvert_exporter": "python",
   "pygments_lexer": "ipython3",
   "version": "3.7.1"
  },
  "varInspector": {
   "cols": {
    "lenName": 16,
    "lenType": 16,
    "lenVar": 40
   },
   "kernels_config": {
    "python": {
     "delete_cmd_postfix": "",
     "delete_cmd_prefix": "del ",
     "library": "var_list.py",
     "varRefreshCmd": "print(var_dic_list())"
    },
    "r": {
     "delete_cmd_postfix": ") ",
     "delete_cmd_prefix": "rm(",
     "library": "var_list.r",
     "varRefreshCmd": "cat(var_dic_list()) "
    }
   },
   "types_to_exclude": [
    "module",
    "function",
    "builtin_function_or_method",
    "instance",
    "_Feature"
   ],
   "window_display": false
  }
 },
 "nbformat": 4,
 "nbformat_minor": 2
}
