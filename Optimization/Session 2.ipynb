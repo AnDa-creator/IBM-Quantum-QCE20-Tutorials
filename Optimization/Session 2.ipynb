{
 "cells": [
  {
   "cell_type": "markdown",
   "metadata": {},
   "source": [
    "# Session 2: Variational Quantum Optimization\n",
    "\n",
    "In the last session we saw how to take an optimization problem written in DOcplex, map it to Qiskit's `QuadraticProgram` object, re-write the quadratic program as a QUBO, and map the QUBO on to an Ising Hamiltonian.\n",
    "\n",
    "In this session, we'll discuss variational algorithms for estimating the ground state energy (and ground state) of the corresponding Ising Hamiltonian, which in turn gives us an estimate of the optimal value of the objective function, and the bitstring(s) which provide an optimal solution.\n",
    "\n",
    "We'll start by discussing the Variational Quantum Eigensolver, then Trotterized annealing, and the Quantum Approximate Optimization Algorithm."
   ]
  },
  {
   "cell_type": "markdown",
   "metadata": {},
   "source": [
    "## From last time: MaxCut on a graph"
   ]
  },
  {
   "cell_type": "code",
   "execution_count": null,
   "metadata": {},
   "outputs": [],
   "source": [
    "# Some standard code imports\n",
    "import matplotlib.pyplot as plt\n",
    "import matplotlib.axes as axes\n",
    "import numpy as np\n",
    "\n",
    "# For drawing graphs\n",
    "import networkx as nx\n",
    "\n",
    "# Qiskit imports\n",
    "from qiskit import Aer, execute, QuantumCircuit\n",
    "from qiskit.quantum_info import Statevector\n",
    "from qiskit.optimization.converters import QuadraticProgramToQubo\n",
    "from qiskit.optimization import QuadraticProgram\n",
    "\n",
    "# auxilliary function to plot graphs\n",
    "def plot_result(G, x):\n",
    "    colors = ['r' if x[i] == 0 else 'b' for i in range(n)]\n",
    "    pos, default_axes = nx.spring_layout(G), plt.axes(frameon=True)\n",
    "    nx.draw_networkx(G, node_color=colors, node_size=600, alpha=.8, pos=pos)"
   ]
  },
  {
   "cell_type": "code",
   "execution_count": null,
   "metadata": {},
   "outputs": [],
   "source": [
    "#-------------------------MAKING THE GRAPH---------------------------#\n",
    "# Create graph\n",
    "G = nx.Graph()\n",
    "\n",
    "# Add 5 nodes\n",
    "n = 5\n",
    "G.add_nodes_from(range(n))\n",
    "\n",
    "# Add edges: tuple is (i,j,weight) where (i,j) is the edge\n",
    "edges = [(0, 1, 1.0), (0, 2, 1.0), (0, 3, 1.0), (1, 2, 1.0), (2, 3, 1.0), (2, 4, 1.0), (3, 4, 1.0)]\n",
    "G.add_weighted_edges_from(edges)\n",
    "\n",
    "#-----------------------WRITING A DOCPLEX MODEL--------------------#\n",
    "# Import a model from DOcplex\n",
    "from docplex.mp.model import Model\n",
    "\n",
    "# Name the model\n",
    "mdl = Model('MaxCut')\n",
    "\n",
    "# Add a binary variable to the model for each node in the graph\n",
    "x = mdl.binary_var_list('x{}'.format(i) for i in range(n))\n",
    "\n",
    "# Define the objective function\n",
    "objective = mdl.sum([ w * (x[i] + x[j] - 2*x[i]*x[j]) for (i, j, w) in edges])\n",
    "\n",
    "# And let's maximize it!\n",
    "mdl.maximize(objective)\n",
    "\n",
    "# Add an equality constraint\n",
    "b = 2\n",
    "mdl.add_constraint(mdl.sum(x) == b)\n",
    "\n",
    "#--------------------CONVERSION TO ISING, VIA QUADRATICPROGRAM-----#\n",
    "# Set up the quadratic program\n",
    "qp = QuadraticProgram()\n",
    "\n",
    "# Put the model inside it\n",
    "qp.from_docplex(mdl)\n",
    "\n",
    "# Convert the program to a QUBO\n",
    "qp_eq = QuadraticProgramToQubo(penalty=10).convert(qp)\n",
    "\n",
    "H, offset = qp_eq.to_ising()"
   ]
  },
  {
   "cell_type": "code",
   "execution_count": null,
   "metadata": {},
   "outputs": [],
   "source": [
    "H_matrix = np.real(H.to_matrix())\n",
    "\n",
    "#Get the set of basis states which have the lowest energy\n",
    "opt_indices = list(np.where(H_matrix.diagonal() == min(H_matrix.diagonal())))[0]\n",
    "plt.figure(figsize=(12, 5))\n",
    "\n",
    "print('Minimum energy for Hamiltonian: {0}'.format(min(H_matrix.diagonal())))\n",
    "# Plot the expectation value of the energy of different basis states,\n",
    "# and color those basis states which would have the lowest energy\n",
    "plt.bar(range(2**n), H_matrix.diagonal())\n",
    "plt.bar(opt_indices, H_matrix.diagonal()[opt_indices], color='g')\n",
    "plt.xticks(range(2**n), ['('+str(i)+') {0:05b}'.format(i) for i in range(2**n)], rotation=90, fontsize=14)\n",
    "plt.yticks(fontsize=14)\n",
    "plt.show()"
   ]
  },
  {
   "cell_type": "markdown",
   "metadata": {},
   "source": [
    "## The Variational Quantum Eigensolver (VQE)\n",
    "\n",
    "\n",
    "For VQE, the minimization over all $|\\psi\\rangle$ is replaced by a minimization over a parametrized subset $|\\psi(\\theta)\\rangle$:\n",
    "<br>\n",
    "\n",
    "$$\n",
    "\\min_{\\theta} \\langle \\psi(\\theta) |H| \\psi(\\theta) \\rangle\n",
    "$$\n",
    "\n",
    "Let's use [Qiskit's Circuit Library](https://qiskit.org/documentation/apidoc/circuit_library.html) to set up a VQE ansatz.\n",
    "\n",
    "We'll use the [`RealAmplitudes` ansatz](https://qiskit.org/documentation/stubs/qiskit.circuit.library.RealAmplitudes.html#qiskit.circuit.library.RealAmplitudes)."
   ]
  },
  {
   "cell_type": "code",
   "execution_count": null,
   "metadata": {},
   "outputs": [],
   "source": [
    "from qiskit.circuit.library import RealAmplitudes\n",
    "\n",
    "# Set up an ansatz with 5 qubits, and 1 repretition of the pattern.\n",
    "qc = RealAmplitudes(5, reps=1)\n",
    "qc.draw(output='mpl')"
   ]
  },
  {
   "cell_type": "markdown",
   "metadata": {},
   "source": [
    "We can see the pattern of $RY$-gates, then all-to-all entangling gates, followed by another layer of $RY$-gates.\n",
    "\n",
    "This ansatz has 10 parameters (5 qubits * 2 paramerized $RY$-gates per qubit)."
   ]
  },
  {
   "cell_type": "markdown",
   "metadata": {},
   "source": [
    "Given this ansatz, let's do VQE with it."
   ]
  },
  {
   "cell_type": "code",
   "execution_count": null,
   "metadata": {},
   "outputs": [],
   "source": [
    "# Run VQE\n",
    "from qiskit.aqua.algorithms import VQE\n",
    "\n",
    "# We put in the Hamiltonian encoding our optimization problem,\n",
    "# plus the quantum circuit for the ansatz,\n",
    "# plus a \"quantum_instance\" that tells Qiskit what backend to use to run VQE\n",
    "vqe = VQE(H, qc, quantum_instance=Aer.get_backend('statevector_simulator'))\n",
    "result = vqe.run()\n",
    "print('Estimated optimal value:', np.round(result.eigenvalue, decimals=4))"
   ]
  },
  {
   "cell_type": "markdown",
   "metadata": {},
   "source": [
    "Let's take a look at which bitstring(s) we're most likely to get if we were to measure the optimized ansatz."
   ]
  },
  {
   "cell_type": "code",
   "execution_count": null,
   "metadata": {},
   "outputs": [],
   "source": [
    "# Compute probabilities\n",
    "probabilities = np.abs(result.eigenstate)**2\n",
    "\n",
    "opt_probs = probabilities[opt_indices]\n",
    "print('Probability of observing an optimal bitstring: {0}'.format(np.sum(opt_probs)))\n",
    "# Plot probabilities\n",
    "plt.figure(figsize=(12, 5))\n",
    "plt.bar(range(2**n), probabilities)\n",
    "plt.bar(opt_indices, opt_probs , color='g')\n",
    "plt.xticks(range(2**n), ['('+str(i)+') {0:05b}'.format(i) for i in range(2**n)], rotation=90, fontsize=14)\n",
    "plt.yticks(fontsize=14)\n",
    "plt.show()"
   ]
  },
  {
   "cell_type": "markdown",
   "metadata": {},
   "source": [
    "## Towards QAOA: Trotterized annealing on 1 qubit"
   ]
  },
  {
   "cell_type": "markdown",
   "metadata": {},
   "source": [
    "Suppose\n",
    "\n",
    "$$\n",
    "H_C = \\sigma_Z = \n",
    "\\left(\\begin{array}{cc}\n",
    "1 & 0 \\\\ 0 & -1\n",
    "\\end{array}\\right)\n",
    "$$\n",
    "\n",
    "with <font color=\"blue\">groundstate $|1\\rangle$ and optimal value -1</font>.\n",
    "Then,\n",
    "\n",
    "$$\n",
    "H_t = \\frac{t}{T} \\sigma_Z - (1 - \\frac{t}{T}) \\sigma_X.\n",
    "$$\n",
    "\n",
    "The annealing process can then be approximated by setting\n",
    "\n",
    "$$ \n",
    "|\\psi_{t+1}\\rangle = e^{-iH_t \\Delta t}|\\psi_{t}\\rangle\n",
    "$$\n",
    "\n",
    "for a small time step $\\Delta t$. The matrices $\\sigma_Z$ and $\\sigma_X$ do not commute, however, we can trotterize, i.e., we first apply $e^{-i \\frac{t}{T} H_C \\Delta t}$ and then $e^{-i (1 - \\frac{t}{T}) H_X \\Delta t}$, and for sufficiently small $\\Delta t$ only introduce a small error."
   ]
  },
  {
   "cell_type": "markdown",
   "metadata": {},
   "source": [
    "Thus, we have\n",
    "\n",
    "$$\n",
    "e^{-i \\frac{t}{T} H_C \\Delta t} = e^{-i \\sigma_Z \\frac{\\gamma_t}{2}} = R_Z(\\gamma_t),\n",
    "$$\n",
    "\n",
    "and\n",
    "\n",
    "$$\n",
    "e^{-i (1 - \\frac{t}{T}) H_X \\Delta t} = e^{-i \\sigma_X \\frac{\\beta_t}{2}} = R_X(\\beta_t)\n",
    "$$\n",
    "\n",
    "for rotation angles $\\gamma_t = 2 t/T \\Delta t$ and $\\beta_t = -2(1 - t/T) \\Delta t$."
   ]
  },
  {
   "cell_type": "markdown",
   "metadata": {},
   "source": [
    "Let's set up a parameterized quantum circuit for this. We'll then construct an annealing schedule, and see what happens."
   ]
  },
  {
   "cell_type": "code",
   "execution_count": null,
   "metadata": {},
   "outputs": [],
   "source": [
    "from qiskit.circuit import Parameter\n",
    "gamma, beta = Parameter('gamma'), Parameter('beta')\n",
    "\n",
    "# This circuit would be 1 time step\n",
    "qc = QuantumCircuit(1)\n",
    "qc.h(0)\n",
    "qc.barrier()\n",
    "qc.rz(gamma, 0)\n",
    "qc.rx(beta, 0)\n",
    "qc.barrier()\n",
    "qc.draw(output='mpl')"
   ]
  },
  {
   "cell_type": "code",
   "execution_count": null,
   "metadata": {},
   "outputs": [],
   "source": [
    "def construct_schedule(T, N):\n",
    "    delta_t = T/N\n",
    "    gammas, betas = [], []  # H_C, H_X parameters\n",
    "    for i in range(N+1):\n",
    "        t = i * delta_t\n",
    "        gammas += [ 2 * delta_t * t/T ]  # H_C\n",
    "        betas += [ -2 * delta_t * (1 - t/T) ]  # H_X\n",
    "    return gammas, betas"
   ]
  },
  {
   "cell_type": "code",
   "execution_count": null,
   "metadata": {},
   "outputs": [],
   "source": [
    "T = 5\n",
    "N = 10\n",
    "gammas, betas = construct_schedule(T, N)"
   ]
  },
  {
   "cell_type": "markdown",
   "metadata": {},
   "source": [
    "For each time step (i.e., $(\\gamma, \\beta)$ pair), we need to add a layer to the quantum circuit.\n",
    "\n",
    "We'll build up the circuit timestep by timestep, and also simulate it using the fact Qiskit's `Statevector` object can compute the statevector given the instructions in the circuit."
   ]
  },
  {
   "cell_type": "code",
   "execution_count": null,
   "metadata": {},
   "outputs": [],
   "source": [
    "# Track probabilities during trotterized annealing\n",
    "probabilities = np.zeros((2, N+1))\n",
    "\n",
    "# Set up the circuit\n",
    "qc = QuantumCircuit(1)\n",
    "qc.h(0)\n",
    "qc.barrier()\n",
    "# Do the evolution\n",
    "for i, (gamma, beta) in enumerate(zip(gammas, betas)):\n",
    "    qc.rz(gamma, 0)\n",
    "    qc.rx(beta, 0)\n",
    "    qc.barrier()\n",
    "    #Simulate the circuit, and store the probability of |0> and |1> at each timestep\n",
    "    probabilities[:, i] = Statevector.from_instruction(qc).probabilities()"
   ]
  },
  {
   "cell_type": "code",
   "execution_count": null,
   "metadata": {},
   "outputs": [],
   "source": [
    "# This is the full circuit.\n",
    "qc.draw(output='mpl')"
   ]
  },
  {
   "cell_type": "code",
   "execution_count": null,
   "metadata": {},
   "outputs": [],
   "source": [
    "plt.figure(figsize=(12, 7))\n",
    "plt.plot(np.linspace(0, T, N+1), probabilities[1, :], 'gd-', label=r'$|1\\rangle$')\n",
    "plt.plot(np.linspace(0, T, N+1), probabilities[0, :], 'bo-', label=r'$|0\\rangle$')\n",
    "plt.legend(fontsize=14)\n",
    "plt.xticks(fontsize=14)\n",
    "plt.xlabel('time $t$', fontsize=14)\n",
    "plt.yticks(fontsize=14)\n",
    "plt.ylabel('probabilities', fontsize=14);"
   ]
  },
  {
   "cell_type": "code",
   "execution_count": null,
   "metadata": {},
   "outputs": [],
   "source": [
    "plt.figure(figsize=(12, 7))\n",
    "plt.plot(np.linspace(0, T, N+1), probabilities[0, :] - probabilities[1, :], 'gd-')\n",
    "plt.xticks(fontsize=14)\n",
    "plt.xlabel('time $t$', fontsize=14)\n",
    "plt.yticks(fontsize=14)\n",
    "plt.ylabel('objective value', fontsize=14);"
   ]
  },
  {
   "cell_type": "markdown",
   "metadata": {},
   "source": [
    "During the evolution of the state, the probability the state is in $|1\\rangle$ increases."
   ]
  },
  {
   "cell_type": "markdown",
   "metadata": {},
   "source": [
    "## Towards QAOA: Trotterized Annealing for our MaxCut problem\n",
    "\n",
    "Let's see how we can use Trotterized annealing to tackle our MaxCut problem.\n",
    "\n",
    "To do this, we'll use Qiskit Aqua's `QAOAVarForm` as a helper function to set up the circuit for Trotterized evolution."
   ]
  },
  {
   "cell_type": "code",
   "execution_count": null,
   "metadata": {},
   "outputs": [],
   "source": [
    "from qiskit.aqua.algorithms.minimum_eigen_solvers.qaoa.var_form import QAOAVarForm"
   ]
  },
  {
   "cell_type": "code",
   "execution_count": null,
   "metadata": {},
   "outputs": [],
   "source": [
    "# Construct parameters from annealing schedule\n",
    "T = 10\n",
    "N = 20\n",
    "gammas, betas = construct_schedule(T, N)\n",
    "\n",
    "# Construct variational form\n",
    "# Note: Here, the number of layers, p, is equal to the number of timesteps\n",
    "var_form = QAOAVarForm(H, N+1)\n",
    "\n",
    "# Create the quantum circuit\n",
    "qc = var_form.construct_circuit(gammas + betas)"
   ]
  },
  {
   "cell_type": "code",
   "execution_count": null,
   "metadata": {
    "scrolled": true
   },
   "outputs": [],
   "source": [
    "# Let's draw this thing!\n",
    "qc.draw(output='mpl')"
   ]
  },
  {
   "cell_type": "code",
   "execution_count": null,
   "metadata": {},
   "outputs": [],
   "source": [
    "# Compute the statevector\n",
    "sv = Statevector.from_instruction(qc)\n",
    "\n",
    "# Get the associated probabilities of the individual bitstrings\n",
    "probabilities = sv.probabilities()"
   ]
  },
  {
   "cell_type": "code",
   "execution_count": null,
   "metadata": {},
   "outputs": [],
   "source": [
    "opt_probs = probabilities[opt_indices]\n",
    "\n",
    "print('Probability of observing an optimal bitstring: {0}'.format(np.round(np.sum(opt_probs), 4)))\n",
    "\n",
    "# Plot probabilities\n",
    "plt.figure(figsize=(12, 5))\n",
    "plt.bar(range(2**n), probabilities)\n",
    "plt.bar(opt_indices, opt_probs, color='g')\n",
    "plt.xticks(range(2**n), ['('+str(i)+') {0:05b}'.format(i) for i in range(2**n)], rotation=90, fontsize=14)\n",
    "plt.yticks(fontsize=14)"
   ]
  },
  {
   "cell_type": "markdown",
   "metadata": {},
   "source": [
    "Bitstrings which correspond to optimal solutions do not appear very often..."
   ]
  },
  {
   "cell_type": "markdown",
   "metadata": {},
   "source": [
    "## QAOA for our MaxCut problem\n",
    "\n",
    "In the previous example, we manually set an annealing schedule. Here, we're going to use numerical optimization of the $\\gamma, \\beta$ parameters to determine which angles are the best. Here, \"best\" is going to mean \"maximize our objective function\".\n",
    "\n",
    "We'll use a $p=1$ ansatz for simplicty, which requires 2 parameters."
   ]
  },
  {
   "cell_type": "code",
   "execution_count": null,
   "metadata": {},
   "outputs": [],
   "source": [
    "# Two parameters for the ansatz\n",
    "gamma, beta = Parameter('gamma'), Parameter('beta')"
   ]
  },
  {
   "cell_type": "code",
   "execution_count": null,
   "metadata": {},
   "outputs": [],
   "source": [
    "# Let's look at what the ansatz looks like.\n",
    "p = 1\n",
    "var_form = QAOAVarForm(H, p)\n",
    "qc = var_form.construct_circuit([gamma, beta])\n",
    "\n",
    "qc.draw(output='mpl')"
   ]
  },
  {
   "cell_type": "markdown",
   "metadata": {},
   "source": [
    "In order to tune the parameters, we need an optimizer. Here, we'll use the COBYLA optimizer, which is exposed via a [wrapped function call in Qiskit](https://qiskit.org/documentation/stubs/qiskit.aqua.components.optimizers.COBYLA.html)."
   ]
  },
  {
   "cell_type": "code",
   "execution_count": null,
   "metadata": {},
   "outputs": [],
   "source": [
    "# Import the COBYLA optimizer\n",
    "from qiskit.aqua.components.optimizers import COBYLA\n",
    "\n",
    "# Import the QAOA algorithm\n",
    "from qiskit.aqua.algorithms import QAOA"
   ]
  },
  {
   "cell_type": "code",
   "execution_count": null,
   "metadata": {},
   "outputs": [],
   "source": [
    "# Set the optimizer\n",
    "optimizer = COBYLA()\n",
    "\n",
    "# Set up QAOA\n",
    "qaoa_mes = QAOA(H, p=1, optimizer=optimizer, quantum_instance=Aer.get_backend('statevector_simulator'))"
   ]
  },
  {
   "cell_type": "code",
   "execution_count": null,
   "metadata": {},
   "outputs": [],
   "source": [
    "# Run QAOA\n",
    "result = qaoa_mes.run()"
   ]
  },
  {
   "cell_type": "markdown",
   "metadata": {},
   "source": [
    "Let's take a look at the results."
   ]
  },
  {
   "cell_type": "code",
   "execution_count": null,
   "metadata": {},
   "outputs": [],
   "source": [
    "print('optimal params:      ', result.optimal_parameters)\n",
    "print('optimal value:       ', result.optimal_value)"
   ]
  },
  {
   "cell_type": "code",
   "execution_count": null,
   "metadata": {},
   "outputs": [],
   "source": [
    "# Compute the probabilities given the result\n",
    "probabilities = np.abs(result['eigenstate'])**2\n",
    "\n",
    "print('Probability of observing an optimal bitstring: {0}'.format(np.round(np.sum(probabilities[opt_indices]), 4)))\n",
    "\n",
    "# Plot probabilities\n",
    "plt.figure(figsize=(12, 5))\n",
    "plt.bar(range(2**n), probabilities)\n",
    "plt.bar(opt_indices, probabilities[opt_indices], color='g')\n",
    "plt.xticks(range(2**n), ['('+str(i)+') {0:05b}'.format(i) for i in range(2**n)], rotation=90, fontsize=14)\n",
    "plt.yticks(fontsize=14)\n",
    "plt.show()\n"
   ]
  },
  {
   "cell_type": "markdown",
   "metadata": {},
   "source": [
    "## Wrapping QAOA\n",
    "\n",
    "In the above example, we used QAOA to solve our MaxCut problem. But the `result` object we got back talks about QAOA parameters, an eigenstate, etc. -- _not_ objective  functions of partitions of our graph!\n",
    "\n",
    "To rectify this, we can _wrap_ QAOA using Qiskit Optimization's `MinimumEigenOptimizer` object. This will provide us with a simple interface for solving our MaxCut problem."
   ]
  },
  {
   "cell_type": "code",
   "execution_count": null,
   "metadata": {},
   "outputs": [],
   "source": [
    "from qiskit.optimization.algorithms import MinimumEigenOptimizer"
   ]
  },
  {
   "cell_type": "code",
   "execution_count": null,
   "metadata": {},
   "outputs": [],
   "source": [
    "# construct QAOA as Minimum Eigensolver\n",
    "qaoa_mes = QAOA(p=1, optimizer=optimizer, quantum_instance=Aer.get_backend('statevector_simulator'))\n",
    "\n",
    "# construct Minimum Eigen Optimizer based on QAOA\n",
    "qaoa = MinimumEigenOptimizer(qaoa_mes)\n",
    "\n",
    "# solve Quadratic Program\n",
    "# Notice we can give QAOA the original quadratic program,\n",
    "# **not** the one we re-wrote by changing the equality constraint\n",
    "# into a penalty!\n",
    "result = qaoa.solve(qp)"
   ]
  },
  {
   "cell_type": "code",
   "execution_count": null,
   "metadata": {},
   "outputs": [],
   "source": [
    "print(result)\n",
    "plot_result(G, result.x)"
   ]
  },
  {
   "cell_type": "code",
   "execution_count": null,
   "metadata": {},
   "outputs": [],
   "source": []
  }
 ],
 "metadata": {
  "kernelspec": {
   "display_name": "Python 3",
   "language": "python",
   "name": "python3"
  },
  "language_info": {
   "codemirror_mode": {
    "name": "ipython",
    "version": 3
   },
   "file_extension": ".py",
   "mimetype": "text/x-python",
   "name": "python",
   "nbconvert_exporter": "python",
   "pygments_lexer": "ipython3",
   "version": "3.7.1"
  },
  "toc": {
   "base_numbering": 1,
   "nav_menu": {},
   "number_sections": true,
   "sideBar": true,
   "skip_h1_title": false,
   "title_cell": "Table of Contents",
   "title_sidebar": "Contents",
   "toc_cell": false,
   "toc_position": {},
   "toc_section_display": true,
   "toc_window_display": false
  }
 },
 "nbformat": 4,
 "nbformat_minor": 2
}
