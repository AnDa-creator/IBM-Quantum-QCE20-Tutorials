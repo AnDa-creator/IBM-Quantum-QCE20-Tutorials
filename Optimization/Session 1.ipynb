{
 "cells": [
  {
   "cell_type": "markdown",
   "metadata": {},
   "source": [
    "# Session 1: Introduction to Quantum Optimization\n",
    "\n",
    "\n",
    "# Quadratic Programs, QUBOs, and Ising Hamiltonians"
   ]
  },
  {
   "cell_type": "markdown",
   "metadata": {},
   "source": [
    "Qiskit introduces the `QuadraticProgram` class to make a model of an optimization problem.\n",
    "More precisely, it deals with quadratically constrained quadratic programs given as follows:\n",
    "\n",
    "\n",
    "$$\n",
    "\\min_{x \\in X} \\, x^T A x + b^T x + c \\\\\n",
    "\\,\\\\\n",
    "\\text{subject to}\\\\\n",
    "x^T A_i x + b_i^T x + c_i \\leq 0, \\quad i=1, \\ldots, r,\\\\\n",
    "\\,\\\\\n",
    "\\text{where}\\\\\n",
    "X = \\mathbb{R}^n \\times \\mathbb{Z}^m \\times \\{0, 1\\}^k\\\\\n",
    "A \\in \\mathbb{R}^{(n+m+k) \\times (n+m+k)}\\\\\n",
    "b \\in \\mathbb{R}^{(n+m+k)}\\\\\n",
    "c \\in \\mathbb{R}\n",
    "$$\n",
    "\n",
    "In addition to \"$\\leq$\" constraints 'QuadraticProgram' also supports \"$\\geq$\" and \"$=$\".\n",
    "\n",
    "Here, we will see how to instantiate such a program using [DOcplex](https://ibmdecisionoptimization.github.io/docplex-doc/mp/index.html), injest it into Qiskit's optimization, map it to a QUBO, and then map it to an Ising Hamiltonian."
   ]
  },
  {
   "cell_type": "code",
   "execution_count": null,
   "metadata": {},
   "outputs": [],
   "source": [
    "# Some standard code imports\n",
    "import matplotlib.pyplot as plt\n",
    "import matplotlib.axes as axes\n",
    "import numpy as np\n",
    "\n",
    "# For drawing graphs\n",
    "import networkx as nx\n",
    "\n",
    "# Qiskit imports\n",
    "from qiskit import Aer, execute, QuantumCircuit\n",
    "from qiskit.quantum_info import Statevector\n",
    "\n",
    "# auxilliary function to plot graphs\n",
    "def plot_result(G, x):\n",
    "    colors = ['r' if x[i] == 0 else 'b' for i in range(n)]\n",
    "    pos, default_axes = nx.spring_layout(G), plt.axes(frameon=True)\n",
    "    nx.draw_networkx(G, node_color=colors, node_size=600, alpha=.8, pos=pos)"
   ]
  },
  {
   "cell_type": "markdown",
   "metadata": {},
   "source": [
    "## Setting up the problem via DOcplex: MaxCut on a graph\n",
    "\n",
    "Let's make a graph on which we will solve the [MaxCut problem](https://en.wikipedia.org/wiki/Maximum_cut)."
   ]
  },
  {
   "cell_type": "code",
   "execution_count": null,
   "metadata": {},
   "outputs": [],
   "source": [
    "# Create graph\n",
    "G = nx.Graph()\n",
    "\n",
    "# Add 5 nodes\n",
    "n = 5\n",
    "G.add_nodes_from(range(n))\n",
    "\n",
    "# Add edges: tuple is (i,j,weight) where (i,j) is the edge\n",
    "edges = [(0, 1, 1.0), (0, 2, 1.0), (0, 3, 1.0), (1, 2, 1.0), (2, 3, 1.0), (2, 4, 1.0), (3, 4, 1.0)]\n",
    "G.add_weighted_edges_from(edges)\n",
    "\n",
    "# Plot graph\n",
    "plot_result(G, [0]*n)"
   ]
  },
  {
   "cell_type": "markdown",
   "metadata": {},
   "source": [
    "Recall that the objective function for MaxCut on a graph looks like\n",
    "\n",
    "\n",
    "$$\n",
    "\\max_{x \\in \\{0, 1\\}^n} \\sum_{(j,k) \\in E} w_{jk} (x_j + x_k - 2 x_j x_k)\n",
    "$$\n",
    "\n",
    "where $E$ denotes the set of edges, $w_{jk}$ denotes the weight of the edge going from node $j$ to node $k$, and $x_{j}$ is a binary variable indicating which partition node $j$ is located in."
   ]
  },
  {
   "cell_type": "code",
   "execution_count": null,
   "metadata": {},
   "outputs": [],
   "source": [
    "# Import a model from DOcplex\n",
    "from docplex.mp.model import Model\n",
    "\n",
    "# Name the model\n",
    "mdl = Model('MaxCut')\n",
    "\n",
    "# Add a binary variable to the model for each node in the graph\n",
    "x = mdl.binary_var_list('x{}'.format(i) for i in range(n))\n",
    "\n",
    "# Define the objective function\n",
    "objective = mdl.sum([ w * (x[i] + x[j] - 2*x[i]*x[j]) for (i, j, w) in edges])\n",
    "\n",
    "# And let's maximize it!\n",
    "mdl.maximize(objective)\n",
    "\n",
    "# Let's print the model\n",
    "mdl.prettyprint()"
   ]
  },
  {
   "cell_type": "markdown",
   "metadata": {},
   "source": [
    "Right now, our model is unconstrained. We can easily add some constraints of the form\n",
    "\n",
    "$$\n",
    "\\sum_{j=0}^{n-1} x_j = b\\\\\n",
    "\\sum_{j=0}^{n-1} x_j \\geq b\\\\\n",
    "\\sum_{j=0}^{n-1} x_j \\leq b\n",
    "$$"
   ]
  },
  {
   "cell_type": "code",
   "execution_count": null,
   "metadata": {},
   "outputs": [],
   "source": [
    "# Add an equality constraint\n",
    "b = 2\n",
    "mdl.add_constraint(mdl.sum(x) == b)\n",
    "\n",
    "# Let's print the model\n",
    "mdl.prettyprint()"
   ]
  },
  {
   "cell_type": "markdown",
   "metadata": {},
   "source": [
    "## Mapping to a `Quadratic Program`"
   ]
  },
  {
   "cell_type": "markdown",
   "metadata": {},
   "source": [
    "As setup, you need to import the following module."
   ]
  },
  {
   "cell_type": "code",
   "execution_count": null,
   "metadata": {},
   "outputs": [],
   "source": [
    "from qiskit.optimization import QuadraticProgram"
   ]
  },
  {
   "cell_type": "code",
   "execution_count": null,
   "metadata": {},
   "outputs": [],
   "source": [
    "# Instantiate an empty QuadraticProgram object\n",
    "qp = QuadraticProgram()\n",
    "\n",
    "# Put the model inside it\n",
    "qp.from_docplex(mdl)"
   ]
  },
  {
   "cell_type": "code",
   "execution_count": null,
   "metadata": {},
   "outputs": [],
   "source": [
    "# Let's print the model!\n",
    "# Note that in the LP format the quadratic part has to be scaled by a factor $1/2$.\n",
    "# Thus, when printing as LP format, the quadratic part is first multiplied by 2 and then divided by 2 again.\n",
    "print(qp.export_as_lp_string())"
   ]
  },
  {
   "cell_type": "markdown",
   "metadata": {},
   "source": [
    "The `QuadraticProgram` supports three types of variables:\n",
    "- Binary variable\n",
    "- Integer variable\n",
    "- Continuous variable\n",
    "\n",
    "When you add variables, you can specify names, types, lower bounds and upper bounds.\n",
    "\n",
    "When you display your problem as LP format,\n",
    "`Binaries` denotes binary variables and `Generals` denotes integer variables.\n",
    "If variables are not included in either `Binaries` or `Generals`, such variables are continuous ones with default lower bound = 0 and upper bound = infinity.\n",
    "Note that you cannot use 'e' or 'E' as the first character of names due to the [specification of LP format](https://www.ibm.com/support/knowledgecenter/SSSA5P_12.7.1/ilog.odms.cplex.help/CPLEX/FileFormats/topics/LP_VariableNames.html)."
   ]
  },
  {
   "cell_type": "markdown",
   "metadata": {},
   "source": [
    "You can access the constant, the linear term, and the quadratic term by looking at `Quadratic.objective.{constant, linear, quadratic}`, respectively.\n",
    "As for linear and quadratic terms, you can get a dense matrix (`to_array`), a sparse matrix (`coefficients`), and a dictionary (`to_dict`).\n",
    "For dictionaries, you can specify whether to use variable indices or names as keys."
   ]
  },
  {
   "cell_type": "code",
   "execution_count": null,
   "metadata": {},
   "outputs": [],
   "source": [
    "# Look at the coefficients of the linear term of the QP as dictionary\n",
    "qp.objective.linear.to_dict()"
   ]
  },
  {
   "cell_type": "code",
   "execution_count": null,
   "metadata": {},
   "outputs": [],
   "source": [
    "# Look at the coefficients of the quadratic term of the QP as dictionary\n",
    "qp.objective.quadratic.to_dict()"
   ]
  },
  {
   "cell_type": "markdown",
   "metadata": {},
   "source": [
    "## Solve using a classical optimizer\n",
    "\n",
    "Since this problem is pretty small, we can go ahead and solve it directly.\n",
    "\n",
    "Note: if you wanted to solve this using CPlex, you'd need to install that as well."
   ]
  },
  {
   "cell_type": "code",
   "execution_count": null,
   "metadata": {},
   "outputs": [],
   "source": [
    "# Import the Numpy Solver\n",
    "from qiskit.aqua.algorithms import NumPyMinimumEigensolver\n",
    "\n",
    "# Import the MinEigenOptimizer algorithm\n",
    "from qiskit.optimization.algorithms import MinimumEigenOptimizer"
   ]
  },
  {
   "cell_type": "code",
   "execution_count": null,
   "metadata": {},
   "outputs": [],
   "source": [
    "solver = MinimumEigenOptimizer(NumPyMinimumEigensolver())"
   ]
  },
  {
   "cell_type": "code",
   "execution_count": null,
   "metadata": {},
   "outputs": [],
   "source": [
    "# Solve Quadratic Program\n",
    "result = solver.solve(qp)\n",
    "print(result)\n",
    "plot_result(G, result.x)"
   ]
  },
  {
   "cell_type": "markdown",
   "metadata": {},
   "source": [
    "## Convert the QuadraticProgram to a QUBO"
   ]
  },
  {
   "cell_type": "markdown",
   "metadata": {},
   "source": [
    "Recall that the objective function for a QUBO looks like\n",
    "\n",
    "$$\n",
    "\\min_{x \\in \\{0, 1\\}^k} \\, x^T A x + c \\\\\n",
    "$$\n",
    "\n",
    "Our objective function doesn't look like that, so we need to do some conversions. Qiskit's optimization module helps us do so. In general, optimization algorithms are defined for a certain formulation of a quadratic program and we need to convert our problem to the right type.\n",
    "\n",
    "To map a problem to the correct input format, the optimization module of Qiskit offers a variety of converters. Currently, Qiskit contains the following converters.\n",
    "- `InequalityToEquality`: converts inequality constraints into equality constraints with additional slack variables.\n",
    "- `IntegerToBinary`: converts integer variables into binary variables and corresponding coefficients. \n",
    "- `LinearEqualityToPenalty`: convert equality constraints into additional terms of the object function.\n",
    "- `QuadraticProgramToQubo`: a wrapper for `InequalityToEquality`, `IntegerToBinary`, and `LinearEqualityToPenalty` for convenience."
   ]
  },
  {
   "cell_type": "code",
   "execution_count": null,
   "metadata": {},
   "outputs": [],
   "source": [
    "# Re-print the model to see what we're working with here.\n",
    "print(qp.export_as_lp_string())"
   ]
  },
  {
   "cell_type": "markdown",
   "metadata": {},
   "source": [
    "We've got a linear equality constraint, so we need that converter."
   ]
  },
  {
   "cell_type": "code",
   "execution_count": null,
   "metadata": {},
   "outputs": [],
   "source": [
    "from qiskit.optimization.converters import LinearEqualityToPenalty"
   ]
  },
  {
   "cell_type": "markdown",
   "metadata": {},
   "source": [
    "\n",
    "`LinearEqualityToPenalty` converts linear equality constraints into additional quadratic penalty terms of the objective function to map `QuadraticProgram` to an unconstrained form.\n",
    "An input to the converter has to be a `QuadraticProgram` with only linear equality constraints. Those equality constraints, e.g. $\\sum_i a_i x_i  = b$ where $a_i$ and $b$ are numbers and $x_i$ is a variable, will be added to the objective function in the form of $M(b - \\sum_i a_i x_i)^2$ where $M$ is a large number as penalty factor. \n",
    "By default $M= 1e5$. The sign of the term depends on whether the problem type is a maximization or minimization."
   ]
  },
  {
   "cell_type": "code",
   "execution_count": null,
   "metadata": {},
   "outputs": [],
   "source": [
    "# Instantiate the LinearEqualityToPenalty object,\n",
    "# and do the conversion\n",
    "# Note what happens as you change the penalty\n",
    "qp_eq = LinearEqualityToPenalty(penalty=10).convert(qp)"
   ]
  },
  {
   "cell_type": "code",
   "execution_count": null,
   "metadata": {},
   "outputs": [],
   "source": [
    "print(qp_eq.export_as_lp_string())"
   ]
  },
  {
   "cell_type": "code",
   "execution_count": null,
   "metadata": {},
   "outputs": [],
   "source": [
    "# Solve this quadratic program\n",
    "result = solver.solve(qp_eq)\n",
    "print(result)\n",
    "plot_result(G, result.x)"
   ]
  },
  {
   "cell_type": "markdown",
   "metadata": {},
   "source": [
    "For quadratic programs with more complex constraints, Qiskit's optimization module provides the `QuadraticProgramToQubo` function to directly map from a QP to a QUBO."
   ]
  },
  {
   "cell_type": "code",
   "execution_count": null,
   "metadata": {},
   "outputs": [],
   "source": [
    "from qiskit.optimization.converters import QuadraticProgramToQubo"
   ]
  },
  {
   "cell_type": "code",
   "execution_count": null,
   "metadata": {},
   "outputs": [],
   "source": [
    "# Instantiate the QuadraticProgramToQubo object, and do the conversion\n",
    "# Put in the penalty for the LinearEqualityToConstraint converter\n",
    "direct_translation = QuadraticProgramToQubo(penalty=10).convert(qp)\n",
    "\n",
    "# Let's print the model!\n",
    "print(direct_translation.export_as_lp_string())"
   ]
  },
  {
   "cell_type": "markdown",
   "metadata": {},
   "source": [
    "## Mapping a QUBO to an Ising Hamiltonian\n",
    "\n",
    "Consider the QUBO\n",
    "$$\n",
    "\\min_{x \\in \\{0, 1\\}^k} \\, x^T A x + c.\n",
    "$$\n",
    "\n",
    "To map onto an Ising Hamiltonian, we do the following:\n",
    "1. Substitute<br>\n",
    "$x_i = (1 - z_i)/2,$<br>\n",
    "where $z_i \\in \\{-1, +1\\}$.\n",
    "<br>\n",
    "\n",
    "2. Replace<br>\n",
    "$z_i z_j = \\sigma_Z^i \\otimes \\sigma_Z^j$, and<br>\n",
    "$z_i = \\sigma_Z^i$,<br>\n",
    "where $\\sigma_Z^i$ denotes the Pauli Z-matrix $\\left(\\begin{array}{cc}1&0\\\\0&-1\\end{array}\\right)$ on the <font color=\"blue\">$i$-th qubit</font>."
   ]
  },
  {
   "cell_type": "markdown",
   "metadata": {},
   "source": [
    "Qiskit Aqua provides abstractions and representations of quantum states and operators that are useful for this conversion."
   ]
  },
  {
   "cell_type": "code",
   "execution_count": null,
   "metadata": {},
   "outputs": [],
   "source": [
    "# import matrizes I, Z and states |0>, |1>\n",
    "from qiskit.aqua.operators import I, Z, Zero, One, StateFn"
   ]
  },
  {
   "cell_type": "markdown",
   "metadata": {},
   "source": [
    "We can turn these abstract representations into matrices."
   ]
  },
  {
   "cell_type": "code",
   "execution_count": null,
   "metadata": {},
   "outputs": [],
   "source": [
    "print('I =   \\n', I.to_matrix())\n",
    "print('Z =   \\n', Z.to_matrix())\n",
    "print('|0> = \\n', Zero.to_matrix())\n",
    "print('|1> = \\n', One.to_matrix())"
   ]
  },
  {
   "cell_type": "markdown",
   "metadata": {},
   "source": [
    "We can evaluate expectation values as follows"
   ]
  },
  {
   "cell_type": "code",
   "execution_count": null,
   "metadata": {},
   "outputs": [],
   "source": [
    "print('<0|Z|0> =', (~StateFn(Z) @ Zero).eval())\n",
    "print('<1|Z|1> =', (~StateFn(Z) @ One).eval())"
   ]
  },
  {
   "cell_type": "markdown",
   "metadata": {},
   "source": [
    "Tensor products are formed using the `^` method:"
   ]
  },
  {
   "cell_type": "code",
   "execution_count": null,
   "metadata": {},
   "outputs": [],
   "source": [
    "print('ZZ = \\n', (Z ^ Z).to_matrix())\n",
    "print()\n",
    "print('|0>|0> =', (Zero^Zero).to_matrix())\n",
    "print('|0>|1> =', (Zero^One).to_matrix())\n",
    "print('|1>|0> =', (One^Zero).to_matrix())\n",
    "print('|1>|1> =', (One^One).to_matrix())"
   ]
  },
  {
   "cell_type": "markdown",
   "metadata": {},
   "source": [
    "And we can compute expectation values of these tensor products as well."
   ]
  },
  {
   "cell_type": "code",
   "execution_count": null,
   "metadata": {},
   "outputs": [],
   "source": [
    "print('<00|ZZ|00> =', (~StateFn(Z^Z) @ (One^One)).eval())\n",
    "print('<01|ZZ|01> =', (~StateFn(Z^Z) @ (One^Zero)).eval())\n",
    "print('<10|ZZ|10> =', (~StateFn(Z^Z) @ (Zero^One)).eval())\n",
    "print('<11|ZZ|11> =', (~StateFn(Z^Z) @ (One^One)).eval())"
   ]
  },
  {
   "cell_type": "markdown",
   "metadata": {},
   "source": [
    "If we had a Hamiltonian and some particular state, we can compute the expectation value of that state's energy with respect to the Hamiltonian in the same way."
   ]
  },
  {
   "cell_type": "code",
   "execution_count": null,
   "metadata": {},
   "outputs": [],
   "source": [
    "# define Hamiltonian\n",
    "H = I ^ I ^ Z ^ Z ^ I\n",
    "\n",
    "# define state\n",
    "psi = Zero ^ One ^ Zero ^ One ^ Zero\n",
    "\n",
    "# evaluate expected value\n",
    "print('<psi|H|psi> =', (~StateFn(H) @ psi).eval())"
   ]
  },
  {
   "cell_type": "markdown",
   "metadata": {},
   "source": [
    "Let's convert the quadratic program (with the equality constraint removed) to an Ising Hamiltonian."
   ]
  },
  {
   "cell_type": "code",
   "execution_count": null,
   "metadata": {},
   "outputs": [],
   "source": [
    "H, offset = qp_eq.to_ising()"
   ]
  },
  {
   "cell_type": "code",
   "execution_count": null,
   "metadata": {},
   "outputs": [],
   "source": [
    "# The offset is how much we have to shift the answer we get from a minimum energy optimizer.\n",
    "# It arises from the coefficient of the Hamiltonian where all the operations on qubits are the identity.\n",
    "print('offset =', offset)\n"
   ]
  },
  {
   "cell_type": "code",
   "execution_count": null,
   "metadata": {},
   "outputs": [],
   "source": [
    "# Later, we'll use different algorithms to minimize the energy of the Hamiltonian.\n",
    "print('H =', H)"
   ]
  },
  {
   "cell_type": "code",
   "execution_count": null,
   "metadata": {},
   "outputs": [],
   "source": [
    "# Note that if we tried to convert the original QP, with the constraint, Qiskit would tell us what to do!\n",
    "qp.to_ising()"
   ]
  },
  {
   "cell_type": "code",
   "execution_count": null,
   "metadata": {},
   "outputs": [],
   "source": []
  }
 ],
 "metadata": {
  "kernelspec": {
   "display_name": "Python 3",
   "language": "python",
   "name": "python3"
  },
  "language_info": {
   "codemirror_mode": {
    "name": "ipython",
    "version": 3
   },
   "file_extension": ".py",
   "mimetype": "text/x-python",
   "name": "python",
   "nbconvert_exporter": "python",
   "pygments_lexer": "ipython3",
   "version": "3.7.1"
  }
 },
 "nbformat": 4,
 "nbformat_minor": 4
}
