{
 "cells": [
  {
   "cell_type": "markdown",
   "metadata": {},
   "source": [
    "# Session 3: Beyond Variational Quantum Optimization\n",
    "\n",
    "In the last session, we saw how to use variational algorithms such as VQE or QAOA to solve optimization problems using quantum computers.\n",
    "\n",
    "But VQE and QAOA require variational loops, and it's not exactly clear how ansatz selection, parameter optimization, etc. impact solution accuracy. Further, whether these algorithms will scale up is non-obvious.\n",
    "\n",
    "What are we to do?\n",
    "\n",
    "Thankfully, there are algorithms for quantum optimization which do not rely on variational methods. We will explore one, Grover adaptive search, [here](https://arxiv.org/abs/1912.04088)."
   ]
  },
  {
   "cell_type": "markdown",
   "metadata": {},
   "source": [
    "## From last time: MaxCut"
   ]
  },
  {
   "cell_type": "code",
   "execution_count": null,
   "metadata": {},
   "outputs": [],
   "source": [
    "# Some standard code imports\n",
    "import matplotlib.pyplot as plt\n",
    "import matplotlib.axes as axes\n",
    "import numpy as np\n",
    "\n",
    "# For drawing graphs\n",
    "import networkx as nx\n",
    "\n",
    "# Qiskit imports\n",
    "from qiskit import Aer, execute, QuantumCircuit\n",
    "from qiskit.quantum_info import Statevector\n",
    "from qiskit.optimization.converters import LinearEqualityToPenalty\n",
    "from qiskit.optimization import QuadraticProgram\n",
    "\n",
    "# auxilliary function to plot graphs\n",
    "def plot_result(G, x):\n",
    "    colors = ['r' if x[i] == 0 else 'b' for i in range(n)]\n",
    "    pos, default_axes = nx.spring_layout(G), plt.axes(frameon=True)\n",
    "    nx.draw_networkx(G, node_color=colors, node_size=600, alpha=.8, pos=pos)"
   ]
  },
  {
   "cell_type": "code",
   "execution_count": null,
   "metadata": {},
   "outputs": [],
   "source": [
    "#-------------------------MAKING THE GRAPH---------------------------#\n",
    "# Create graph\n",
    "G = nx.Graph()\n",
    "\n",
    "# Add 5 nodes\n",
    "n = 5\n",
    "G.add_nodes_from(range(n))\n",
    "\n",
    "# Add edges: tuple is (i,j,weight) where (i,j) is the edge\n",
    "edges = [(0, 1, 1.0), (0, 2, 1.0), (0, 3, 1.0), (1, 2, 1.0), (2, 3, 1.0), (2, 4, 1.0), (3, 4, 1.0)]\n",
    "G.add_weighted_edges_from(edges)\n",
    "\n",
    "#-----------------------WRITING A DOCPLEX MODEL--------------------#\n",
    "# Import a model from DOcplex\n",
    "from docplex.mp.model import Model\n",
    "\n",
    "# Name the model\n",
    "mdl = Model('MaxCut')\n",
    "\n",
    "# Add a binary variable to the model for each node in the graph\n",
    "x = mdl.binary_var_list('x{}'.format(i) for i in range(n))\n",
    "\n",
    "# Define the objective function\n",
    "objective = mdl.sum([ w * (x[i] + x[j] - 2*x[i]*x[j]) for (i, j, w) in edges])\n",
    "\n",
    "# And let's maximize it!\n",
    "mdl.maximize(objective)\n",
    "\n",
    "# Add an equality constraint\n",
    "b = 2\n",
    "mdl.add_constraint(mdl.sum(x) == b)\n",
    "\n",
    "#--------------------CONVERSION TO ISING, VIA QUADRATICPROGRAM-----#\n",
    "# Set up the quadratic program\n",
    "qp = QuadraticProgram()\n",
    "\n",
    "# Put the model inside it\n",
    "qp.from_docplex(mdl)\n",
    "\n",
    "# Convert the program to a QUBO\n",
    "qp_eq = LinearEqualityToPenalty(penalty=1).convert(qp)"
   ]
  },
  {
   "cell_type": "markdown",
   "metadata": {},
   "source": [
    "## Grover Search\n",
    "\n",
    "Consider a boolean function $f: \\{0, \\ldots, 2^n-1\\} \\rightarrow \\{0, 1\\}$ and an oracle $U_f$ such that\n",
    "\n",
    "$$\n",
    "U_f: |x\\rangle_n \\rightarrow (-1)^{f(x)} |x\\rangle_n\n",
    "$$\n",
    "\n",
    "Grover Search allows to find an $x \\in \\{0, \\ldots 2^n-1\\}$ with $f(x)=1$ using only $\\mathcal{O}(\\sqrt{2^n})$ queries to the oracle, while the best classical approach requires $\\mathcal{O}(2^n)$ queries to $f$."
   ]
  },
  {
   "cell_type": "markdown",
   "metadata": {},
   "source": [
    "<div align=\"center\">\n",
    "<img src=\"https://qiskit.org/textbook/ch-algorithms/images/grover_circuit_high_level.png\" width=\"800\"/>\n",
    "Source: https://qiskit.org/textbook/ch-algorithms/grover.html\n",
    "</div>"
   ]
  },
  {
   "cell_type": "markdown",
   "metadata": {},
   "source": [
    "## Grover Adaptive Search\n",
    "\n",
    "Grover Adaptive Search (GAS) has been explored as a possible solution for combinatorial optimization problems, alongside variational algorithms such as Variational Quantum Eigensolver (VQE) and Quantum Approximate Optimization Algorithm (QAOA). The algorithm iteratively applies Grover Search to find the optimum value of an objective function, by using the best-known value from the previous run as a threshold. The adaptive oracle used in GAS recognizes all values above or below the current threshold (for max and min respectively), decreasing the size of the search space every iteration the threshold is updated, until an optimum is found.\n",
    "\n",
    "Consider a function $f: \\{0, \\ldots, 2^n-1\\} \\rightarrow \\mathbb{Z}$, an input $x' \\in \\{0, \\ldots, 2^n-1\\}$, and an oracle $U_{f}(x')$ such that\n",
    "\n",
    "$$\n",
    "U_f(x'): |x\\rangle_n \\rightarrow (-1)^{f(x) < f(x')} |x\\rangle_n\n",
    "$$\n",
    "\n",
    "Grover Adaptive Search works as follows:\n",
    "1. Run Grover Search to find an $x$ with $f(x) < f(x')$.\n",
    "2. Set $x' = x$ and repeat until no further improvement is made.\n",
    "\n",
    "This algorithm needs three ingredients:\n",
    "\n",
    "1. A state preparation operator $A$ to construct a superposition of all states in the search space.\n",
    "\n",
    "2. An oracle operator $O$, that recognizes the states of interest and multiplies their amplitudes by -1.\n",
    "\n",
    "3. The Grover diffusion operator $D$, that multiplies the amplitude of the $|0\\rangle_n$ state by -1."
   ]
  },
  {
   "cell_type": "markdown",
   "metadata": {},
   "source": [
    "## Building block 1 : Computing the [two's complement](https://en.wikipedia.org/wiki/Two%27s_complement)"
   ]
  },
  {
   "cell_type": "code",
   "execution_count": null,
   "metadata": {},
   "outputs": [],
   "source": [
    "# Converts two's complement bit string to corresponding integer\n",
    "def twos_complement(val, num_bits):\n",
    "    val = int(val, 2)\n",
    "    if (val & (1 << (num_bits - 1))) != 0:\n",
    "        val = val - (1 << num_bits)     \n",
    "    return val   "
   ]
  },
  {
   "cell_type": "code",
   "execution_count": null,
   "metadata": {},
   "outputs": [],
   "source": [
    "print(twos_complement('0000', 4))\n",
    "print(twos_complement('0101', 4))\n",
    "print(twos_complement('1010', 4))\n",
    "print(twos_complement('1111', 4))"
   ]
  },
  {
   "cell_type": "markdown",
   "metadata": {},
   "source": [
    "## Building block 2: Phase encoding and the Quantum Fourier Transform (QFT)\n",
    "For fixed $k \\in \\{0, \\ldots, 2^n-1\\}$, and starting in $|+\\rangle_n$, we can construct\n",
    "\n",
    "$$\n",
    "\\frac{1}{\\sqrt{2^n}}\\sum_{x=0}^{2^n-1} e^{2\\pi i \\frac{xk}{2^n}} |x\\rangle_n = \n",
    "\\bigotimes_{i=0}^{n-1} R_Z\\left(2\\pi \\frac{2^i}{2^n} k\\right) |+\\rangle_n =: U_k |+\\rangle_n.\n",
    "$$\n",
    "\n",
    "This implies\n",
    "\n",
    "$$\n",
    "QFT^{-1} U_k |+\\rangle_n = |k\\rangle_n.\n",
    "$$\n",
    "\n",
    "Furthermore, for fixed $k_1, k_2$ we get \n",
    "\n",
    "$$\n",
    "QFT^{-1} U_{k_2} U_{k_1} |+\\rangle_n = |k_1 + k_2\\rangle_n.\n",
    "$$\n",
    "\n",
    "That is, by using the phase encoding and the inverse QFT, we can add integers."
   ]
  },
  {
   "cell_type": "code",
   "execution_count": null,
   "metadata": {},
   "outputs": [],
   "source": [
    "# Import the QFT from Qiskit's circuit library\n",
    "from qiskit.circuit.library import QFT\n",
    "\n",
    "# Other Qiskit imports\n",
    "from qiskit import QuantumCircuit, execute, Aer\n",
    "\n",
    "import numpy as np"
   ]
  },
  {
   "cell_type": "code",
   "execution_count": null,
   "metadata": {},
   "outputs": [],
   "source": [
    "# A function to encode an integer into a number\n",
    "# of qubits using the phase encoding.\n",
    "def encode(num_qubits, k):\n",
    "    qc = QuantumCircuit(num_qubits, name='enc({})'.format(k))\n",
    "    for j in range(num_qubits):\n",
    "        # Angle of rotation\n",
    "        theta = 2*np.pi * 2**j / 2**num_qubits * k\n",
    "        qc.rz(theta, j)\n",
    "    return qc"
   ]
  },
  {
   "cell_type": "code",
   "execution_count": null,
   "metadata": {},
   "outputs": [],
   "source": [
    "# Encode the number 2 in 4 qubits\n",
    "encode(4, 2).draw()"
   ]
  },
  {
   "cell_type": "code",
   "execution_count": null,
   "metadata": {},
   "outputs": [],
   "source": [
    "num_value_qubits = 4\n",
    "number_to_encode = 10\n",
    "\n",
    "qc = QuantumCircuit(num_value_qubits, num_value_qubits)\n",
    "qc.h(range(num_value_qubits))\n",
    "qc.barrier()\n",
    "qc.append(encode(num_value_qubits, number_to_encode), range(num_value_qubits))\n",
    "qc.barrier()\n",
    "qc.append(QFT(num_value_qubits, do_swaps=False).inverse(), qc.qubits)\n",
    "\n",
    "# Note: we have to mess around with the bitstring ordering here\n",
    "# in order for the two's compliment math to work out.\n",
    "qc.measure(qc.qregs[0], qc.cregs[0][::-1])\n",
    "\n",
    "qc.draw(fold=120)"
   ]
  },
  {
   "cell_type": "markdown",
   "metadata": {},
   "source": [
    "Let's simulate this circuit. Using the two's compliment representation of the bitstring, we can check whether the number is correct."
   ]
  },
  {
   "cell_type": "code",
   "execution_count": null,
   "metadata": {},
   "outputs": [],
   "source": [
    "counts = execute(qc, Aer.get_backend('qasm_simulator')).result().get_counts()\n",
    "for key in counts:\n",
    "    print(key, ' -->', twos_complement(key, num_value_qubits))"
   ]
  },
  {
   "cell_type": "markdown",
   "metadata": {},
   "source": [
    "Indeed, from the graphic in the talk, we see that the two's compliment representation of 10 is -6.\n",
    "\n",
    "We can also show that this circuit correctly enables us to do addition."
   ]
  },
  {
   "cell_type": "code",
   "execution_count": null,
   "metadata": {},
   "outputs": [],
   "source": [
    "num_value_qubits = 4\n",
    "qc = QuantumCircuit(num_value_qubits, num_value_qubits)\n",
    "qc.h(range(num_value_qubits))\n",
    "qc.barrier()\n",
    "# Encode the number 2\n",
    "qc.append(encode(num_value_qubits, 2), range(num_value_qubits))\n",
    "# Encode the number 10\n",
    "qc.append(encode(num_value_qubits, 10), range(num_value_qubits))\n",
    "qc.barrier()\n",
    "qc.append(QFT(num_value_qubits, do_swaps=False).inverse(), qc.qubits)\n",
    "qc.measure(qc.qregs[0], qc.cregs[0][::-1])\n",
    "qc.draw(fold=120)"
   ]
  },
  {
   "cell_type": "code",
   "execution_count": null,
   "metadata": {},
   "outputs": [],
   "source": [
    "counts = execute(qc, Aer.get_backend('qasm_simulator')).result().get_counts()\n",
    "for key in counts:\n",
    "    print(key, ' -->', twos_complement(key, num_value_qubits))"
   ]
  },
  {
   "cell_type": "markdown",
   "metadata": {},
   "source": [
    "The two's compliment representation of 2 + 10 = 12 is indeed -4, so the circuit is working."
   ]
  },
  {
   "cell_type": "markdown",
   "metadata": {},
   "source": [
    "## Building block 3: circuits to evaluate quadratic forms\n",
    "\n",
    "Qiskit's circuit library comes with a [circuit that evaluates quadratic forms](https://qiskit.org/documentation/stubs/qiskit.circuit.library.QuadraticForm.html) (using the two's compliment representation). We can use this object to directly encode the quadratic form we're trying to optimize."
   ]
  },
  {
   "cell_type": "code",
   "execution_count": null,
   "metadata": {},
   "outputs": [],
   "source": [
    "from qiskit.circuit.library import QuadraticForm"
   ]
  },
  {
   "cell_type": "code",
   "execution_count": null,
   "metadata": {
    "scrolled": true
   },
   "outputs": [],
   "source": [
    "# get quadratic / linear / constant part of quadratic program\n",
    "A = qp_eq.objective.quadratic.to_array()\n",
    "b = qp_eq.objective.linear.to_array()\n",
    "c = qp_eq.objective.constant\n",
    "\n",
    "# set number of results qubits\n",
    "num_value_qubits = 5\n",
    "\n",
    "# construct circuit to evaluate quadratic form\n",
    "qf = QuadraticForm(num_value_qubits, A, b, c)\n",
    "qf.draw(fold=120)"
   ]
  },
  {
   "cell_type": "markdown",
   "metadata": {},
   "source": [
    "So now we have a circuit that can evaluate the objective function. Notice that while the our input problem requires 5 qubits (the graph has 5 nodes), the circuit itself has 10 qubits, since we're using 5 qubits to represent the values.\n",
    "\n",
    "Let's use this circuit to evaluate the objecive function on the superposition of $2^5$ bitstrings."
   ]
  },
  {
   "cell_type": "code",
   "execution_count": null,
   "metadata": {},
   "outputs": [],
   "source": [
    "# Make a big circuit on 10 qubits\n",
    "qc = QuantumCircuit(n + num_value_qubits)\n",
    "\n",
    "# Initialize the data qubits to be a superposition state\n",
    "qc.h(range(n))\n",
    "\n",
    "# Add the circuit which evaluates the objective function\n",
    "qc.append(qf, range(n + num_value_qubits))\n",
    "qc.measure_all()\n",
    "qc.draw()"
   ]
  },
  {
   "cell_type": "markdown",
   "metadata": {},
   "source": [
    "Let's simulate the circuit. The code block below grabs the first 5 bits as the node assignment."
   ]
  },
  {
   "cell_type": "code",
   "execution_count": null,
   "metadata": {},
   "outputs": [],
   "source": [
    "counts = execute(qc, backend=Aer.get_backend('qasm_simulator')).result().get_counts()\n",
    "for key, value in counts.items():\n",
    "    x_ = key[num_value_qubits:]\n",
    "    x = [0 if x__ == '0' else 1 for x__ in x_][::-1]\n",
    "    y_bin = key[:num_value_qubits]\n",
    "    y_int = twos_complement(y_bin, num_value_qubits)\n",
    "    qx = qp_eq.objective.evaluate(x)    \n",
    "    print('x =', x_, '\\ty_bin =', y_bin, '\\ty_int =', y_int, '\\tQ(x) =', qx, '\\t(counts: {})'.format(value))"
   ]
  },
  {
   "cell_type": "markdown",
   "metadata": {},
   "source": [
    "## Creating the Grover oracle\n",
    "\n",
    "Now that we have a circuit which can compute the objective function, we can create the Grover oracle, which needs to mark states where the objective function is less than 0."
   ]
  },
  {
   "cell_type": "code",
   "execution_count": null,
   "metadata": {},
   "outputs": [],
   "source": [
    "qc = QuantumCircuit(n + num_value_qubits, name='U_f')\n",
    "qc.append(qf, range(n + num_value_qubits))            # 1. compute Q(x)\n",
    "qc.z(qc.qubits[-1])                                   # 2. multiply all |x>|Q(x)> by -1 where Q(x) < 0.\n",
    "qc.append(qf.inverse(), range(n + num_value_qubits))  # 3. uncompute Q(x).\n",
    "qc.draw()"
   ]
  },
  {
   "cell_type": "code",
   "execution_count": null,
   "metadata": {},
   "outputs": [],
   "source": [
    "qc_grover = QuantumCircuit(n + num_value_qubits)\n",
    "qc_grover.h(range(n))\n",
    "qc_grover.append(qc, range(qc_grover.num_qubits))\n",
    "qc_grover.draw()"
   ]
  },
  {
   "cell_type": "markdown",
   "metadata": {},
   "source": [
    "If we run this circuit, we'll find that the amplitudes associated with bitstrings $x$ where $Q(x) < 0$ are negative."
   ]
  },
  {
   "cell_type": "code",
   "execution_count": null,
   "metadata": {},
   "outputs": [],
   "source": [
    "data = Statevector.from_instruction(qc_grover).data\n",
    "x = ['{0:05b}'.format(i) for i in range(2**n)]\n",
    "y = [qp_eq.objective.evaluate([0 if x__ == '0' else 1 for x__ in reversed(x_)]) for x_ in x]\n",
    "plt.figure(figsize=(12, 5))\n",
    "plt.bar(range(2**n), np.real(data[:2**n]))\n",
    "plt.xticks(range(2**n), ['{} $\\leftarrow$ '.format(y[i]) + '{0:05b}'.format(i) for i in range(2**n)], rotation=90, fontsize=14)\n",
    "plt.yticks(fontsize=14)\n",
    "plt.show()"
   ]
  },
  {
   "cell_type": "markdown",
   "metadata": {},
   "source": [
    "Next, we need a reflection operator which reflects the state about $|00000>$."
   ]
  },
  {
   "cell_type": "code",
   "execution_count": null,
   "metadata": {},
   "outputs": [],
   "source": [
    "reflection = QuantumCircuit(n, name='reflection')\n",
    "reflection.h(range(reflection.num_qubits))\n",
    "reflection.barrier()\n",
    "reflection.x(range(reflection.num_qubits))\n",
    "reflection.barrier()\n",
    "reflection.h(-1)\n",
    "reflection.mct(list(range(reflection.num_qubits - 1)), -1)\n",
    "reflection.h(-1)\n",
    "reflection.barrier()\n",
    "reflection.x(range(reflection.num_qubits))\n",
    "reflection.barrier()\n",
    "reflection.h(range(reflection.num_qubits))\n",
    "reflection.draw()"
   ]
  },
  {
   "cell_type": "markdown",
   "metadata": {},
   "source": [
    "Let's tack this reflection on to the Grover circuit."
   ]
  },
  {
   "cell_type": "code",
   "execution_count": null,
   "metadata": {},
   "outputs": [],
   "source": [
    "qc_grover.append(reflection, range(n))\n",
    "qc_grover.draw()"
   ]
  },
  {
   "cell_type": "code",
   "execution_count": null,
   "metadata": {},
   "outputs": [],
   "source": [
    "data = Statevector.from_instruction(qc_grover).data\n",
    "x = ['{0:05b}'.format(i) for i in range(2**n)]\n",
    "y = [qp_eq.objective.evaluate([0 if x__ == '0' else 1 for x__ in reversed(x_)]) for x_ in x]\n",
    "plt.figure(figsize=(12, 5))\n",
    "plt.bar(range(2**n), -np.real(data[:2**n]))  # multiply by -1, since reflection is implemented up to global phase -1\n",
    "plt.xticks(range(2**n), ['{} $\\leftarrow$ '.format(y[i]) + '{0:05b}'.format(i) for i in range(2**n)], rotation=90, fontsize=14)\n",
    "plt.yticks(fontsize=14)\n",
    "plt.show()"
   ]
  },
  {
   "cell_type": "markdown",
   "metadata": {},
   "source": [
    "The reflection has boosted the amplitude of some states, and decreased it for others.\n",
    "\n",
    "Instead of having to construct all these circuits yourself, Qiskit provides a helper function for Grover adaptive search."
   ]
  },
  {
   "cell_type": "code",
   "execution_count": null,
   "metadata": {},
   "outputs": [],
   "source": [
    "from qiskit.optimization.algorithms import GroverOptimizer"
   ]
  },
  {
   "cell_type": "code",
   "execution_count": null,
   "metadata": {},
   "outputs": [],
   "source": [
    "# set up Grover Optimizer\n",
    "grover = GroverOptimizer(num_value_qubits=5, quantum_instance=Aer.get_backend('statevector_simulator'))\n",
    "grover._qubo_converter.penalty = 1  # set to small value to reduce required number of value qubits\n",
    "\n",
    "# solver problem\n",
    "result = grover.solve(qp)"
   ]
  },
  {
   "cell_type": "code",
   "execution_count": null,
   "metadata": {},
   "outputs": [],
   "source": [
    "print(result)\n",
    "plot_result(G, result.x)"
   ]
  }
 ],
 "metadata": {
  "kernelspec": {
   "display_name": "Python 3",
   "language": "python",
   "name": "python3"
  },
  "language_info": {
   "codemirror_mode": {
    "name": "ipython",
    "version": 3
   },
   "file_extension": ".py",
   "mimetype": "text/x-python",
   "name": "python",
   "nbconvert_exporter": "python",
   "pygments_lexer": "ipython3",
   "version": "3.7.1"
  },
  "varInspector": {
   "cols": {
    "lenName": 16,
    "lenType": 16,
    "lenVar": 40
   },
   "kernels_config": {
    "python": {
     "delete_cmd_postfix": "",
     "delete_cmd_prefix": "del ",
     "library": "var_list.py",
     "varRefreshCmd": "print(var_dic_list())"
    },
    "r": {
     "delete_cmd_postfix": ") ",
     "delete_cmd_prefix": "rm(",
     "library": "var_list.r",
     "varRefreshCmd": "cat(var_dic_list()) "
    }
   },
   "types_to_exclude": [
    "module",
    "function",
    "builtin_function_or_method",
    "instance",
    "_Feature"
   ],
   "window_display": false
  }
 },
 "nbformat": 4,
 "nbformat_minor": 2
}
