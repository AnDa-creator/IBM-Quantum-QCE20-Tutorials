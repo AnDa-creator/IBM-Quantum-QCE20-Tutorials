{
 "cells": [
  {
   "cell_type": "markdown",
   "metadata": {
    "slideshow": {
     "slide_type": "slide"
    }
   },
   "source": [
    "## Variational Quantum Boltzmann Machine - Qiskit Implementation "
   ]
  },
  {
   "cell_type": "markdown",
   "metadata": {
    "slideshow": {
     "slide_type": "slide"
    }
   },
   "source": [
    "### Imports"
   ]
  },
  {
   "cell_type": "code",
   "execution_count": 17,
   "metadata": {
    "slideshow": {
     "slide_type": "-"
    }
   },
   "outputs": [],
   "source": [
    "# General Imports\n",
    "import numpy as np\n",
    "from scipy.linalg import expm\n",
    "\n",
    "# Circuit Imports\n",
    "from qiskit.circuit.library import RealAmplitudes, EfficientSU2\n",
    "from qiskit.circuit import Parameter\n",
    "\n",
    "# Operator Imports\n",
    "from qiskit.aqua.operators import I, Z, StateFn, CircuitStateFn, SummedOp\n",
    "# from qiskit.aqua.operators.gradients import NaturalGradient\n",
    "\n",
    "# Additional Imports\n",
    "from qiskit.quantum_info import state_fidelity, partial_trace, Statevector\n",
    "from qiskit.aqua.components.optimizers import SPSA, CG, ADAM, COBYLA"
   ]
  },
  {
   "cell_type": "markdown",
   "metadata": {
    "slideshow": {
     "slide_type": "slide"
    }
   },
   "source": [
    "## Gibbs state preparation using VarQITE"
   ]
  },
  {
   "cell_type": "markdown",
   "metadata": {
    "slideshow": {
     "slide_type": "subslide"
    }
   },
   "source": [
    "### Define the system parameters and initialize an Ansatz\n",
    "\n",
    "$\\rho^{Gibbs} = \\frac{e^H/{k_BT}}{Z}$"
   ]
  },
  {
   "cell_type": "markdown",
   "metadata": {},
   "source": [
    "Given:\n",
    "    \n",
    "    class BM -> H\n",
    "    H -> f(x)\n",
    "    \n",
    "    f(x) -> L(x)\n",
    "    d/dx L(x)\n",
    "    "
   ]
  },
  {
   "cell_type": "code",
   "execution_count": 18,
   "metadata": {},
   "outputs": [],
   "source": [
    "# Temperature\n",
    "k_BT = 1\n",
    "\n",
    "# Evolution time\n",
    "t =  1/(2*k_BT)\n",
    "\n",
    "# Define the model Hamiltonian \n",
    "H = SummedOp([0.3 * Z^Z^ I^I, 0.2 * Z^I^ I^I,  0.5 * I^Z^ I^I]) "
   ]
  },
  {
   "cell_type": "markdown",
   "metadata": {
    "slideshow": {
     "slide_type": "subslide"
    }
   },
   "source": [
    "### Define the system parameters and initialize an Ansatz\n",
    "\n",
    "$\\rho^{Gibbs} = \\frac{e^H/{k_BT}}{Z}$"
   ]
  },
  {
   "cell_type": "code",
   "execution_count": 19,
   "metadata": {},
   "outputs": [],
   "source": [
    "# Instantiate the model ansatz\n",
    "depth = 1\n",
    "entangler_map = [[i+1, i] for i in range(H.num_qubits - 1)]\n",
    "ansatz = EfficientSU2(4, reps=depth, entanglement = entangler_map)\n",
    "qr = ansatz.qregs[0]\n",
    "for i in range(int(len(qr)/2)):\n",
    "    ansatz.cx(qr[i], qr[i+int(len(qr)/2)])\n",
    "    \n",
    "# Initialize the Ansatz parameters\n",
    "param_values_init = np.zeros(2* H.num_qubits * (depth + 1))\n",
    "for j in range(2 * H.num_qubits * depth, int(len(param_values_init) - H.num_qubits - 2)):\n",
    "    param_values_init[int(j)] = np.pi/2.\n",
    "    "
   ]
  },
  {
   "cell_type": "markdown",
   "metadata": {
    "slideshow": {
     "slide_type": "subslide"
    }
   },
   "source": [
    "#### Initial State\n",
    "\n",
    "The Ansatz $|\\psi\\left(\\omega\\left(\\tau\\right)\\right)\\rangle$ is initialized such that the first two qubits are in a maximally mixed state."
   ]
  },
  {
   "cell_type": "code",
   "execution_count": 20,
   "metadata": {
    "slideshow": {
     "slide_type": "-"
    }
   },
   "outputs": [
    {
     "name": "stdout",
     "output_type": "stream",
     "text": [
      "Initial parameters  [0.         0.         0.         0.         0.         0.\n",
      " 0.         0.         1.57079633 1.57079633 0.         0.\n",
      " 0.         0.         0.         0.        ]\n",
      "\n",
      " Circuit       ┌─────────┐┌─────────┐┌───┐┌──────────┐┌─────────┐                       »\n",
      "q_0: ┤ RY(0.0) ├┤ RZ(0.0) ├┤ X ├┤ RY(pi/2) ├┤ RZ(0.0) ├───────────────────────»\n",
      "     ├─────────┤├─────────┤└─┬─┘└──┬───┬───┘├─────────┴┐┌─────────┐           »\n",
      "q_1: ┤ RY(0.0) ├┤ RZ(0.0) ├──■─────┤ X ├────┤ RY(pi/2) ├┤ RZ(0.0) ├───────────»\n",
      "     ├─────────┤├─────────┤        └─┬─┘    └──┬───┬───┘├─────────┤┌─────────┐»\n",
      "q_2: ┤ RY(0.0) ├┤ RZ(0.0) ├──────────■─────────┤ X ├────┤ RY(0.0) ├┤ RZ(0.0) ├»\n",
      "     ├─────────┤├─────────┤                    └─┬─┘    ├─────────┤├─────────┤»\n",
      "q_3: ┤ RY(0.0) ├┤ RZ(0.0) ├──────────────────────■──────┤ RY(0.0) ├┤ RZ(0.0) ├»\n",
      "     └─────────┘└─────────┘                             └─────────┘└─────────┘»\n",
      "«               \n",
      "«q_0: ──■───────\n",
      "«       │       \n",
      "«q_1: ──┼────■──\n",
      "«     ┌─┴─┐  │  \n",
      "«q_2: ┤ X ├──┼──\n",
      "«     └───┘┌─┴─┐\n",
      "«q_3: ─────┤ X ├\n",
      "«          └───┘\n",
      "\n",
      " Full statevector  [0.5+0.j 0. +0.j 0. +0.j 0. +0.j 0. +0.j 0.5+0.j 0. +0.j 0. +0.j 0. +0.j\n",
      " 0. +0.j 0.5+0.j 0. +0.j 0. +0.j 0. +0.j 0. +0.j 0.5+0.j]\n",
      "\n",
      " Maximally mixed state [[0.25+0.j 0.  +0.j 0.  +0.j 0.  +0.j]\n",
      " [0.  +0.j 0.25+0.j 0.  +0.j 0.  +0.j]\n",
      " [0.  +0.j 0.  +0.j 0.25+0.j 0.  +0.j]\n",
      " [0.  +0.j 0.  +0.j 0.  +0.j 0.25+0.j]]\n"
     ]
    }
   ],
   "source": [
    "print('Initial parameters ', param_values_init)\n",
    "\n",
    "# Initial State\n",
    "\n",
    "print('\\n Circuit ', ansatz.assign_parameters(dict(zip(ansatz.ordered_parameters, param_values_init))))\n",
    "\n",
    "print('\\n Full statevector ', CircuitStateFn(ansatz.assign_parameters \\\n",
    "                                          (dict(zip(ansatz.ordered_parameters, param_values_init)))).eval().primitive.data)\n",
    "\n",
    "print('\\n Maximally mixed state', partial_trace(CircuitStateFn(ansatz.assign_parameters\\\n",
    "                        (dict(zip(ansatz.ordered_parameters, param_values_init)))).eval().primitive.data, [0, 1]).data)"
   ]
  },
  {
   "cell_type": "markdown",
   "metadata": {
    "slideshow": {
     "slide_type": "subslide"
    }
   },
   "source": [
    "#### Let's define the target observable consisting of the Ansatz and the Hamiltonian\n",
    "\n",
    "$$ \\langle \\psi\\left(\\omega\\left(\\tau\\right)\\right)|H|\\psi\\left(\\omega\\left(\\tau\\right)\\right)\\rangle $$"
   ]
  },
  {
   "cell_type": "code",
   "execution_count": 21,
   "metadata": {},
   "outputs": [
    {
     "name": "stdout",
     "output_type": "stream",
     "text": [
      "\n",
      " Energy expectation value of the initial state  0j\n"
     ]
    }
   ],
   "source": [
    "# Define the Hamiltonian as observable w.r.t. the wavefunction generated by the Ansatz   \n",
    "# Use statevector simulation\n",
    "ansatz_op = StateFn(ansatz)\n",
    "op = ~StateFn(H) @ ansatz_op\n",
    "\n",
    "print('\\n Energy expectation value of the initial state ', op.assign_parameters(dict(zip(ansatz.ordered_parameters, param_values_init))).eval())"
   ]
  },
  {
   "cell_type": "markdown",
   "metadata": {
    "slideshow": {
     "slide_type": "subslide"
    }
   },
   "source": [
    "#### Target state\n",
    "\n",
    "$\\rho^{target} = \\frac{e^{H\\otimes I}/{k_BT}}{Z}$"
   ]
  },
  {
   "cell_type": "code",
   "execution_count": 22,
   "metadata": {},
   "outputs": [
    {
     "name": "stdout",
     "output_type": "stream",
     "text": [
      "Target state  [[0.14517971+0.j 0.        +0.j 0.        +0.j 0.        +0.j]\n",
      " [0.        +0.j 0.32310338+0.j 0.        +0.j 0.        +0.j]\n",
      " [0.        +0.j 0.        +0.j 0.23936087+0.j 0.        +0.j]\n",
      " [0.        +0.j 0.        +0.j 0.        +0.j 0.29235603+0.j]]\n"
     ]
    }
   ],
   "source": [
    "# Compute the density matrix corresponding to the target Gibbs state\n",
    "h_mat = H.to_matrix()\n",
    "gibbs_target = expm(-h_mat*t) / np.trace(expm(-h_mat*t))\n",
    "gibbs_target = partial_trace(gibbs_target, [0, 1]).data\n",
    "\n",
    "print('Target state ', gibbs_target)"
   ]
  },
  {
   "cell_type": "markdown",
   "metadata": {},
   "source": [
    "#### Gradient\n",
    "\n",
    "Given a parameterized quantum state `|ψ(θ)〉 = V(θ)|ψ〉` with input state `|ψ〉` and parametrized Ansatz `V(θ)`, and an Operator `O(ω)` we want to compute \n",
    "``` math\n",
    "d⟨ψ(θ)|O(ω)|ψ(θ)〉/ dθ\n",
    "```"
   ]
  },
  {
   "cell_type": "code",
   "execution_count": 24,
   "metadata": {},
   "outputs": [
    {
     "name": "stdout",
     "output_type": "stream",
     "text": [
      "Gradient [(-0.5816035852342102+3.4000000000000004e-17j), (-0.17837575268045774+4.2000000000000005e-17j), (0.00549210488667462+1.0500000000000001e-17j), (-0.1211652912009978+1.55e-17j), (0.02668452653744935-6.35e-17j), (-0.02091054530861644-5.8e-17j), (-0.000516891666519359-6.85e-17j), (-0.0036154248219966156-5.6e-17j), (-0.5195263206440762-3.25e-17j), (-0.07516060003225247+7.499999999999996e-18j), (-0.011803895307625524-6.500000000000001e-18j), (-0.14724427233477894-3.5000000000000014e-18j), (2.7755575615628914e-17-4.6500000000000004e-17j), (2.7755575615628914e-17-5.5e-17j), (5.551115123125783e-17+5.25e-17j), (5.551115123125783e-17+5.3500000000000007e-17j)]\n"
     ]
    }
   ],
   "source": [
    "param_dict = dict(zip(ansatz.ordered_parameters, np.random.rand(len(ansatz.ordered_parameters))))\n",
    "\n",
    "'''\n",
    "Note that this is a simple implementation that only works for Pauli rotations \n",
    "and does not account for product or chain rules.\n",
    "'''\n",
    "\n",
    "def gradient(op, parameter_dict):\n",
    "    gradient = []\n",
    "    for param in list(parameter_dict.keys()):\n",
    "        parameter_dict[param] += np.pi/2\n",
    "        p_shift = op.assign_parameters(param_dict).eval()\n",
    "        parameter_dict[param] -= np.pi\n",
    "        m_shift = op.assign_parameters(param_dict).eval()\n",
    "        parameter_dict[param] += np.pi /2\n",
    "        gradient += [0.5 * (p_shift - m_shift)]\n",
    "    return gradient\n",
    "\n",
    "print('Gradient', gradient(op, param_dict))"
   ]
  },
  {
   "cell_type": "markdown",
   "metadata": {},
   "source": [
    "#### Quantum Fisher Information (QFI)\n",
    "\n",
    "The `QFI` is a metric tensor which is representative for the representation capacity of a parameterized quantum state `|ψ(θ)〉 = V(θ)|ψ〉` generated by an input state `|ψ〉` and a parametrized Ansatz `V(θ)`.\n",
    "\n",
    "The entries of the `QFI` for a pure state reads\n",
    "```\n",
    "[QFI]kl= Re[〈∂kψ|∂lψ〉−〈∂kψ|ψ〉〈ψ|∂lψ〉] * 0.25.\n",
    "``` "
   ]
  },
  {
   "cell_type": "code",
   "execution_count": 25,
   "metadata": {},
   "outputs": [
    {
     "name": "stderr",
     "output_type": "stream",
     "text": [
      "<ipython-input-25-a8583345413d>:13: ComplexWarning: Casting complex values to real discards the imaginary part\n",
      "  qfi[i, j] += qfi_op.eval() / 4\n",
      "<ipython-input-25-a8583345413d>:16: ComplexWarning: Casting complex values to real discards the imaginary part\n",
      "  qfi[i, j] -= qfi_op.eval() / 4\n",
      "<ipython-input-25-a8583345413d>:19: ComplexWarning: Casting complex values to real discards the imaginary part\n",
      "  qfi[i, j] += qfi_op.eval() / 4\n",
      "<ipython-input-25-a8583345413d>:22: ComplexWarning: Casting complex values to real discards the imaginary part\n",
      "  qfi[i, j] -= qfi_op.eval() / 4\n"
     ]
    },
    {
     "name": "stdout",
     "output_type": "stream",
     "text": [
      "QFI [[-5.00000000e-01 -1.38777878e-17  1.38777878e-17 -2.77555756e-17\n",
      "   0.00000000e+00  2.77555756e-17  2.77555756e-17  0.00000000e+00\n",
      "  -4.23459324e-01  2.13567673e-02  2.46542142e-04  1.24086652e-04\n",
      "  -3.85644128e-02 -9.16402862e-03 -5.02166255e-05 -5.93337598e-05]\n",
      " [-1.38777878e-17 -5.00000000e-01  0.00000000e+00  0.00000000e+00\n",
      "   2.77555756e-17 -5.55111512e-17  5.55111512e-17  5.55111512e-17\n",
      "  -1.38777878e-17 -1.07365635e-01  1.31959013e-03  6.64160375e-04\n",
      "  -8.32667268e-17 -4.90494713e-02 -2.68779053e-04 -3.17577527e-04]\n",
      " [ 0.00000000e+00  0.00000000e+00 -5.00000000e-01  1.38777878e-17\n",
      "   2.77555756e-17  0.00000000e+00  2.77555756e-17  2.77555756e-17\n",
      "   0.00000000e+00  0.00000000e+00 -4.33202308e-02  8.82624373e-03\n",
      "   0.00000000e+00  0.00000000e+00 -3.57189245e-03 -4.22039128e-03]\n",
      " [-2.77555756e-17  0.00000000e+00  1.38777878e-17 -5.00000000e-01\n",
      "   2.77555756e-17  2.77555756e-17  0.00000000e+00  2.77555756e-17\n",
      "   0.00000000e+00  0.00000000e+00  0.00000000e+00 -7.92996947e-04\n",
      "  -4.16333634e-17  0.00000000e+00  0.00000000e+00 -4.17036460e-04]\n",
      " [ 0.00000000e+00  2.77555756e-17  2.77555756e-17  2.77555756e-17\n",
      "  -5.00000000e-01 -4.05139879e-01 -4.75121301e-01 -4.34616205e-01\n",
      "   2.77555756e-17 -5.55111512e-17  2.77555756e-17  2.77555756e-17\n",
      "  -3.13421334e-01 -3.63185558e-01 -4.31426407e-01 -3.76020632e-01]\n",
      " [ 2.77555756e-17 -5.55111512e-17  0.00000000e+00  2.77555756e-17\n",
      "  -4.05139879e-01 -5.00000000e-01 -4.26103274e-01 -3.89777068e-01\n",
      "  -1.76777815e-02 -5.55111512e-17  2.77555756e-17 -5.55111512e-17\n",
      "  -2.60324668e-01 -4.48222425e-01 -3.86916360e-01 -3.37226771e-01]\n",
      " [ 2.77555756e-17  5.55111512e-17  2.77555756e-17  0.00000000e+00\n",
      "  -4.75121301e-01 -4.26103274e-01 -5.00000000e-01 -4.57104811e-01\n",
      "  -1.50651211e-02 -5.79341999e-02  2.77555756e-17  0.00000000e+00\n",
      "  -1.93274725e-01 -3.57358481e-01 -4.54017118e-01 -3.95477292e-01]\n",
      " [ 0.00000000e+00  5.55111512e-17  2.77555756e-17  2.77555756e-17\n",
      "  -4.34616205e-01 -3.89777068e-01 -4.57104811e-01 -5.00000000e-01\n",
      "  -1.37807877e-02 -5.29640030e-02 -7.31120981e-04  0.00000000e+00\n",
      "  -1.76797646e-01 -3.26687189e-01 -4.96205793e-01 -4.32589291e-01]\n",
      " [-4.23459324e-01 -1.38777878e-17  0.00000000e+00  0.00000000e+00\n",
      "   2.77555756e-17 -1.76777815e-02 -1.50651211e-02 -1.37807877e-02\n",
      "  -5.00000000e-01  1.72866654e-01 -2.12463820e-03 -1.06934757e-03\n",
      "   2.77555756e-17  6.31261386e-02 -1.32468915e-02 -1.14115189e-02]\n",
      " [ 2.13567673e-02 -1.07365635e-01  0.00000000e+00  0.00000000e+00\n",
      "  -5.55111512e-17 -5.55111512e-17 -5.79341999e-02 -5.29640030e-02\n",
      "   1.72866654e-01 -5.00000000e-01  7.97726370e-03 -1.62532084e-03\n",
      "   1.22445489e-01  5.55111512e-17 -5.19484859e-02 -4.50461512e-02]\n",
      " [ 2.46542142e-04  1.31959013e-03 -4.33202308e-02  0.00000000e+00\n",
      "   2.77555756e-17  2.77555756e-17  2.77555756e-17 -7.31120981e-04\n",
      "  -2.12463820e-03  7.97726370e-03 -5.00000000e-01  1.39576553e-01\n",
      "   1.52620245e-03  1.66306044e-03  2.77555756e-17  7.27706470e-02]\n",
      " [ 1.24086652e-04  6.64160375e-04  8.82624373e-03 -7.92996947e-04\n",
      "   2.77555756e-17 -5.55111512e-17  0.00000000e+00  0.00000000e+00\n",
      "  -1.06934757e-03 -1.62532084e-03  1.39576553e-01 -5.00000000e-01\n",
      "   7.68150025e-04  1.52449451e-03  1.71496509e-02 -6.93889390e-17]\n",
      " [-3.85644128e-02 -8.32667268e-17  0.00000000e+00 -4.16333634e-17\n",
      "  -3.13421334e-01 -2.60324668e-01 -1.93274725e-01 -1.76797646e-01\n",
      "   2.77555756e-17  1.22445489e-01  1.52620245e-03  7.68150025e-04\n",
      "  -5.00000000e-01 -2.90096007e-01 -1.75810930e-01 -1.53328838e-01]\n",
      " [-9.16402862e-03 -4.90494713e-02  0.00000000e+00  0.00000000e+00\n",
      "  -3.63185558e-01 -4.48222425e-01 -3.57358481e-01 -3.26687189e-01\n",
      "   6.31261386e-02  5.55111512e-17  1.66306044e-03  1.52449451e-03\n",
      "  -2.90096007e-01 -5.00000000e-01 -3.25110683e-01 -2.83371718e-01]\n",
      " [-5.02166255e-05 -2.68779053e-04 -3.57189245e-03  0.00000000e+00\n",
      "  -4.31426407e-01 -3.86916360e-01 -4.54017118e-01 -4.96205793e-01\n",
      "  -1.32468915e-02 -5.19484859e-02  2.77555756e-17  1.71496509e-02\n",
      "  -1.75810930e-01 -3.25110683e-01 -5.00000000e-01 -4.37710508e-01]\n",
      " [-5.93337598e-05 -3.17577527e-04 -4.22039128e-03 -4.17036460e-04\n",
      "  -3.76020632e-01 -3.37226771e-01 -3.95477292e-01 -4.32589291e-01\n",
      "  -1.14115189e-02 -4.50461512e-02  7.27706470e-02 -6.93889390e-17\n",
      "  -1.53328838e-01 -2.83371718e-01 -4.37710508e-01 -5.00000000e-01]]\n"
     ]
    }
   ],
   "source": [
    "'''\n",
    "Implementation according to https://arxiv.org/pdf/2008.06517.pdf\n",
    "Note that this is a simple implementation that only works for Pauli rotations \n",
    "and does not account for product or chain rules.\n",
    "'''\n",
    "\n",
    "def QFI(state_op, parameter_dict):\n",
    "    meas = ~state_op.assign_parameters(parameter_dict)\n",
    "    qfi = np.zeros((len(parameter_dict), len(parameter_dict)))\n",
    "    for i, param_i in enumerate(list(parameter_dict.keys())):\n",
    "        for j, param_j in enumerate(list(parameter_dict.keys())):\n",
    "            parameter_dict[param_i] += np.pi /2\n",
    "            parameter_dict[param_j] += np.pi /2\n",
    "            qfi_op = meas @ state_op.assign_parameters(parameter_dict)\n",
    "            qfi[i, j] += qfi_op.eval() / 4\n",
    "            parameter_dict[param_j] -= np.pi\n",
    "            qfi_op = meas @ state_op.assign_parameters(parameter_dict)\n",
    "            qfi[i, j] -= qfi_op.eval() / 4\n",
    "            parameter_dict[param_i] -= np.pi\n",
    "            qfi_op = meas @ state_op.assign_parameters(parameter_dict)\n",
    "            qfi[i, j] += qfi_op.eval() / 4\n",
    "            parameter_dict[param_j] += np.pi\n",
    "            qfi_op = meas @ state_op.assign_parameters(parameter_dict)\n",
    "            qfi[i, j] -= qfi_op.eval() / 4\n",
    "            parameter_dict[param_i] += np.pi/2\n",
    "            parameter_dict[param_j] -= np.pi/2\n",
    "    return(qfi)\n",
    "            \n",
    "            \n",
    "            \n",
    "print('QFI', QFI(ansatz_op, param_dict))"
   ]
  },
  {
   "cell_type": "markdown",
   "metadata": {},
   "source": [
    "#### Quantum Natural Gradient (QNG)\n",
    "\n",
    "The `QNG` combines the state resp. probability gradients and the metric tensor which is representative for the representation capabilities of a parameterized quantum state `|ψ(θ)〉 = V(θ)|ψ〉` generated by an input state `|ψ〉` and a parametrized Ansatz `V(θ)`.\n",
    "\n",
    "The `QNG` reads\n",
    "```\n",
    "QNG = QFI^-1 d⟨ψ(θ)|O(ω)|ψ(θ)〉/ dθ\n",
    "```\n",
    "Now, if `O(ω) = H` then QNG is equivalent to the propagation rule applied in VarQITE."
   ]
  },
  {
   "cell_type": "code",
   "execution_count": 41,
   "metadata": {},
   "outputs": [],
   "source": [
    "def QNG(op, state_op, parameter_dict):\n",
    "    grad = gradient(op, parameter_dict)\n",
    "    qfi = QFI(state_op, parameter_dict)\n",
    "    alpha = 1e-7\n",
    "    # Use regularization\n",
    "    qng, _, _, _ = np.linalg.lstsq(qfi * alpha * np.diag(qfi), grad, rcond=None)\n",
    "    return qng\n",
    "    "
   ]
  },
  {
   "cell_type": "markdown",
   "metadata": {
    "slideshow": {
     "slide_type": "slide"
    }
   },
   "source": [
    "### Define the parameter propagation rule according to McLachlan's variational principle"
   ]
  },
  {
   "cell_type": "code",
   "execution_count": 42,
   "metadata": {
    "slideshow": {
     "slide_type": "-"
    }
   },
   "outputs": [],
   "source": [
    "'''\n",
    "The following implementation is based on the following PR https://github.com/Qiskit/qiskit-aqua/pull/1293\n",
    "'''\n",
    "\n",
    "def get_gibbs_state_params(op, ansatz, param_values, time_steps):\n",
    "\n",
    "    # Convert the operator that holds the Hamiltonian and ansatz into a NaturalGradient operator \n",
    "    # nat_grad = NaturalGradient().convert(op, ansatz.ordered_parameters, method = 'lin_comb', regularization = 'ridge')\n",
    "    # Propagate the Ansatz parameters step by step according to the explicit Euler method\n",
    "    for step in time_steps:\n",
    "        param_dict = dict(zip(ansatz.ordered_parameters, param_values))\n",
    "        # nat_grad_result = np.real(nat_grad.assign_parameters(param_dict).eval())\n",
    "        nat_grad_result = QNG(op, ansatz_op, param_dict)\n",
    "        param_values = list(np.subtract(param_values, t/num_time_steps * np.real(nat_grad_result)))\n",
    "    return param_values\n"
   ]
  },
  {
   "cell_type": "markdown",
   "metadata": {
    "slideshow": {
     "slide_type": "slide"
    }
   },
   "source": [
    "### Run the parameter propagation"
   ]
  },
  {
   "cell_type": "code",
   "execution_count": 43,
   "metadata": {
    "scrolled": false
   },
   "outputs": [
    {
     "name": "stderr",
     "output_type": "stream",
     "text": [
      "<ipython-input-25-a8583345413d>:13: ComplexWarning: Casting complex values to real discards the imaginary part\n",
      "  qfi[i, j] += qfi_op.eval() / 4\n",
      "<ipython-input-25-a8583345413d>:16: ComplexWarning: Casting complex values to real discards the imaginary part\n",
      "  qfi[i, j] -= qfi_op.eval() / 4\n",
      "<ipython-input-25-a8583345413d>:19: ComplexWarning: Casting complex values to real discards the imaginary part\n",
      "  qfi[i, j] += qfi_op.eval() / 4\n",
      "<ipython-input-25-a8583345413d>:22: ComplexWarning: Casting complex values to real discards the imaginary part\n",
      "  qfi[i, j] -= qfi_op.eval() / 4\n"
     ]
    },
    {
     "name": "stdout",
     "output_type": "stream",
     "text": [
      "Final parameter values [0.0, 0.0, 0.0, 0.0, 0.0, 0.0, 0.0, 0.0, 1.5707963267948966, 1.5707963267948966, 0.0, 0.0, 0.0, 0.0, 0.0, 0.0]\n"
     ]
    }
   ],
   "source": [
    "# Define the discretization grid of the time steps\n",
    "num_time_steps = 10\n",
    "time_steps = np.linspace(0, t, num_time_steps)\n",
    "param_values = get_gibbs_state_params(op, ansatz, param_values_init, time_steps)\n",
    "    \n",
    "print('Final parameter values', param_values)"
   ]
  },
  {
   "cell_type": "markdown",
   "metadata": {
    "slideshow": {
     "slide_type": "slide"
    }
   },
   "source": [
    "#### Check the fidelity between trained and target state"
   ]
  },
  {
   "cell_type": "code",
   "execution_count": 44,
   "metadata": {},
   "outputs": [
    {
     "name": "stdout",
     "output_type": "stream",
     "text": [
      "Gibbs state  [[0.25+0.j 0.  +0.j 0.  +0.j 0.  +0.j]\n",
      " [0.  +0.j 0.25+0.j 0.  +0.j 0.  +0.j]\n",
      " [0.  +0.j 0.  +0.j 0.25+0.j 0.  +0.j]\n",
      " [0.  +0.j 0.  +0.j 0.  +0.j 0.25+0.j]]\n",
      "Target state  [[0.145+0.j 0.   +0.j 0.   +0.j 0.   +0.j]\n",
      " [0.   +0.j 0.323+0.j 0.   +0.j 0.   +0.j]\n",
      " [0.   +0.j 0.   +0.j 0.239+0.j 0.   +0.j]\n",
      " [0.   +0.j 0.   +0.j 0.   +0.j 0.292+0.j]]\n",
      "Fidelity between trained and target state  0.9784830576761623\n"
     ]
    }
   ],
   "source": [
    "# Compute the density matrix corresponding to the final Gibbs state    \n",
    "gibbs_state = Statevector.from_instruction(ansatz.assign_parameters(dict(zip(ansatz.ordered_parameters, param_values))))\n",
    "gibbs_state = partial_trace(gibbs_state, [0, 1])\n",
    "print('Gibbs state ', np.around(gibbs_state.data, 3))\n",
    "\n",
    "print('Target state ', np.around(gibbs_target.data, 3))\n",
    "\n",
    "# Evaluate the fidelity between the trained and the target state\n",
    "fidelity = state_fidelity(np.around(gibbs_target.data, 3), np.around(gibbs_state.data, 3), validate=False)\n",
    "\n",
    "print('Fidelity between trained and target state ', fidelity)"
   ]
  },
  {
   "cell_type": "markdown",
   "metadata": {
    "slideshow": {
     "slide_type": "slide"
    }
   },
   "source": [
    "## Train a generative QBM \n",
    "More explicitly, we train here a fully visible, diagonal, generative QBM using gradient-free optimization."
   ]
  },
  {
   "cell_type": "markdown",
   "metadata": {
    "slideshow": {
     "slide_type": "slide"
    }
   },
   "source": [
    "### Initialize a parameterized Hamiltonian and the target PDF"
   ]
  },
  {
   "cell_type": "code",
   "execution_count": 45,
   "metadata": {},
   "outputs": [],
   "source": [
    "a = Parameter('a')    \n",
    "b = Parameter('b')\n",
    "c = Parameter('c')  \n",
    "\n",
    "# Define the model Hamiltonian with parameters\n",
    "H = SummedOp([a * Z^Z^I^I, b * Z^I^ I ^ I, c * I ^ Z^ I ^ I]) \n",
    "\n",
    "# Define the target PDF\n",
    "p_target = [0.5, 0, 0, 0.5] "
   ]
  },
  {
   "cell_type": "markdown",
   "metadata": {
    "slideshow": {
     "slide_type": "slide"
    }
   },
   "source": [
    "#### Define the loss function and the optimizer"
   ]
  },
  {
   "cell_type": "code",
   "execution_count": 46,
   "metadata": {},
   "outputs": [],
   "source": [
    "# Define the loss function\n",
    "def loss(H_coeffs):\n",
    "    H_op = H.assign_parameters(dict(zip([a, b, c], np.real(H_coeffs))))\n",
    "    \n",
    "    #Combine the measurement and ansatz operator\n",
    "    op = ~StateFn(H_op) @ ansatz_op\n",
    "    \n",
    "    #Prepare the Gibbs state\n",
    "    param_values = get_gibbs_state_params(op, ansatz, param_values_init, time_steps)\n",
    "    p_qbm = ansatz_op.assign_parameters(dict(zip(ansatz.ordered_parameters, param_values))).eval().primitive\n",
    "    p_qbm = np.diag(partial_trace(p_qbm, [0, 1]).data)\n",
    "    print('Trained probability ', p_qbm)\n",
    "    loss_fn = -np.sum(np.multiply(p_target, np.log(p_qbm)))\n",
    "#     print(loss_fn)\n",
    "    return np.real(loss_fn)"
   ]
  },
  {
   "cell_type": "markdown",
   "metadata": {},
   "source": [
    "### Customize\n",
    "Try different optimizers"
   ]
  },
  {
   "cell_type": "code",
   "execution_count": 47,
   "metadata": {},
   "outputs": [],
   "source": [
    "optimizer = SPSA(maxiter = 50)"
   ]
  },
  {
   "cell_type": "markdown",
   "metadata": {
    "slideshow": {
     "slide_type": "slide"
    }
   },
   "source": [
    "### Train the QBM"
   ]
  },
  {
   "cell_type": "code",
   "execution_count": null,
   "metadata": {
    "scrolled": false
   },
   "outputs": [
    {
     "name": "stderr",
     "output_type": "stream",
     "text": [
      "<ipython-input-25-a8583345413d>:13: ComplexWarning: Casting complex values to real discards the imaginary part\n",
      "  qfi[i, j] += qfi_op.eval() / 4\n",
      "<ipython-input-25-a8583345413d>:16: ComplexWarning: Casting complex values to real discards the imaginary part\n",
      "  qfi[i, j] -= qfi_op.eval() / 4\n",
      "<ipython-input-25-a8583345413d>:19: ComplexWarning: Casting complex values to real discards the imaginary part\n",
      "  qfi[i, j] += qfi_op.eval() / 4\n",
      "<ipython-input-25-a8583345413d>:22: ComplexWarning: Casting complex values to real discards the imaginary part\n",
      "  qfi[i, j] -= qfi_op.eval() / 4\n"
     ]
    },
    {
     "name": "stdout",
     "output_type": "stream",
     "text": [
      "Trained probability  [0.25+0.j 0.25+0.j 0.25+0.j 0.25+0.j]\n",
      "Trained probability  [0.25+0.j 0.25+0.j 0.25+0.j 0.25+0.j]\n"
     ]
    }
   ],
   "source": [
    "result = optimizer.optimize(3, loss, initial_point = ([-2 , .2, .5]))\n",
    "print('Trained parameters ', result[0])"
   ]
  },
  {
   "cell_type": "code",
   "execution_count": null,
   "metadata": {
    "slideshow": {
     "slide_type": "slide"
    }
   },
   "outputs": [],
   "source": [
    "#Construct the Hamiltonian with the final parameterw\n",
    "H_op = H.assign_parameters(dict(zip([a, b, c], [-1.29810568, -0.04292338,  0.1362023])))\n",
    "\n",
    "#Combine the measurement and ansatz operator\n",
    "op = ~StateFn(H_op) @ ansatz_op\n",
    "\n",
    "#Prepare the Gibbs state\n",
    "param_values = get_gibbs_state_params(op, ansatz, param_values_init, time_steps)\n",
    "\n",
    "# Get the sampling probabilities\n",
    "p_qbm = ansatz_op.assign_parameters(dict(zip(ansatz.ordered_parameters, param_values))).eval().primitive\n",
    "p_qbm = np.diag(partial_trace(p_qbm, [0, 1]).data)\n",
    "\n",
    "# Evaluate the l1 norm between the trained and the target state\n",
    "norm = np.linalg.norm(p_target-p_qbm, ord = 1)\n",
    "\n",
    "print('L1-norm between trained and target distributions ', norm)"
   ]
  },
  {
   "cell_type": "code",
   "execution_count": null,
   "metadata": {},
   "outputs": [],
   "source": [
    "print(p_qbm)"
   ]
  }
 ],
 "metadata": {
  "celltoolbar": "Slideshow",
  "kernelspec": {
   "display_name": "QiskitDevenv",
   "language": "python",
   "name": "qiskitdevenv"
  },
  "language_info": {
   "codemirror_mode": {
    "name": "ipython",
    "version": 3
   },
   "file_extension": ".py",
   "mimetype": "text/x-python",
   "name": "python",
   "nbconvert_exporter": "python",
   "pygments_lexer": "ipython3",
   "version": "3.8.5"
  }
 },
 "nbformat": 4,
 "nbformat_minor": 2
}
