{
 "cells": [
  {
   "cell_type": "markdown",
   "metadata": {
    "slideshow": {
     "slide_type": "slide"
    }
   },
   "source": [
    "## Variational Quantum Boltzmann Machine - Qiskit Implementation "
   ]
  },
  {
   "cell_type": "markdown",
   "metadata": {
    "slideshow": {
     "slide_type": "slide"
    }
   },
   "source": [
    "### Imports"
   ]
  },
  {
   "cell_type": "code",
   "execution_count": 1,
   "metadata": {
    "slideshow": {
     "slide_type": "-"
    }
   },
   "outputs": [],
   "source": [
    "# General Imports\n",
    "import numpy as np\n",
    "from scipy.linalg import expm\n",
    "\n",
    "# Circuit Imports\n",
    "from qiskit.circuit.library import RealAmplitudes, EfficientSU2\n",
    "from qiskit.circuit import Parameter\n",
    "\n",
    "# Operator Imports\n",
    "from qiskit.aqua.operators import I, Z, StateFn, CircuitStateFn, SummedOp\n",
    "# from qiskit.aqua.operators.gradients import NaturalGradient\n",
    "\n",
    "# Additional Imports\n",
    "from qiskit.quantum_info import state_fidelity, partial_trace, Statevector\n",
    "from qiskit.aqua.components.optimizers import SPSA, CG, ADAM, COBYLA"
   ]
  },
  {
   "cell_type": "markdown",
   "metadata": {
    "slideshow": {
     "slide_type": "slide"
    }
   },
   "source": [
    "## Gibbs state preparation using VarQITE"
   ]
  },
  {
   "cell_type": "markdown",
   "metadata": {
    "slideshow": {
     "slide_type": "subslide"
    }
   },
   "source": [
    "### Define the system parameters and initialize an Ansatz\n",
    "\n",
    "$\\rho^{Gibbs} = \\frac{e^H/{k_BT}}{Z}$"
   ]
  },
  {
   "cell_type": "markdown",
   "metadata": {},
   "source": [
    "Given:\n",
    "    \n",
    "    class BM -> H\n",
    "    H -> f(x)\n",
    "    \n",
    "    f(x) -> L(x)\n",
    "    d/dx L(x)\n",
    "    "
   ]
  },
  {
   "cell_type": "code",
   "execution_count": 2,
   "metadata": {},
   "outputs": [],
   "source": [
    "# Temperature\n",
    "k_BT = 1\n",
    "\n",
    "# Evolution time\n",
    "t =  1/(2*k_BT)\n",
    "\n",
    "# Define the model Hamiltonian \n",
    "H = SummedOp([0.3 * Z^Z^ I^I, 0.2 * Z^I^ I^I,  0.5 * I^Z^ I^I]) "
   ]
  },
  {
   "cell_type": "markdown",
   "metadata": {
    "slideshow": {
     "slide_type": "subslide"
    }
   },
   "source": [
    "### Define the system parameters and initialize an Ansatz\n",
    "\n",
    "$\\rho^{Gibbs} = \\frac{e^H/{k_BT}}{Z}$"
   ]
  },
  {
   "cell_type": "code",
   "execution_count": 3,
   "metadata": {},
   "outputs": [],
   "source": [
    "# Instantiate the model ansatz\n",
    "depth = 1\n",
    "entangler_map = [[i+1, i] for i in range(H.num_qubits - 1)]\n",
    "ansatz = EfficientSU2(4, reps=depth, entanglement = entangler_map)\n",
    "qr = ansatz.qregs[0]\n",
    "for i in range(int(len(qr)/2)):\n",
    "    ansatz.cx(qr[i], qr[i+int(len(qr)/2)])\n",
    "    \n",
    "# Initialize the Ansatz parameters\n",
    "param_values_init = np.zeros(2* H.num_qubits * (depth + 1))\n",
    "for j in range(2 * H.num_qubits * depth, int(len(param_values_init) - H.num_qubits - 2)):\n",
    "    param_values_init[int(j)] = np.pi/2.\n",
    "    "
   ]
  },
  {
   "cell_type": "markdown",
   "metadata": {
    "slideshow": {
     "slide_type": "subslide"
    }
   },
   "source": [
    "#### Initial State\n",
    "\n",
    "The Ansatz $|\\psi\\left(\\omega\\left(\\tau\\right)\\right)\\rangle$ is initialized such that the first two qubits are in a maximally mixed state."
   ]
  },
  {
   "cell_type": "code",
   "execution_count": 4,
   "metadata": {
    "slideshow": {
     "slide_type": "-"
    }
   },
   "outputs": [
    {
     "name": "stdout",
     "output_type": "stream",
     "text": [
      "Initial parameters  [0.         0.         0.         0.         0.         0.\n",
      " 0.         0.         1.57079633 1.57079633 0.         0.\n",
      " 0.         0.         0.         0.        ]\n",
      "\n",
      " Circuit       ┌─────────┐┌─────────┐┌───┐┌──────────┐┌─────────┐                       »\n",
      "q_0: ┤ RY(0.0) ├┤ RZ(0.0) ├┤ X ├┤ RY(pi/2) ├┤ RZ(0.0) ├───────────────────────»\n",
      "     ├─────────┤├─────────┤└─┬─┘└──┬───┬───┘├─────────┴┐┌─────────┐           »\n",
      "q_1: ┤ RY(0.0) ├┤ RZ(0.0) ├──■─────┤ X ├────┤ RY(pi/2) ├┤ RZ(0.0) ├───────────»\n",
      "     ├─────────┤├─────────┤        └─┬─┘    └──┬───┬───┘├─────────┤┌─────────┐»\n",
      "q_2: ┤ RY(0.0) ├┤ RZ(0.0) ├──────────■─────────┤ X ├────┤ RY(0.0) ├┤ RZ(0.0) ├»\n",
      "     ├─────────┤├─────────┤                    └─┬─┘    ├─────────┤├─────────┤»\n",
      "q_3: ┤ RY(0.0) ├┤ RZ(0.0) ├──────────────────────■──────┤ RY(0.0) ├┤ RZ(0.0) ├»\n",
      "     └─────────┘└─────────┘                             └─────────┘└─────────┘»\n",
      "«               \n",
      "«q_0: ──■───────\n",
      "«       │       \n",
      "«q_1: ──┼────■──\n",
      "«     ┌─┴─┐  │  \n",
      "«q_2: ┤ X ├──┼──\n",
      "«     └───┘┌─┴─┐\n",
      "«q_3: ─────┤ X ├\n",
      "«          └───┘\n",
      "\n",
      " Full statevector  [0.5+0.j 0. +0.j 0. +0.j 0. +0.j 0. +0.j 0.5+0.j 0. +0.j 0. +0.j 0. +0.j\n",
      " 0. +0.j 0.5+0.j 0. +0.j 0. +0.j 0. +0.j 0. +0.j 0.5+0.j]\n",
      "\n",
      " Maximally mixed state [[0.25+0.j 0.  +0.j 0.  +0.j 0.  +0.j]\n",
      " [0.  +0.j 0.25+0.j 0.  +0.j 0.  +0.j]\n",
      " [0.  +0.j 0.  +0.j 0.25+0.j 0.  +0.j]\n",
      " [0.  +0.j 0.  +0.j 0.  +0.j 0.25+0.j]]\n"
     ]
    }
   ],
   "source": [
    "print('Initial parameters ', param_values_init)\n",
    "\n",
    "# Initial State\n",
    "\n",
    "print('\\n Circuit ', ansatz.assign_parameters(dict(zip(ansatz.ordered_parameters, param_values_init))))\n",
    "\n",
    "print('\\n Full statevector ', CircuitStateFn(ansatz.assign_parameters \\\n",
    "                                          (dict(zip(ansatz.ordered_parameters, param_values_init)))).eval().primitive.data)\n",
    "\n",
    "print('\\n Maximally mixed state', partial_trace(CircuitStateFn(ansatz.assign_parameters\\\n",
    "                        (dict(zip(ansatz.ordered_parameters, param_values_init)))).eval().primitive.data, [0, 1]).data)"
   ]
  },
  {
   "cell_type": "markdown",
   "metadata": {
    "slideshow": {
     "slide_type": "subslide"
    }
   },
   "source": [
    "#### Let's define the target observable consisting of the Ansatz and the Hamiltonian\n",
    "\n",
    "$$ \\langle \\psi\\left(\\omega\\left(\\tau\\right)\\right)|H|\\psi\\left(\\omega\\left(\\tau\\right)\\right)\\rangle $$"
   ]
  },
  {
   "cell_type": "code",
   "execution_count": 5,
   "metadata": {},
   "outputs": [
    {
     "name": "stdout",
     "output_type": "stream",
     "text": [
      "\n",
      " Energy expectation value of the initial state  0j\n"
     ]
    }
   ],
   "source": [
    "# Define the Hamiltonian as observable w.r.t. the wavefunction generated by the Ansatz   \n",
    "# Use statevector simulation\n",
    "ansatz_op = StateFn(ansatz)\n",
    "op = ~StateFn(H) @ ansatz_op\n",
    "\n",
    "print('\\n Energy expectation value of the initial state ', op.assign_parameters(dict(zip(ansatz.ordered_parameters, param_values_init))).eval())"
   ]
  },
  {
   "cell_type": "markdown",
   "metadata": {
    "slideshow": {
     "slide_type": "subslide"
    }
   },
   "source": [
    "#### Target state\n",
    "\n",
    "$\\rho^{target} = \\frac{e^{H\\otimes I}/{k_BT}}{Z}$"
   ]
  },
  {
   "cell_type": "code",
   "execution_count": 6,
   "metadata": {},
   "outputs": [
    {
     "name": "stdout",
     "output_type": "stream",
     "text": [
      "Target state  [[0.14517971+0.j 0.        +0.j 0.        +0.j 0.        +0.j]\n",
      " [0.        +0.j 0.32310338+0.j 0.        +0.j 0.        +0.j]\n",
      " [0.        +0.j 0.        +0.j 0.23936087+0.j 0.        +0.j]\n",
      " [0.        +0.j 0.        +0.j 0.        +0.j 0.29235603+0.j]]\n"
     ]
    }
   ],
   "source": [
    "# Compute the density matrix corresponding to the target Gibbs state\n",
    "h_mat = H.to_matrix()\n",
    "gibbs_target = expm(-h_mat*t) / np.trace(expm(-h_mat*t))\n",
    "gibbs_target = partial_trace(gibbs_target, [0, 1]).data\n",
    "\n",
    "print('Target state ', gibbs_target)"
   ]
  },
  {
   "cell_type": "markdown",
   "metadata": {},
   "source": [
    "#### Gradient\n",
    "\n",
    "Given a parameterized quantum state `|ψ(θ)〉 = V(θ)|ψ〉` with input state `|ψ〉` and parametrized Ansatz `V(θ)`, and an Operator `O(ω)` we want to compute \n",
    "``` math\n",
    "d⟨ψ(θ)|O(ω)|ψ(θ)〉/ dθ\n",
    "```"
   ]
  },
  {
   "cell_type": "code",
   "execution_count": 7,
   "metadata": {},
   "outputs": [
    {
     "name": "stdout",
     "output_type": "stream",
     "text": [
      "Gradient [(-0.48038510085152175-6.249999999999999e-17j), (0.007780004122371363+1.2500000000000006e-17j), (-0.01082636117105814+1.45e-17j), (-0.23462526491553787+1.4e-17j), (0.06751958132344593+8.599999999999999e-17j), (0.008934873448531638+6.5e-17j), (-0.006122188393922118+6.3e-17j), (-0.0049871056488964005+6.85e-17j), (-0.32760193918138564+9.999999999999978e-19j), (-0.12367730309830631-1.0000000000000002e-17j), (0.034265129096000754+3.5000000000000014e-18j), (-0.10294103569294616-1.75e-17j), (-8.326672684688674e-17+4.7e-17j), (2.7755575615628914e-17-6.500000000000001e-18j), 5.0499999999999995e-17j, (-2.7755575615628914e-17+4.9999999999999996e-18j)]\n"
     ]
    }
   ],
   "source": [
    "param_dict = dict(zip(ansatz.ordered_parameters, np.random.rand(len(ansatz.ordered_parameters))))\n",
    "\n",
    "'''\n",
    "Note that this is a simple implementation that only works for Pauli rotations \n",
    "and does not account for product or chain rules.\n",
    "'''\n",
    "\n",
    "def gradient(op, parameter_dict):\n",
    "    gradient = []\n",
    "    for param in list(parameter_dict.keys()):\n",
    "        parameter_dict[param] += np.pi/2\n",
    "        p_shift = op.assign_parameters(parameter_dict).eval()\n",
    "        parameter_dict[param] -= np.pi\n",
    "        m_shift = op.assign_parameters(parameter_dict).eval()\n",
    "        parameter_dict[param] += np.pi /2\n",
    "        gradient += [0.5 * (p_shift - m_shift)]\n",
    "    return gradient\n",
    "\n",
    "print('Gradient', gradient(op, param_dict))"
   ]
  },
  {
   "cell_type": "markdown",
   "metadata": {},
   "source": [
    "#### Quantum Fisher Information (QFI)\n",
    "\n",
    "The `QFI` is a metric tensor which is representative for the representation capacity of a parameterized quantum state `|ψ(θ)〉 = V(θ)|ψ〉` generated by an input state `|ψ〉` and a parametrized Ansatz `V(θ)`.\n",
    "\n",
    "The entries of the `QFI` for a pure state reads\n",
    "```\n",
    "[QFI]kl= Re[〈∂kψ|∂lψ〉−〈∂kψ|ψ〉〈ψ|∂lψ〉] * 0.25.\n",
    "``` "
   ]
  },
  {
   "cell_type": "code",
   "execution_count": 8,
   "metadata": {},
   "outputs": [
    {
     "name": "stderr",
     "output_type": "stream",
     "text": [
      "<ipython-input-8-a5ebe029e27d>:15: ComplexWarning: Casting complex values to real discards the imaginary part\n",
      "  qfi[i, j] += qfi_op.eval() / 4\n",
      "<ipython-input-8-a5ebe029e27d>:18: ComplexWarning: Casting complex values to real discards the imaginary part\n",
      "  qfi[i, j] -= qfi_op.eval() / 4\n",
      "<ipython-input-8-a5ebe029e27d>:21: ComplexWarning: Casting complex values to real discards the imaginary part\n",
      "  qfi[i, j] += qfi_op.eval() / 4\n",
      "<ipython-input-8-a5ebe029e27d>:24: ComplexWarning: Casting complex values to real discards the imaginary part\n",
      "  qfi[i, j] -= qfi_op.eval() / 4\n"
     ]
    },
    {
     "name": "stdout",
     "output_type": "stream",
     "text": [
      "QFI [[-5.00000000e-01 -2.77555756e-17  0.00000000e+00 -2.77555756e-17\n",
      "   8.32667268e-17 -5.55111512e-17 -5.55111512e-17  0.00000000e+00\n",
      "  -3.20049529e-01  1.20021412e-02  2.16481955e-03  9.49763867e-04\n",
      "  -6.70716879e-02 -1.94909999e-02 -5.53279785e-04 -2.41525120e-03]\n",
      " [-2.77555756e-17 -5.00000000e-01  0.00000000e+00 -2.77555756e-17\n",
      "   2.77555756e-17  2.77555756e-17  0.00000000e+00  0.00000000e+00\n",
      "   0.00000000e+00 -2.44353189e-01  6.35362775e-03  2.78750534e-03\n",
      "   2.77555756e-17 -5.72050256e-02 -1.62384610e-03 -7.08863102e-03]\n",
      " [ 0.00000000e+00  0.00000000e+00 -5.00000000e-01  0.00000000e+00\n",
      "   0.00000000e+00  0.00000000e+00 -2.77555756e-17  2.77555756e-17\n",
      "   0.00000000e+00  0.00000000e+00 -1.41156701e-02  1.54051063e-03\n",
      "  -5.55111512e-17 -5.55111512e-17 -8.97416104e-04 -3.91752125e-03]\n",
      " [-2.77555756e-17 -2.77555756e-17  0.00000000e+00 -5.00000000e-01\n",
      "   2.77555756e-17  0.00000000e+00 -2.77555756e-17  8.32667268e-17\n",
      "  -2.77555756e-17  5.55111512e-17  8.32667268e-17 -4.24770357e-03\n",
      "  -2.77555756e-17  2.77555756e-17  2.77555756e-17 -5.13426914e-04]\n",
      " [ 8.32667268e-17  2.77555756e-17  0.00000000e+00  2.77555756e-17\n",
      "  -5.00000000e-01 -2.75678584e-01 -2.70348088e-01 -1.93087537e-01\n",
      "   6.93889390e-17 -2.77555756e-17  2.77555756e-17  0.00000000e+00\n",
      "  -4.90260388e-01 -2.14949384e-01 -1.87832059e-01 -1.60695146e-01]\n",
      " [-1.11022302e-16  0.00000000e+00  5.55111512e-17 -2.77555756e-17\n",
      "  -2.75678584e-01 -5.00000000e-01 -4.86326404e-01 -3.47343191e-01\n",
      "  -3.18988604e-01 -5.55111512e-17  0.00000000e+00  2.77555756e-17\n",
      "  -2.25865971e-01 -3.89855064e-01 -3.37889165e-01 -2.89072851e-01]\n",
      " [-1.11022302e-16 -2.77555756e-17  0.00000000e+00 -8.32667268e-17\n",
      "  -2.70348088e-01 -4.86326404e-01 -5.00000000e-01 -3.40626995e-01\n",
      "  -3.10265162e-01 -8.58598763e-03  0.00000000e+00 -5.55111512e-17\n",
      "  -2.19315293e-01 -3.84242139e-01 -3.47389286e-01 -2.83483365e-01]\n",
      " [-5.55111512e-17 -2.77555756e-17  0.00000000e+00  2.77555756e-17\n",
      "  -1.93087537e-01 -3.47343191e-01 -3.40626995e-01 -5.00000000e-01\n",
      "  -2.21597039e-01 -5.84923833e-03 -2.16831458e-03 -2.77555756e-17\n",
      "  -1.56638983e-01 -2.61328073e-01 -4.86121304e-01 -4.16119933e-01]\n",
      " [-3.20049529e-01  0.00000000e+00  0.00000000e+00 -2.77555756e-17\n",
      "   8.32667268e-17 -3.18988604e-01 -3.10265162e-01 -2.21597039e-01\n",
      "  -5.00000000e-01  2.28439441e-02 -5.93984133e-04 -2.60596624e-04\n",
      "  -1.11022302e-16 -2.43370696e-01 -2.15413777e-01 -1.83759192e-01]\n",
      " [ 1.20021412e-02 -2.44353189e-01 -5.55111512e-17  2.77555756e-17\n",
      "  -2.77555756e-17 -5.55111512e-17 -8.58598763e-03 -5.84923833e-03\n",
      "   2.28439441e-02 -5.00000000e-01  6.67769509e-02 -7.28768818e-03\n",
      "  -2.31746655e-02 -2.77555756e-17 -1.71995704e-03  1.36646346e-02]\n",
      " [ 2.16481955e-03  6.35362775e-03 -1.41156701e-02  0.00000000e+00\n",
      "   2.77555756e-17  0.00000000e+00  0.00000000e+00 -2.16831458e-03\n",
      "  -5.93984133e-04  6.67769509e-02 -5.00000000e-01  3.41876107e-01\n",
      "   1.16871094e-03  1.92192811e-02 -2.77555756e-17  3.95185692e-02]\n",
      " [ 9.49763867e-04  2.78750534e-03  1.54051063e-03 -4.24770357e-03\n",
      "   0.00000000e+00  2.77555756e-17 -5.55111512e-17 -2.77555756e-17\n",
      "  -2.60596624e-04 -7.28768818e-03  3.41876107e-01 -5.00000000e-01\n",
      "   5.12744549e-04  8.93561763e-03  5.27370274e-03 -8.32667268e-17]\n",
      " [-6.70716879e-02 -2.77555756e-17  2.77555756e-17 -2.77555756e-17\n",
      "  -4.90260388e-01 -2.25865971e-01 -2.19315293e-01 -1.56638983e-01\n",
      "  -1.11022302e-16 -2.31746655e-02  1.16871094e-03  5.12744549e-04\n",
      "  -5.00000000e-01 -1.86632500e-01 -1.52674263e-01 -1.31665117e-01]\n",
      " [-1.94909999e-02 -5.72050256e-02  0.00000000e+00 -1.11022302e-16\n",
      "  -2.14949384e-01 -3.89855064e-01 -3.84242139e-01 -2.61328073e-01\n",
      "  -2.43370696e-01 -2.77555756e-17  1.92192811e-02  8.93561763e-03\n",
      "  -1.86632500e-01 -5.00000000e-01 -2.72168600e-01 -2.40210932e-01]\n",
      " [-5.53279785e-04 -1.62384610e-03 -8.97416104e-04 -1.11022302e-16\n",
      "  -1.87832059e-01 -3.37889165e-01 -3.47389286e-01 -4.86121304e-01\n",
      "  -2.15413777e-01 -1.71995704e-03 -2.77555756e-17  5.27370274e-03\n",
      "  -1.52674263e-01 -2.72168600e-01 -5.00000000e-01 -4.22008402e-01]\n",
      " [-2.41525120e-03 -7.08863102e-03 -3.91752125e-03 -5.13426914e-04\n",
      "  -1.60695146e-01 -2.89072851e-01 -2.83483365e-01 -4.16119933e-01\n",
      "  -1.83759192e-01  1.36646346e-02  3.95185692e-02 -8.32667268e-17\n",
      "  -1.31665117e-01 -2.40210932e-01 -4.22008402e-01 -5.00000000e-01]]\n"
     ]
    }
   ],
   "source": [
    "'''\n",
    "Implementation according to https://arxiv.org/pdf/2008.06517.pdf\n",
    "Note that this is a simple implementation that only works for Pauli rotations \n",
    "and does not account for product or chain rules.\n",
    "'''\n",
    "\n",
    "def QFI(state_op, parameter_dict):\n",
    "    meas = ~state_op.assign_parameters(parameter_dict)\n",
    "    qfi = np.zeros((len(parameter_dict), len(parameter_dict)))\n",
    "    for i, param_i in enumerate(list(parameter_dict.keys())):\n",
    "        for j, param_j in enumerate(list(parameter_dict.keys())):\n",
    "            parameter_dict[param_i] += np.pi /2\n",
    "            parameter_dict[param_j] += np.pi /2\n",
    "            qfi_op = meas @ state_op.assign_parameters(parameter_dict)\n",
    "            qfi[i, j] += qfi_op.eval() / 4\n",
    "            parameter_dict[param_j] -= np.pi\n",
    "            qfi_op = meas @ state_op.assign_parameters(parameter_dict)\n",
    "            qfi[i, j] -= qfi_op.eval() / 4\n",
    "            parameter_dict[param_i] -= np.pi\n",
    "            qfi_op = meas @ state_op.assign_parameters(parameter_dict)\n",
    "            qfi[i, j] += qfi_op.eval() / 4\n",
    "            parameter_dict[param_j] += np.pi\n",
    "            qfi_op = meas @ state_op.assign_parameters(parameter_dict)\n",
    "            qfi[i, j] -= qfi_op.eval() / 4\n",
    "            parameter_dict[param_i] += np.pi/2\n",
    "            parameter_dict[param_j] -= np.pi/2\n",
    "    return(qfi)\n",
    "            \n",
    "            \n",
    "            \n",
    "print('QFI', QFI(ansatz_op, param_dict))"
   ]
  },
  {
   "cell_type": "markdown",
   "metadata": {},
   "source": [
    "#### Quantum Natural Gradient (QNG)\n",
    "\n",
    "The `QNG` combines the state resp. probability gradients and the metric tensor which is representative for the representation capabilities of a parameterized quantum state `|ψ(θ)〉 = V(θ)|ψ〉` generated by an input state `|ψ〉` and a parametrized Ansatz `V(θ)`.\n",
    "\n",
    "The `QNG` reads\n",
    "```\n",
    "QNG = QFI^-1 d⟨ψ(θ)|O(ω)|ψ(θ)〉/ dθ\n",
    "```\n",
    "Now, if `O(ω) = H` then QNG is equivalent to the propagation rule applied in VarQITE."
   ]
  },
  {
   "cell_type": "code",
   "execution_count": 9,
   "metadata": {},
   "outputs": [],
   "source": [
    "def QNG(op, state_op, parameter_dict):\n",
    "    grad = gradient(op, parameter_dict)\n",
    "    qfi = QFI(state_op, parameter_dict)\n",
    "    alpha = 1e-8\n",
    "    # Use regularization\n",
    "    qng, _, _, _ = np.linalg.lstsq(qfi + alpha * np.diag(qfi), grad, rcond=None)\n",
    "    return qng\n",
    "    "
   ]
  },
  {
   "cell_type": "markdown",
   "metadata": {
    "slideshow": {
     "slide_type": "slide"
    }
   },
   "source": [
    "### Define the parameter propagation rule according to McLachlan's variational principle"
   ]
  },
  {
   "cell_type": "code",
   "execution_count": 12,
   "metadata": {
    "slideshow": {
     "slide_type": "-"
    }
   },
   "outputs": [],
   "source": [
    "'''\n",
    "The following implementation is based on the following PR https://github.com/Qiskit/qiskit-aqua/pull/1293\n",
    "'''\n",
    "\n",
    "def get_gibbs_state_params(op, ansatz, param_values, time_steps):\n",
    "\n",
    "    # Convert the operator that holds the Hamiltonian and ansatz into a NaturalGradient operator \n",
    "    # nat_grad = NaturalGradient().convert(op, ansatz.ordered_parameters, method = 'lin_comb', regularization = 'ridge')\n",
    "    # Propagate the Ansatz parameters step by step according to the explicit Euler method\n",
    "    for step in time_steps:\n",
    "        param_dict = dict(zip(ansatz.ordered_parameters, param_values))\n",
    "        # nat_grad_result = np.real(nat_grad.assign_parameters(param_dict).eval())\n",
    "        nat_grad_result = np.real(QNG(op, ansatz_op, param_dict))\n",
    "        param_values = list(np.subtract(param_values, t/num_time_steps * nat_grad_result))\n",
    "    return param_values\n"
   ]
  },
  {
   "cell_type": "markdown",
   "metadata": {
    "slideshow": {
     "slide_type": "slide"
    }
   },
   "source": [
    "### Run the parameter propagation"
   ]
  },
  {
   "cell_type": "code",
   "execution_count": 13,
   "metadata": {
    "scrolled": true
   },
   "outputs": [
    {
     "name": "stderr",
     "output_type": "stream",
     "text": [
      "<ipython-input-8-a5ebe029e27d>:15: ComplexWarning: Casting complex values to real discards the imaginary part\n",
      "  qfi[i, j] += qfi_op.eval() / 4\n",
      "<ipython-input-8-a5ebe029e27d>:18: ComplexWarning: Casting complex values to real discards the imaginary part\n",
      "  qfi[i, j] -= qfi_op.eval() / 4\n",
      "<ipython-input-8-a5ebe029e27d>:21: ComplexWarning: Casting complex values to real discards the imaginary part\n",
      "  qfi[i, j] += qfi_op.eval() / 4\n",
      "<ipython-input-8-a5ebe029e27d>:24: ComplexWarning: Casting complex values to real discards the imaginary part\n",
      "  qfi[i, j] -= qfi_op.eval() / 4\n"
     ]
    },
    {
     "name": "stdout",
     "output_type": "stream",
     "text": [
      "Final parameter values [-1.175909530049918, 0.37777127988870435, 3.9836840995699735e-10, 3.7443554837116214e-10, 0.6774145304868413, 0.5163793969835995, -0.3226838262048864, -0.3226847411481746, 2.2289309272402176, 1.5158619122489765, 3.871996961402439e-10, 3.7540706364605423e-10, 0.12176363303934118, 0.1301222937295763, -0.32268588846005003, -0.3226858928164995]\n"
     ]
    }
   ],
   "source": [
    "# Define the discretization grid of the time steps\n",
    "num_time_steps = 10\n",
    "time_steps = np.linspace(0, t, num_time_steps)\n",
    "param_values = get_gibbs_state_params(op, ansatz, param_values_init, time_steps)\n",
    "    \n",
    "print('Final parameter values', param_values)"
   ]
  },
  {
   "cell_type": "markdown",
   "metadata": {
    "slideshow": {
     "slide_type": "slide"
    }
   },
   "source": [
    "#### Check the fidelity between trained and target state"
   ]
  },
  {
   "cell_type": "code",
   "execution_count": 14,
   "metadata": {},
   "outputs": [
    {
     "name": "stdout",
     "output_type": "stream",
     "text": [
      "Gibbs state  [[0.491-0.j 0.   -0.j 0.   +0.j 0.   +0.j]\n",
      " [0.   +0.j 0.149-0.j 0.   -0.j 0.   -0.j]\n",
      " [0.   -0.j 0.   +0.j 0.184+0.j 0.   +0.j]\n",
      " [0.   -0.j 0.   +0.j 0.   -0.j 0.176+0.j]]\n",
      "Target state  [[0.145+0.j 0.   +0.j 0.   +0.j 0.   +0.j]\n",
      " [0.   +0.j 0.323+0.j 0.   +0.j 0.   +0.j]\n",
      " [0.   +0.j 0.   +0.j 0.239+0.j 0.   +0.j]\n",
      " [0.   +0.j 0.   +0.j 0.   +0.j 0.292+0.j]]\n",
      "Fidelity between trained and target state  0.8512003018378689\n"
     ]
    }
   ],
   "source": [
    "# Compute the density matrix corresponding to the final Gibbs state    \n",
    "gibbs_state = Statevector.from_instruction(ansatz.assign_parameters(dict(zip(ansatz.ordered_parameters, param_values))))\n",
    "gibbs_state = partial_trace(gibbs_state, [0, 1])\n",
    "print('Gibbs state ', np.around(gibbs_state.data, 3))\n",
    "\n",
    "print('Target state ', np.around(gibbs_target.data, 3))\n",
    "\n",
    "# Evaluate the fidelity between the trained and the target state\n",
    "fidelity = state_fidelity(np.around(gibbs_target.data, 3), np.around(gibbs_state.data, 3), validate=False)\n",
    "\n",
    "print('Fidelity between trained and target state ', fidelity)"
   ]
  },
  {
   "cell_type": "markdown",
   "metadata": {
    "slideshow": {
     "slide_type": "slide"
    }
   },
   "source": [
    "## Train a generative QBM \n",
    "More explicitly, we train here a fully visible, diagonal, generative QBM using gradient-free optimization."
   ]
  },
  {
   "cell_type": "markdown",
   "metadata": {
    "slideshow": {
     "slide_type": "slide"
    }
   },
   "source": [
    "### Initialize a parameterized Hamiltonian and the target PDF"
   ]
  },
  {
   "cell_type": "code",
   "execution_count": 15,
   "metadata": {},
   "outputs": [],
   "source": [
    "a = Parameter('a')    \n",
    "b = Parameter('b')\n",
    "c = Parameter('c')  \n",
    "\n",
    "# Define the model Hamiltonian with parameters\n",
    "H = SummedOp([a * Z ^ Z ^ I ^ I, b * Z ^I ^ I ^ I, c * I ^ Z^ I ^ I]) \n",
    "\n",
    "# Define the target PDF\n",
    "p_target = [0.5, 0, 0, 0.5] "
   ]
  },
  {
   "cell_type": "markdown",
   "metadata": {
    "slideshow": {
     "slide_type": "slide"
    }
   },
   "source": [
    "#### Define the loss function and the optimizer"
   ]
  },
  {
   "cell_type": "code",
   "execution_count": 16,
   "metadata": {},
   "outputs": [],
   "source": [
    "# Define the loss function\n",
    "def loss(H_coeffs):\n",
    "    H_op = H.assign_parameters(dict(zip([a, b, c], np.real(H_coeffs))))\n",
    "    \n",
    "    #Combine the measurement and ansatz operator\n",
    "    op = ~StateFn(H_op) @ ansatz_op\n",
    "    \n",
    "    #Prepare the Gibbs state\n",
    "    param_values = get_gibbs_state_params(op, ansatz, param_values_init, time_steps)\n",
    "    p_qbm = ansatz_op.assign_parameters(dict(zip(ansatz.ordered_parameters, param_values))).eval().primitive\n",
    "    p_qbm = np.diag(partial_trace(p_qbm, [0, 1]).data)\n",
    "    print('Trained probability ', p_qbm)\n",
    "    loss_fn = -np.sum(np.multiply(p_target, np.log(p_qbm)))\n",
    "#     print(loss_fn)\n",
    "    return np.real(loss_fn)"
   ]
  },
  {
   "cell_type": "markdown",
   "metadata": {},
   "source": [
    "### Customize\n",
    "Try different optimizers"
   ]
  },
  {
   "cell_type": "code",
   "execution_count": 17,
   "metadata": {},
   "outputs": [],
   "source": [
    "optimizer = COBYLA(maxiter = 50)"
   ]
  },
  {
   "cell_type": "markdown",
   "metadata": {
    "slideshow": {
     "slide_type": "slide"
    }
   },
   "source": [
    "### Train the QBM"
   ]
  },
  {
   "cell_type": "code",
   "execution_count": null,
   "metadata": {
    "scrolled": true
   },
   "outputs": [
    {
     "name": "stderr",
     "output_type": "stream",
     "text": [
      "<ipython-input-8-a5ebe029e27d>:15: ComplexWarning: Casting complex values to real discards the imaginary part\n",
      "  qfi[i, j] += qfi_op.eval() / 4\n",
      "<ipython-input-8-a5ebe029e27d>:18: ComplexWarning: Casting complex values to real discards the imaginary part\n",
      "  qfi[i, j] -= qfi_op.eval() / 4\n",
      "<ipython-input-8-a5ebe029e27d>:21: ComplexWarning: Casting complex values to real discards the imaginary part\n",
      "  qfi[i, j] += qfi_op.eval() / 4\n",
      "<ipython-input-8-a5ebe029e27d>:24: ComplexWarning: Casting complex values to real discards the imaginary part\n",
      "  qfi[i, j] -= qfi_op.eval() / 4\n"
     ]
    },
    {
     "name": "stdout",
     "output_type": "stream",
     "text": [
      "Trained probability  [0.02265963+8.78065566e-20j 0.41393144+4.20450968e-19j\n",
      " 0.55819431-2.41032652e-19j 0.00521463-2.33215054e-20j]\n",
      "Trained probability  [0.13789179-3.69738271e-19j 0.29974951-1.28539151e-17j\n",
      " 0.52598523-2.92417754e-19j 0.03637347-5.14157517e-19j]\n",
      "Trained probability  [0.267414  +1.71659687e-18j 0.63630374+1.82458354e-18j\n",
      " 0.07947283+6.86309983e-19j 0.01680943-2.28495231e-19j]\n",
      "Trained probability  [0.06054083-1.69448844e-18j 0.37470015+5.34002503e-18j\n",
      " 0.43551687+8.82662023e-19j 0.12924215-6.69423467e-19j]\n",
      "Trained probability  [0.54934605+1.22139685e-18j 0.03228803+5.60379062e-20j\n",
      " 0.39584214+2.15420857e-19j 0.02252377+6.67472932e-20j]\n",
      "Trained probability  [0.73731816-2.60745161e-17j 0.00441193+2.30545531e-20j\n",
      " 0.24269991+3.19775983e-18j 0.01557   +5.74655140e-20j]\n",
      "Trained probability  [0.39696385+2.39240453e-20j 0.033039  +4.05459455e-20j\n",
      " 0.5030389 +4.25575012e-19j 0.06695825-2.88164785e-19j]\n",
      "Trained probability  [0.30597034+3.67858289e-19j 0.01758813+4.51077181e-20j\n",
      " 0.56013721-4.20954515e-19j 0.11630432-1.32427886e-19j]\n",
      "Trained probability  [0.43713195+3.58504583e-19j 0.02970077-6.70305556e-20j\n",
      " 0.31216681+6.96902134e-20j 0.22100047-8.18568206e-20j]\n",
      "Trained probability  [0.45769821+4.58602072e-19j 0.04735328+2.75309404e-19j\n",
      " 0.14339858-3.06042298e-19j 0.35154993+2.28555695e-18j]\n",
      "Trained probability  [0.24933924-5.39945648e-21j 0.03831728+8.18885727e-21j\n",
      " 0.07889073-7.74014926e-20j 0.63345275-1.86541222e-19j]\n",
      "Trained probability  [0.35751155+1.60708464e-18j 0.0769219 -2.44763355e-19j\n",
      " 0.18326258+6.97443364e-20j 0.38230397+1.77795033e-18j]\n",
      "Trained probability  [0.65848331+3.74443650e-19j 0.04877418-9.47381850e-21j\n",
      " 0.04545473+6.41359173e-22j 0.24728777-1.29063725e-20j]\n",
      "Trained probability  [0.72761573-4.04607626e-19j 0.02601869-1.88173612e-20j\n",
      " 0.03981465+3.96933152e-21j 0.20655093+5.16849790e-20j]\n",
      "Trained probability  [0.70731082-2.02017319e-19j 0.05086013-2.52490636e-20j\n",
      " 0.04829705+9.99859811e-21j 0.193532  +6.76435542e-20j]\n",
      "Trained probability  [0.52242832+1.98859814e-19j 0.04857471-5.28885363e-20j\n",
      " 0.03899912+1.45111495e-20j 0.38999785+2.53019988e-19j]\n",
      "Trained probability  [0.38126266-1.54540537e-19j 0.05173374-2.00653936e-20j\n",
      " 0.0305313 -1.79851460e-20j 0.5364723 +1.03941430e-19j]\n",
      "Trained probability  [0.42332342+1.21591438e-19j 0.05199642+7.05012828e-20j\n",
      " 0.02314616+2.62280122e-22j 0.50153401-5.51039061e-19j]\n",
      "Trained probability  [0.41395852+2.61372652e-19j 0.09122726+6.22411232e-19j\n",
      " 0.02439362+1.60597818e-20j 0.4704206 -2.63526870e-18j]\n",
      "Trained probability  [0.48931525-1.50479988e-19j 0.03167815-2.12485310e-20j\n",
      " 0.01387038-2.56937049e-21j 0.46513622+5.54905877e-20j]\n",
      "Trained probability  [0.57511081+1.77193654e-19j 0.02440665-6.87896224e-21j\n",
      " 0.00695456+6.99675268e-23j 0.39352798-2.74259148e-19j]\n",
      "Trained probability  [0.44464406+3.07255386e-20j 0.02491094-9.53051146e-22j\n",
      " 0.01364432-1.24361418e-21j 0.51680068-8.59859192e-19j]\n",
      "Trained probability  [0.5071141 +9.66686455e-20j 0.02075486+2.03996949e-20j\n",
      " 0.01532784-1.38007981e-21j 0.45680321-3.14386080e-21j]\n"
     ]
    }
   ],
   "source": [
    "result = optimizer.optimize(3, loss, initial_point = ([-2., .2, .5]))\n",
    "print('Trained parameters ', result[0])"
   ]
  },
  {
   "cell_type": "code",
   "execution_count": null,
   "metadata": {
    "slideshow": {
     "slide_type": "slide"
    }
   },
   "outputs": [],
   "source": [
    "#Construct the Hamiltonian with the final parameterw\n",
    "H_op = H.assign_parameters(dict(zip([a, b, c], [-1.29810568, -0.04292338,  0.1362023])))\n",
    "\n",
    "#Combine the measurement and ansatz operator\n",
    "op = ~StateFn(H_op) @ ansatz_op\n",
    "\n",
    "#Prepare the Gibbs state\n",
    "param_values = get_gibbs_state_params(op, ansatz, param_values_init, time_steps)\n",
    "\n",
    "# Get the sampling probabilities\n",
    "p_qbm = ansatz_op.assign_parameters(dict(zip(ansatz.ordered_parameters, param_values))).eval().primitive\n",
    "p_qbm = np.diag(partial_trace(p_qbm, [0, 1]).data)\n",
    "\n",
    "# Evaluate the l1 norm between the trained and the target state\n",
    "norm = np.linalg.norm(p_target-p_qbm, ord = 1)\n",
    "\n",
    "print('L1-norm between trained and target distributions ', norm)"
   ]
  },
  {
   "cell_type": "code",
   "execution_count": null,
   "metadata": {},
   "outputs": [],
   "source": [
    "print(p_qbm)"
   ]
  }
 ],
 "metadata": {
  "celltoolbar": "Slideshow",
  "kernelspec": {
   "display_name": "QiskitDevenv",
   "language": "python",
   "name": "qiskitdevenv"
  },
  "language_info": {
   "codemirror_mode": {
    "name": "ipython",
    "version": 3
   },
   "file_extension": ".py",
   "mimetype": "text/x-python",
   "name": "python",
   "nbconvert_exporter": "python",
   "pygments_lexer": "ipython3",
   "version": "3.8.5"
  }
 },
 "nbformat": 4,
 "nbformat_minor": 2
}
