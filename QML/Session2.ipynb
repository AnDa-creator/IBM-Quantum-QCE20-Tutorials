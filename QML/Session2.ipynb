{
 "cells": [
  {
   "cell_type": "markdown",
   "metadata": {},
   "source": [
    "# QML for Data Scientists \n",
    "## Session 2: Quantum Support Vector Machines\n",
    "Bryce Fuller, Quantum Applications Researcher - IBM"
   ]
  },
  {
   "cell_type": "code",
   "execution_count": 32,
   "metadata": {},
   "outputs": [],
   "source": [
    "# General Imports\n",
    "import numpy as np\n",
    "import sklearn\n",
    "from scipy.linalg import expm\n",
    "\n",
    "from qiskit import Aer\n",
    "from qiskit.aqua import QuantumInstance\n",
    "\n",
    "# Circuit Imports\n",
    "from qiskit.circuit.library import RealAmplitudes, EfficientSU2, ZZFeatureMap\n",
    "from qiskit.circuit import Parameter\n",
    "\n",
    "# Operator Imports\n",
    "from qiskit.aqua.operators import I, Z, StateFn, CircuitStateFn, SummedOp\n",
    "from qiskit.aqua.operators.gradients import NaturalGradient\n",
    "\n",
    "# Algorithm Imports\n",
    "from qiskit.aqua.algorithms.classifiers import VQC, QSVM\n",
    "\n",
    "# Additional Imports\n",
    "from qiskit.quantum_info import state_fidelity, partial_trace, Statevector\n",
    "from qiskit.aqua.components.optimizers import SPSA, CG, ADAM, COBYLA\n",
    "from qiskit.ml.datasets import ad_hoc_data, digits\n",
    "from qiskit.aqua.utils import split_dataset_to_data_and_labels"
   ]
  },
  {
   "cell_type": "markdown",
   "metadata": {},
   "source": [
    "# Import a Dataset (this one is synthetic data)"
   ]
  },
  {
   "cell_type": "code",
   "execution_count": 22,
   "metadata": {},
   "outputs": [],
   "source": [
    "sample_total, training_dataset, test_dataset, class_labels = ad_hoc_data(100, 30, 2, 0.3)"
   ]
  },
  {
   "cell_type": "markdown",
   "metadata": {},
   "source": [
    "# Variational Quantum Classifier\n",
    "### Self contained implementation using qiskit"
   ]
  },
  {
   "cell_type": "code",
   "execution_count": 38,
   "metadata": {},
   "outputs": [
    {
     "data": {
      "text/html": [
       "<pre style=\"word-wrap: normal;white-space: pre;background: #fff0;line-height: 1.1;font-family: &quot;Courier New&quot;,Courier,monospace\">     ┌───┐┌───────┐                                  ┌───┐┌───────┐     »\n",
       "q_0: ┤ H ├┤ U1(0) ├──■────────────────────────────■──┤ H ├┤ U1(0) ├──■──»\n",
       "     ├───┤├───────┤┌─┴─┐┌──────────────────────┐┌─┴─┐├───┤├───────┤┌─┴─┐»\n",
       "q_1: ┤ H ├┤ U1(0) ├┤ X ├┤ U1(19.7392088021787) ├┤ X ├┤ H ├┤ U1(0) ├┤ X ├»\n",
       "     └───┘└───────┘└───┘└──────────────────────┘└───┘└───┘└───────┘└───┘»\n",
       "«                                  ┌───────┐     ┌───────┐     ┌───────┐     »\n",
       "«q_0: ──────────────────────────■──┤ RY(1) ├──■──┤ RY(3) ├──■──┤ RY(5) ├──■──»\n",
       "«     ┌──────────────────────┐┌─┴─┐├───────┤┌─┴─┐├───────┤┌─┴─┐├───────┤┌─┴─┐»\n",
       "«q_1: ┤ U1(19.7392088021787) ├┤ X ├┤ RY(2) ├┤ X ├┤ RY(4) ├┤ X ├┤ RY(6) ├┤ X ├»\n",
       "«     └──────────────────────┘└───┘└───────┘└───┘└───────┘└───┘└───────┘└───┘»\n",
       "«     ┌───────┐\n",
       "«q_0: ┤ RY(7) ├\n",
       "«     ├───────┤\n",
       "«q_1: ┤ RY(8) ├\n",
       "«     └───────┘</pre>"
      ],
      "text/plain": [
       "     ┌───┐┌───────┐                                  ┌───┐┌───────┐     »\n",
       "q_0: ┤ H ├┤ U1(0) ├──■────────────────────────────■──┤ H ├┤ U1(0) ├──■──»\n",
       "     ├───┤├───────┤┌─┴─┐┌──────────────────────┐┌─┴─┐├───┤├───────┤┌─┴─┐»\n",
       "q_1: ┤ H ├┤ U1(0) ├┤ X ├┤ U1(19.7392088021787) ├┤ X ├┤ H ├┤ U1(0) ├┤ X ├»\n",
       "     └───┘└───────┘└───┘└──────────────────────┘└───┘└───┘└───────┘└───┘»\n",
       "«                                  ┌───────┐     ┌───────┐     ┌───────┐     »\n",
       "«q_0: ──────────────────────────■──┤ RY(1) ├──■──┤ RY(3) ├──■──┤ RY(5) ├──■──»\n",
       "«     ┌──────────────────────┐┌─┴─┐├───────┤┌─┴─┐├───────┤┌─┴─┐├───────┤┌─┴─┐»\n",
       "«q_1: ┤ U1(19.7392088021787) ├┤ X ├┤ RY(2) ├┤ X ├┤ RY(4) ├┤ X ├┤ RY(6) ├┤ X ├»\n",
       "«     └──────────────────────┘└───┘└───────┘└───┘└───────┘└───┘└───────┘└───┘»\n",
       "«     ┌───────┐\n",
       "«q_0: ┤ RY(7) ├\n",
       "«     ├───────┤\n",
       "«q_1: ┤ RY(8) ├\n",
       "«     └───────┘"
      ]
     },
     "execution_count": 38,
     "metadata": {},
     "output_type": "execute_result"
    }
   ],
   "source": [
    "n_qubits = 2\n",
    "\n",
    "Phi = ZZFeatureMap(n_qubits)\n",
    "fixed_params = Phi.ordered_parameters\n",
    "\n",
    "\n",
    "\n",
    "W = RealAmplitudes(2)\n",
    "free_params = W.ordered_parameters\n",
    "\n",
    "\n",
    "\n",
    "\n",
    "\n",
    "def get_param_binding(params, vals):\n",
    "    return {param: vals[i] for i,param in enumerate(params)}\n",
    "\n",
    "vals = [i+1 for i in range(len(free_params))] + [0 for elem in range(len(fixed_params))]\n",
    "param_binds = get_param_binding(free_params+fixed_params, vals)\n",
    "\n",
    "circuit = Phi.compose(W)\n",
    "\n",
    "circuit.bind_parameters(param_binds).draw()\n",
    "#\"\"\"\n"
   ]
  },
  {
   "cell_type": "code",
   "execution_count": 4,
   "metadata": {},
   "outputs": [],
   "source": [
    "optimizer = SPSA()\n",
    "backend = Aer.get_backend('statevector_simulator')\n",
    "qi = QuantumInstance(backend=backend)\n",
    "\n",
    "vqc = VQC(optimizer = optimizer, \n",
    "          feature_map = Phi, \n",
    "          var_form = W,\n",
    "          training_dataset=training_dataset,\n",
    "          test_dataset=test_dataset,\n",
    "          quantum_instance=qi)"
   ]
  },
  {
   "cell_type": "code",
   "execution_count": 8,
   "metadata": {},
   "outputs": [
    {
     "name": "stdout",
     "output_type": "stream",
     "text": [
      "{'num_optimizer_evals': None, \n",
      " 'min_val': 0.3380228673931364, \n",
      " 'opt_params': array([-2.67801051, -3.67754291, 11.22994432, -5.51844612, -1.83415757, \n",
      "        -6.103766  , -1.09645855,  5.79320133]), \n",
      " 'eval_time': 2392.05264878273, \n",
      " 'eval_count': 2051, \n",
      " 'training_loss': 0.3380228673931364, \n",
      " 'testing_accuracy': 0.9333333333333333, \n",
      " 'test_success_ratio': 0.9333333333333333, \n",
      " 'testing_loss': 0.29446032406287265}\n"
     ]
    }
   ],
   "source": [
    "#svc_result = vqc.run()\n",
    "svc_result"
   ]
  },
  {
   "cell_type": "markdown",
   "metadata": {},
   "source": [
    "# Quantum Kernel Estimator\n",
    "### Self-contained Qiskit implementation of QSVM (SVM + Quantum Kernel Estimator)"
   ]
  },
  {
   "cell_type": "code",
   "execution_count": 9,
   "metadata": {},
   "outputs": [
    {
     "name": "stdout",
     "output_type": "stream",
     "text": [
      "testing success ratio:  1.0\n"
     ]
    }
   ],
   "source": [
    "\n",
    "backend = Aer.get_backend('statevector_simulator')\n",
    "\n",
    "quantum_instance = QuantumInstance(backend=backend)\n",
    "\n",
    "qsvm = QSVM(feature_map=Phi, \n",
    "            training_dataset=training_dataset, \n",
    "            test_dataset=test_dataset)\n",
    "\n",
    "result = qsvm.run(quantum_instance)\n",
    "print(\"testing success ratio: \", result['testing_accuracy'])"
   ]
  },
  {
   "cell_type": "markdown",
   "metadata": {},
   "source": [
    "# Realizing a QSVM with minimal qiskit code"
   ]
  },
  {
   "cell_type": "markdown",
   "metadata": {},
   "source": [
    "### Manually extracting the Kernel Matrices\n",
    "\n",
    "## $$ \\Phi(\\vec{x_j})\\vert 0 \\rangle =  \\vert \\Phi(\\vec{x_j}) \\rangle $$\n",
    "\n",
    "#### In order to train our SVM, we will use k=200 data points. So, our kernel matrix will be (200,200)\n",
    "\n",
    "## $$K_{i,j} = \\left| \\langle \\Phi(\\vec{x_i}) \\vert \\Phi(\\vec{x_j})     \\right|^2$$\n",
    "\n",
    "#### In order to classify a new data point $s$, we will need to compute the kernel function with it and each data point. So for l = 60 new, data points, we will need to evaluate 200•60 kernel entries. \n",
    "## $$K(\\vec{x_i},\\vec{s}) = \\left| \\langle \\Phi(\\vec{x_i}) \\vert \\Phi(\\vec{s})     \\right|^2$$"
   ]
  },
  {
   "cell_type": "code",
   "execution_count": 10,
   "metadata": {},
   "outputs": [],
   "source": [
    "# Get the MNIST pre-loaded dataset \n",
    "sample_total, training_dataset, test_dataset, class_labels = digits(100, 30, 2)\n",
    "\n",
    "\n",
    "\n",
    "key1 = 'A'\n",
    "key2 = 'B'\n",
    "\n",
    "# Get the entries corresponding to 0 and 1\n",
    "X_train, y_train = split_dataset_to_data_and_labels(training_dataset, {key1 : 1, key2 : -1})\n",
    "X_test, y_test = split_dataset_to_data_and_labels(test_dataset, {key1 : 1, key2 : -1})"
   ]
  },
  {
   "cell_type": "code",
   "execution_count": 11,
   "metadata": {},
   "outputs": [
    {
     "data": {
      "text/plain": [
       "<matplotlib.legend.Legend at 0x1a30ce7450>"
      ]
     },
     "execution_count": 11,
     "metadata": {},
     "output_type": "execute_result"
    },
    {
     "data": {
      "image/png": "[encoded data removed]",
      "text/plain": [
       "<Figure size 432x288 with 1 Axes>"
      ]
     },
     "metadata": {
      "needs_background": "light"
     },
     "output_type": "display_data"
    }
   ],
   "source": [
    "import matplotlib.pyplot as plt\n",
    "\n",
    "plt.scatter(training_dataset[key1][:,0], \n",
    "            training_dataset[key1][:,1], \n",
    "            label='0 digits', color='lightblue')\n",
    "plt.scatter(test_dataset[key1][:,0], \n",
    "            test_dataset[key1][:,1], \n",
    "            label='0 digits (test pts)', marker='x', color='blue')\n",
    "\n",
    "plt.scatter(training_dataset[key2][:,0], \n",
    "            training_dataset[key2][:,1], \n",
    "            label='1 digits', color='lightsalmon')\n",
    "plt.scatter(test_dataset[key2][:,0], \n",
    "            test_dataset[key2][:,1],  \n",
    "            label='1 digits (test pts)', marker='x', color='red')\n",
    "\n",
    "plt.legend(bbox_to_anchor=(1,1))"
   ]
  },
  {
   "cell_type": "code",
   "execution_count": 12,
   "metadata": {},
   "outputs": [
    {
     "name": "stdout",
     "output_type": "stream",
     "text": [
      "K_train:  (200, 200)\n",
      "K_test:  (200, 60)\n"
     ]
    }
   ],
   "source": [
    "# Precompute this to train your SVM\n",
    "K_train = QSVM.get_kernel_matrix(quantum_instance=qi,\n",
    "                       feature_map=Phi,\n",
    "                       x1_vec= X_train)\n",
    "\n",
    "# Classify new points\n",
    "K_test = QSVM.get_kernel_matrix(quantum_instance=qi,\n",
    "                       feature_map=Phi,\n",
    "                       x1_vec= X_train,\n",
    "                       x2_vec= X_test)\n",
    "\n",
    "print(\"K_train: \", K_train.shape)\n",
    "print(\"K_test: \", K_test.shape)"
   ]
  },
  {
   "cell_type": "code",
   "execution_count": 28,
   "metadata": {},
   "outputs": [],
   "source": [
    "from sklearn.metrics import roc_auc_score, balanced_accuracy_score, roc_curve, auc\n",
    "def get_auc(estimator, x_test, y_test):\n",
    "    y_hat = estimator.predict_proba(x_test)\n",
    "    y_hat = [i[1] for i in y_hat]\n",
    "    return roc_auc_score(y_test,y_hat)"
   ]
  },
  {
   "cell_type": "code",
   "execution_count": 41,
   "metadata": {},
   "outputs": [
    {
     "name": "stdout",
     "output_type": "stream",
     "text": [
      "Balanced Accuracy: \t 0.8833333333333333\n",
      "AUC: \t\t\t 0.9722222222222223\n"
     ]
    }
   ],
   "source": [
    "clf = sklearn.svm.SVC(kernel='precomputed', probability=True)\n",
    "clf.fit(K_train, y_train)\n",
    "\n",
    "# AUC found using predict_proba\n",
    "train_auc = get_auc(clf, K_train, y_train)\n",
    "test_auc = get_auc(clf,K_test.T, y_test)\n",
    "\n",
    "# Balanced Accuracy\n",
    "y_hat_test = clf.predict(K_test.T)\n",
    "y_hat_train = clf.predict(K_train)\n",
    "test_acc = balanced_accuracy_score(y_test, y_hat_test, adjusted=False)\n",
    "train_acc = balanced_accuracy_score(y_train, y_hat_train, adjusted=False)\n",
    "\n",
    "print('Balanced Accuracy: \\t', test_acc)\n",
    "print('AUC: \\t\\t\\t',test_auc)"
   ]
  },
  {
   "cell_type": "markdown",
   "metadata": {},
   "source": [
    "#  Compute a Meshgrid to Visualize Decision Boundary"
   ]
  },
  {
   "cell_type": "markdown",
   "metadata": {},
   "source": [
    "### Retrain with only the support vectors.\n",
    "\n",
    "When we go to predict new data with the model will try to compute the overlap with our whole dataset. \n",
    "By re-training with only the support vectors we can reduce the number of circuits that need to be run to compute a contour plot."
   ]
  },
  {
   "cell_type": "code",
   "execution_count": 30,
   "metadata": {},
   "outputs": [
    {
     "name": "stdout",
     "output_type": "stream",
     "text": [
      "K_train:  (115, 115)\n",
      "K_test:  (115, 60)\n"
     ]
    }
   ],
   "source": [
    "support = clf.support_\n",
    "\n",
    "K_train_pruned = K_train[support,:][:,support]\n",
    "K_test_pruned = K_test[support,:]\n",
    "print(\"K_train: \", K_train_pruned.shape)\n",
    "print(\"K_test: \", K_test_pruned.shape)"
   ]
  },
  {
   "cell_type": "code",
   "execution_count": 42,
   "metadata": {},
   "outputs": [
    {
     "name": "stdout",
     "output_type": "stream",
     "text": [
      "Balanced Accuracy: \t 0.8833333333333333\n",
      "AUC: \t\t\t 0.9722222222222223\n"
     ]
    }
   ],
   "source": [
    "clf = sklearn.svm.SVC(kernel='precomputed', probability=True)\n",
    "clf.fit(K_train_pruned, y_train[support])\n",
    "\n",
    "# AUC found using predict_proba\n",
    "train_auc = get_auc(clf, K_train_pruned, y_train[support])\n",
    "test_auc = get_auc(clf,K_test_pruned.T, y_test)\n",
    "\n",
    "# Balanced Accuracy\n",
    "y_hat_test = clf.predict(K_test_pruned.T)\n",
    "y_hat_train = clf.predict(K_train_pruned)\n",
    "test_acc = balanced_accuracy_score(y_test, y_hat_test, adjusted=False)\n",
    "train_acc = balanced_accuracy_score(y_train[support], y_hat_train, adjusted=False)\n",
    "\n",
    "print('Balanced Accuracy: \\t', test_acc)\n",
    "print('AUC: \\t\\t\\t',test_auc)"
   ]
  },
  {
   "cell_type": "markdown",
   "metadata": {},
   "source": [
    "### Compute the Kernel for each point in the mesh "
   ]
  },
  {
   "cell_type": "code",
   "execution_count": 42,
   "metadata": {},
   "outputs": [],
   "source": [
    "def make_meshgrid(x, y, h=.02):\n",
    "    x_min, x_max = x\n",
    "    y_min, y_max = y\n",
    "    xx, yy = np.meshgrid(np.arange(x_min, x_max, h), np.arange(y_min, y_max, h))\n",
    "    return xx, yy\n",
    "\n",
    "# Set-up grid for plotting.\n",
    "xx, yy = make_meshgrid((-0.7, 0.35), (-0.9,0.3))\n",
    "mesh_pts = np.c_[xx.ravel(), yy.ravel()]"
   ]
  },
  {
   "cell_type": "code",
   "execution_count": 56,
   "metadata": {},
   "outputs": [
    {
     "data": {
      "text/plain": [
       "(115, 3180)"
      ]
     },
     "execution_count": 56,
     "metadata": {},
     "output_type": "execute_result"
    }
   ],
   "source": [
    "# Since we trained our SVM with a precomputed Kernel, we will also need to \n",
    "# Compute the kernel function for each of our points in the mesh. This can be \n",
    "# very expensive, and the SKlearn Classifier will expect the mesh/data kernel \n",
    "# to be of size (n_training_pts, n_mesh_pts). This is why I retrained the \n",
    "# classifier with only the support vectors. That should save us ~half the time.\n",
    "\n",
    "K_mesh = QSVM.get_kernel_matrix(quantum_instance=qi,\n",
    "       feature_map=Phi,\n",
    "       x1_vec= X_train[support],\n",
    "       x2_vec= mesh_pts)\n",
    "\n",
    "K_mesh.shape"
   ]
  },
  {
   "cell_type": "code",
   "execution_count": 69,
   "metadata": {},
   "outputs": [
    {
     "data": {
      "text/plain": [
       "<matplotlib.legend.Legend at 0x1a84e574d0>"
      ]
     },
     "execution_count": 69,
     "metadata": {},
     "output_type": "execute_result"
    },
    {
     "data": {
      "image/png": "[encoded data removed]",
      "text/plain": [
       "<Figure size 432x288 with 1 Axes>"
      ]
     },
     "metadata": {
      "needs_background": "light"
     },
     "output_type": "display_data"
    }
   ],
   "source": [
    "fig, ax = plt.subplots()\n",
    "title = ('Decision surface of Quantum SVC ')\n",
    "Z = clf.predict(K_mesh.T)\n",
    "Z = Z.reshape(xx.shape)\n",
    "out = ax.contourf(xx, yy, Z, colors=['navajowhite','paleturquoise'])\n",
    "\n",
    "plt.scatter(training_dataset[key1][:,0], \n",
    "            training_dataset[key1][:,1], \n",
    "            label='0 digits', color='c')\n",
    "plt.scatter(test_dataset[key1][:,0], \n",
    "            test_dataset[key1][:,1], \n",
    "            label='0 digits(test pts)', marker='x', color='blue')\n",
    "\n",
    "plt.scatter(training_dataset[key2][:,0], \n",
    "            training_dataset[key2][:,1], \n",
    "            label='1 digits', color='lightsalmon')\n",
    "plt.scatter(test_dataset[key2][:,0], \n",
    "            test_dataset[key2][:,1],  \n",
    "            label='1 digits (test pts)', marker='x', color='red')\n",
    "\n",
    "plt.legend(bbox_to_anchor=(1,1))"
   ]
  }
 ],
 "metadata": {
  "celltoolbar": "Slideshow",
  "kernelspec": {
   "display_name": "Python 3",
   "language": "python",
   "name": "python3"
  },
  "language_info": {
   "codemirror_mode": {
    "name": "ipython",
    "version": 3
   },
   "file_extension": ".py",
   "mimetype": "text/x-python",
   "name": "python",
   "nbconvert_exporter": "python",
   "pygments_lexer": "ipython3",
   "version": "3.7.5"
  }
 },
 "nbformat": 4,
 "nbformat_minor": 4
}
