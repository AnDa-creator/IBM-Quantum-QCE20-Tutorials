{
 "cells": [
  {
   "cell_type": "markdown",
   "metadata": {},
   "source": [
    "# Exercise #2 - Calibrating a Qubit Measurement\n",
    "\n",
    "In this exercise you will use the parameters we learned about our chip in the tutorial to learn about the readout calibration of our devices."
   ]
  },
  {
   "cell_type": "code",
   "execution_count": null,
   "metadata": {},
   "outputs": [],
   "source": [
    "import sys\n",
    "import warnings\n",
    "\n",
    "import matplotlib\n",
    "import matplotlib.pyplot as plt\n",
    "import numpy as np\n",
    "from IPython.display import HTML\n",
    "\n",
    "from qiskit import IBMQ, pulse\n",
    "import qiskit.tools.jupyter\n",
    "from qiskit.tools.monitor import job_monitor\n",
    "from qiskit.visualization import SchedStyle\n",
    "\n",
    "if not sys.warnoptions:\n",
    "    warnings.simplefilter(\"ignore\")\n",
    "\n",
    "style = SchedStyle(figsize=(6, 3), title_font_size=0, axis_font_size=12, label_font_size=0, icon_font_size=8, \n",
    "                   table_font_size=6, table_columns=1)"
   ]
  },
  {
   "cell_type": "markdown",
   "metadata": {},
   "source": [
    "## First lets load our backend"
   ]
  },
  {
   "cell_type": "code",
   "execution_count": null,
   "metadata": {},
   "outputs": [],
   "source": [
    "hub = 'ibm-q-community'\n",
    "group = 'ieee-session'\n",
    "project = 'main'\n",
    "backend_name = 'ibmq_rome'"
   ]
  },
  {
   "cell_type": "code",
   "execution_count": null,
   "metadata": {},
   "outputs": [],
   "source": [
    "from qiskit import IBMQ\n",
    "# Load account credentials\n",
    "IBMQ.load_account()\n",
    "# Load provider\n",
    "provider = IBMQ.get_provider(hub=hub, group=group, project=project)\n",
    "# Get our backend\n",
    "backend = provider.get_backend(backend_name)"
   ]
  },
  {
   "cell_type": "code",
   "execution_count": null,
   "metadata": {},
   "outputs": [],
   "source": [
    "# configuration - Hardware configuration information.\n",
    "config = backend.configuration()\n",
    "# properties - Physical properties of the device.\n",
    "properties = backend.properties()\n",
    "# defaults - Information for pulse properties that change frequently.\n",
    "defaults = backend.defaults()"
   ]
  },
  {
   "cell_type": "markdown",
   "metadata": {},
   "source": [
    "Then we load our calibrated chip from the tutorial"
   ]
  },
  {
   "cell_type": "code",
   "execution_count": null,
   "metadata": {
    "scrolled": true
   },
   "outputs": [],
   "source": [
    "from chip import Chip\n",
    "\n",
    "chip = Chip.load('saved_chip_ex2.json')\n",
    "chip"
   ]
  },
  {
   "cell_type": "markdown",
   "metadata": {},
   "source": [
    "# Calibrating Readout \n",
    "The readout of a superconducting system is dependent on the readout pulse frequency, amplitude and duration. When calibrating the readout pulse one takes into account these different parameters to get an optimal measurement of the $|0>$ vs $|1>$ state. \n",
    "\n",
    "To determine the impact of these values, we will:\n",
    "\n",
    "1. Fix the pulse amplitude, duration, frequency and timing.  \n",
    "2. Run an experiment that determines the $|0>$ state centroid position.\n",
    "3. Excited the qubit into the $|1>$ state and measure the new centroid position.\n",
    "4. Adjust the readout parameters to separate the two centroids, while avoiding issues arising from decay during readout. "
   ]
  },
  {
   "cell_type": "markdown",
   "metadata": {},
   "source": [
    "### First load your x180 pulse \n",
    "\n",
    "hint: it will be twice as much rotation as your x90 pulse you calibrated and stored."
   ]
  },
  {
   "cell_type": "code",
   "execution_count": null,
   "metadata": {},
   "outputs": [],
   "source": [
    "# Exercise\n",
    "x180_pulses = []\n",
    "for qubit in chip.qubits:\n",
    "    # create your x180 pulse here\n",
    "    x180 = None\n",
    "    x180_pulses.append(x180)"
   ]
  },
  {
   "cell_type": "markdown",
   "metadata": {},
   "source": [
    "## Now write the experiment described above for each qubit\n",
    "\n",
    "If you're stuck the documentation for [pulse can be found here](https://qiskit.org/documentation/apidoc/pulse.html). The pulse builder documentation is at the [end of the page](https://qiskit.org/documentation/apidoc/pulse.html#pulse-builder-builder), you can always default to using the older `Schedule` interface presented in the [tutorials](https://qiskit.org/documentation/tutorials/pulse/index.html). "
   ]
  },
  {
   "cell_type": "code",
   "execution_count": null,
   "metadata": {},
   "outputs": [],
   "source": [
    "d = lambda qubit: pulse.DriveChannel(qubit)\n",
    "m = lambda qubit: pulse.MeasureChannel(qubit) \n",
    "a = lambda qubit: pulse.AcquireChannel(qubit)\n",
    "mem_slot = lambda qubit: pulse.MemorySlot(qubit)"
   ]
  },
  {
   "cell_type": "code",
   "execution_count": null,
   "metadata": {},
   "outputs": [],
   "source": [
    "# pulse parameters\n",
    "#meas_duration = 22400\n",
    "meas_duration = 11200\n",
    "meas_sigma = 54\n",
    "meas_width = meas_duration - 320\n",
    "meas_amp_guess = 0.01\n",
    "n_exps = 10\n",
    "\n",
    "scale_factor = 1e-7"
   ]
  },
  {
   "cell_type": "code",
   "execution_count": null,
   "metadata": {},
   "outputs": [],
   "source": [
    "def prepare_meas_cal_exp(amp, prep_excited=False):\n",
    "\n",
    "    meas_pulse = pulse.GaussianSquare(\n",
    "        duration=meas_duration,\n",
    "        sigma=meas_sigma,\n",
    "        amp=amp,\n",
    "        width=meas_width,\n",
    "    )\n",
    "\n",
    "    with pulse.build(backend=backend) as meas_sched:\n",
    "        if prep_excited:\n",
    "            pulse.play(x180_pulses[0], d(0))\n",
    "        \n",
    "        pulse.barrier(*range(pulse.num_qubits()))\n",
    "        for qubit in chip.qubits:\n",
    "            pulse.play(meas_pulse, m(qubit.index))\n",
    "\n",
    "        for qubit in range(pulse.num_qubits()):\n",
    "            pulse.acquire(meas_duration, a(qubit), mem_slot(qubit))\n",
    "    \n",
    "    return meas_sched\n",
    "    "
   ]
  },
  {
   "cell_type": "code",
   "execution_count": null,
   "metadata": {},
   "outputs": [],
   "source": [
    "prepare_meas_cal_exp(1.0, prep_excited=True).draw(style=style,plot_range=[0,5500],channels=[d(0),m(0),a(0)])"
   ]
  },
  {
   "cell_type": "markdown",
   "metadata": {},
   "source": [
    "Running an experiment with `meas_level=1` allows us to get the kernelled data out from the device. This corresponds to the acquired measurement pulse after integration with an optimized weighted kernel on the hardware. The result will be an array of complex values in the IQ plane. These may be extracted.\n",
    "\n",
    "We can ask for the results for every shot to be returned by using `meas_return=\"single\"` or alternatively we could retrieve the average data with `meas_return=\"avg\"`.\n",
    "\n",
    "The data for `meas_level=1` is available in the result object under the getter `result.get_memory(i)` for the respective program in the job."
   ]
  },
  {
   "cell_type": "code",
   "execution_count": null,
   "metadata": {},
   "outputs": [],
   "source": [
    "from qiskit import execute\n",
    "cal_progs = [\n",
    "    prepare_meas_cal_exp(meas_amp_guess, prep_excited=False),\n",
    "    prepare_meas_cal_exp(meas_amp_guess, prep_excited=True)\n",
    "]\n",
    "\n",
    "readout_job = execute(cal_progs, backend, meas_level=1, meas_return='single')\n",
    "\n",
    "print(readout_job.job_id())\n",
    "job_monitor(readout_job)"
   ]
  },
  {
   "cell_type": "code",
   "execution_count": null,
   "metadata": {},
   "outputs": [],
   "source": [
    "readout_result = readout_job.result()"
   ]
  },
  {
   "cell_type": "code",
   "execution_count": null,
   "metadata": {},
   "outputs": [],
   "source": [
    "def get_qubit_data(result, prog_idx, qubit):\n",
    "    \"\"\"Get the data for a qubit for measurement level 1\"\"\"\n",
    "    return result.get_memory(prog_idx)[:, qubit]*scale_factor"
   ]
  },
  {
   "cell_type": "code",
   "execution_count": null,
   "metadata": {},
   "outputs": [],
   "source": [
    "get_qubit_data(readout_result, 0, 0)"
   ]
  },
  {
   "cell_type": "code",
   "execution_count": null,
   "metadata": {},
   "outputs": [],
   "source": [
    "# Exercise\n",
    "\n",
    "def calculate_centroid_location(centroid_data):\n",
    "    \"\"\"Calculate the centroid location\n",
    "    \n",
    "    Hint: We want to look at the \"center\" of our data\n",
    "    \n",
    "    Returns:\n",
    "        complex: The centroid location.\n",
    "    \"\"\""
   ]
  },
  {
   "cell_type": "code",
   "execution_count": null,
   "metadata": {},
   "outputs": [],
   "source": [
    "ground = get_qubit_data(readout_result, 0, 0)\n",
    "excited = get_qubit_data(readout_result, 1, 0)\n",
    "\n",
    "ground_centroid_location = calculate_centroid_location(ground)\n",
    "excited_centroid_location = calculate_centroid_location(excited)\n",
    "\n",
    "plt.figure(figsize=(10,10))\n",
    "\n",
    "plt.scatter(np.real(ground), np.imag(ground), s=5, color='red', marker='.')\n",
    "plt.scatter(np.real(excited), np.imag(excited),s=5, color='blue', marker='.')\n",
    "\n",
    "plt.scatter(np.real(ground_centroid_location), np.imag(ground_centroid_location), color='red', marker='x', s=1000)\n",
    "plt.scatter(np.real(excited_centroid_location), np.imag(excited_centroid_location), color='blue', marker='x', s=1000)\n",
    "\n",
    "plt.ylabel('I [a.u.]', fontsize=15)\n",
    "plt.xlabel('Q [a.u.]', fontsize=15)\n",
    "plt.title(\"Separation between |0> and |1> measurement pointer states\")\n",
    "plt.legend([\"|0>\",\"|1>\"],fontsize=25)\n",
    "plt.show()"
   ]
  },
  {
   "cell_type": "markdown",
   "metadata": {},
   "source": [
    "We don't get a good separation between our pointer states, how come? Well it's because we haven't calibrated our measurement pulse yet! You'll write this calibration routine below\n",
    "\n",
    "To do this we'll first need to come up with a metric for how good our pulse is. For now we'll choose the euclidean distance between our two complex valued centroids. With some statistics one can show that this is a relatively good metric for our readout quality. Fill in the method below: "
   ]
  },
  {
   "cell_type": "code",
   "execution_count": null,
   "metadata": {},
   "outputs": [],
   "source": [
    "# Exercise\n",
    "\n",
    "def calculate_centroid_separation(ground_loc, excited_loc):\n",
    "    \"\"\"A method to calculate the separation between our centroids\n",
    "    \n",
    "    Use the Euclidean distance between these centroid locations.\n",
    "    \n",
    "    Returns:\n",
    "        float: Euclidean distance between our centroids\n",
    "    \"\"\""
   ]
  },
  {
   "cell_type": "code",
   "execution_count": null,
   "metadata": {},
   "outputs": [],
   "source": [
    "calculate_centroid_separation(ground_centroid_location, excited_centroid_location)"
   ]
  },
  {
   "cell_type": "markdown",
   "metadata": {},
   "source": [
    "Now sweep over pulse amplitudes and find the measurement amplitude that maximizes the separation between our measurement pointer states. This will be the calibrated value for our measurement pulse."
   ]
  },
  {
   "cell_type": "code",
   "execution_count": null,
   "metadata": {},
   "outputs": [],
   "source": [
    "max_amp = 0.15\n",
    "amps = np.linspace(0, max_amp, n_exps)"
   ]
  },
  {
   "cell_type": "code",
   "execution_count": null,
   "metadata": {},
   "outputs": [],
   "source": [
    "# Exercise\n",
    "def prep_exps(amps):\n",
    "    \"\"\"You should fill in the function below.\n",
    "    \n",
    "    Returns:\n",
    "       A list of pulse schedules with the first `n_exps` being ground reference \n",
    "       experiments and the second half of experiments being excited state \n",
    "       preparation experiments.\n",
    "    \"\"\""
   ]
  },
  {
   "cell_type": "code",
   "execution_count": null,
   "metadata": {},
   "outputs": [],
   "source": [
    "readout_cal_job = execute(prep_exps(amps), backend, meas_level=1, meas_return='single')\n",
    "\n",
    "print(readout_cal_job.job_id())\n",
    "job_monitor(readout_cal_job)"
   ]
  },
  {
   "cell_type": "markdown",
   "metadata": {},
   "source": [
    "Now we'll write a function to calculate the distance between our pointer states for each amplitude we ran above."
   ]
  },
  {
   "cell_type": "code",
   "execution_count": null,
   "metadata": {},
   "outputs": [],
   "source": [
    "# Exercise\n",
    "def calculate_distances(result):\n",
    "    \"\"\"Calculate the distance between each ground, excited pair from your experiment. \n",
    "    \n",
    "    Reuse the functions we already defined above.\n",
    "    \n",
    "    Returns:\n",
    "        An array of complex values. The distance between pointer states for each amplitude.\n",
    "    \"\"\""
   ]
  },
  {
   "cell_type": "code",
   "execution_count": null,
   "metadata": {},
   "outputs": [],
   "source": [
    "readout_cal_result = readout_cal_job.result()\n",
    "\n",
    "centroid_distances = calculate_distances(readout_cal_result)\n",
    "plt.plot(amps, centroid_distances)\n",
    "\n",
    "optimal_idx = int(np.argmax(centroid_distances))\n",
    "optimal_amp = amps[optimal_idx]\n",
    "\n",
    "plt.scatter(amps, centroid_distances)\n",
    "plt.axvline(optimal_amp, color='red', linestyle='--')\n",
    "print(\"The optimal measurement pulse amplitude is {} a.u.\".format(optimal_amp))"
   ]
  },
  {
   "cell_type": "code",
   "execution_count": null,
   "metadata": {},
   "outputs": [],
   "source": [
    "ground = get_qubit_data(readout_cal_result, optimal_idx, 0)\n",
    "excited = get_qubit_data(readout_cal_result, n_exps+optimal_idx, 0)\n",
    "\n",
    "ground_centroid_location = calculate_centroid_location(ground)\n",
    "excited_centroid_location = calculate_centroid_location(excited)\n",
    "\n",
    "plt.figure(figsize=(10,10))\n",
    "\n",
    "plt.scatter(np.real(ground), np.imag(ground), s=5, color='red', marker='.')\n",
    "plt.scatter(np.real(excited), np.imag(excited),s=5, color='blue', marker='.')\n",
    "\n",
    "plt.scatter(np.real(ground_centroid_location), np.imag(ground_centroid_location), color='red', marker='x', s=1000)\n",
    "plt.scatter(np.real(excited_centroid_location), np.imag(excited_centroid_location), color='blue', marker='x', s=1000)\n",
    "\n",
    "plt.ylabel('I [a.u.]', fontsize=15)\n",
    "plt.xlabel('Q [a.u.]', fontsize=15)\n",
    "plt.title(\"Separation between |0> and |1> pointer states for calibrated measurement pulse\")\n",
    "plt.legend([\"|0>\",\"|1>\"],fontsize=25)\n",
    "plt.show()"
   ]
  },
  {
   "cell_type": "markdown",
   "metadata": {},
   "source": [
    "# Bonus Exercise\n",
    "What happens if we keep increasing the power of our measurement pulse in the sweep (re-run the above experiment with a larger `max_amp`)? Do we still only have two clusters? What might these other clusters be?\n",
    "\n",
    "Hint: Our qubit isn't a perfect qubit :)\n",
    "\n",
    "What are the downsides to this result? Do the pointer states we prepared still seem well-separated?"
   ]
  },
  {
   "cell_type": "markdown",
   "metadata": {},
   "source": [
    "# Bonus Exercise\n",
    "Write a method to determine if an input measurement shot result for qubit 0 is a |0> or a |1> assuming you have fixed your measurement pulse with the calibration routine above. This is known as the measurement state discrimination process. As a next step you could produce the counts dictionary (the output of `meas_level=2`) from the output of `meas_level=1`.\n",
    "\n",
    "Hint: You should be able to find the line in the complex plane that bisects the calibrated centroids."
   ]
  },
  {
   "cell_type": "code",
   "execution_count": null,
   "metadata": {},
   "outputs": [],
   "source": [
    "def discriminate(qubit_results):\n",
    "    \"\"\"This method should pass through the array of qubit IQ results and assign to each value a state 0, or 1.\n",
    "    \n",
    "    Returns:\n",
    "        An array of integers, the qubit measurement result 0 or 1.\n",
    "    \"\"\""
   ]
  },
  {
   "cell_type": "code",
   "execution_count": null,
   "metadata": {},
   "outputs": [],
   "source": [
    "import qiskit.tools.jupyter\n",
    "%qiskit_version_table\n",
    "%qiskit_copyright"
   ]
  }
 ],
 "metadata": {
  "kernelspec": {
   "display_name": "Python 3",
   "language": "python",
   "name": "python3"
  },
  "language_info": {
   "codemirror_mode": {
    "name": "ipython",
    "version": 3
   },
   "file_extension": ".py",
   "mimetype": "text/x-python",
   "name": "python",
   "nbconvert_exporter": "python",
   "pygments_lexer": "ipython3",
   "version": "3.8.5"
  }
 },
 "nbformat": 4,
 "nbformat_minor": 4
}
