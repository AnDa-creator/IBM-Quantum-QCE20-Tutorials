{
 "cells": [
  {
   "cell_type": "markdown",
   "metadata": {},
   "source": [
    "# Exercise #1 - Measuring Relaxation in Qubits\n",
    "\n",
    "In this exercise you will use the parameters we learned about our chip in the tutorial to learn about the relaxation rate (or $T_1$)"
   ]
  },
  {
   "cell_type": "code",
   "execution_count": null,
   "metadata": {},
   "outputs": [],
   "source": [
    "import sys\n",
    "import warnings\n",
    "\n",
    "import matplotlib\n",
    "import matplotlib.pyplot as plt\n",
    "import numpy as np\n",
    "from IPython.display import HTML\n",
    "\n",
    "from qiskit import IBMQ, pulse\n",
    "import qiskit.tools.jupyter\n",
    "from qiskit.tools.monitor import job_monitor\n",
    "from qiskit.visualization import SchedStyle\n",
    "\n",
    "if not sys.warnoptions:\n",
    "    warnings.simplefilter(\"ignore\")\n",
    "\n",
    "style = SchedStyle(figsize=(6, 3), title_font_size=0, axis_font_size=12, label_font_size=0, icon_font_size=8, \n",
    "                   table_font_size=6, table_columns=1)"
   ]
  },
  {
   "cell_type": "markdown",
   "metadata": {},
   "source": [
    "## First lets load our backend"
   ]
  },
  {
   "cell_type": "code",
   "execution_count": null,
   "metadata": {},
   "outputs": [],
   "source": [
    "hub = 'ibm-q-community'\n",
    "group = 'ieee-session'\n",
    "project = 'main'\n",
    "backend_name = 'ibmq_rome'"
   ]
  },
  {
   "cell_type": "code",
   "execution_count": null,
   "metadata": {},
   "outputs": [],
   "source": [
    "from qiskit import IBMQ\n",
    "# Load account credentials\n",
    "IBMQ.load_account()\n",
    "# Load provider\n",
    "provider = IBMQ.get_provider(hub=hub, group=group, project=project)\n",
    "# Get our backend\n",
    "backend = provider.get_backend(backend_name)"
   ]
  },
  {
   "cell_type": "code",
   "execution_count": null,
   "metadata": {},
   "outputs": [],
   "source": [
    "# configuration - Hardware configuration information.\n",
    "config = backend.configuration()\n",
    "# properties - Physical properties of the device.\n",
    "properties = backend.properties()\n",
    "# defaults - Information for pulse properties that change frequently.\n",
    "defaults = backend.defaults()"
   ]
  },
  {
   "cell_type": "markdown",
   "metadata": {},
   "source": [
    "Then we load our calibrated chip from the tutorial"
   ]
  },
  {
   "cell_type": "code",
   "execution_count": null,
   "metadata": {
    "scrolled": true
   },
   "outputs": [],
   "source": [
    "from chip import Chip\n",
    "\n",
    "chip = Chip.load('saved_chip_ex1.json')\n",
    "chip"
   ]
  },
  {
   "cell_type": "markdown",
   "metadata": {},
   "source": [
    "# Measuring  $𝑇_1$  using Inversion Recovery \n",
    "The $𝑇_1$  time of a qubit is the time it takes for a qubit to decay from the excited state to the ground state. It is important because it limits the duration of meaningful programs we can run on the quantum computer.\n",
    "\n",
    "To measure the we $𝑇_1$ we ill uses the  𝜋  pulse we've calibrated. We again apply a single drive pulse, our  𝜋  pulse, then apply a measure pulse. However, this time we do not apply the measurement immediately. We insert a delay, and vary that delay between experiments. When we plot the measured signal against delay time, we will see a signal that decays exponentially as the qubit relaxes in energy. The decay time is the  $𝑇_1$ , or relaxation time, of the qubit!\n",
    "\n",
    "The experiment consists of a few steps\n",
    "\n",
    "1. Excite the qubit from $|0>$ to $|1>$\n",
    "2. Wait for some period of time $\\tau$ (There is a `pulse.delay` instruction)\n",
    "3. Measure the excited state population\n",
    "4. Repeat for a new value of $\\tau$\n",
    "\n",
    "![inversion recovery experiment](./inversion_recovery.png)"
   ]
  },
  {
   "cell_type": "markdown",
   "metadata": {},
   "source": [
    "### First load your x180 pulse \n",
    "\n",
    "hint: it will be twice as much rotation as your x90 pulse you calibrated and stored."
   ]
  },
  {
   "cell_type": "code",
   "execution_count": null,
   "metadata": {},
   "outputs": [],
   "source": [
    "# Exercise\n",
    "x180_pulses = []\n",
    "for qubit in chip.qubits:\n",
    "    # create your x180 pulse here\n",
    "    x180_pulses.append(x180)"
   ]
  },
  {
   "cell_type": "markdown",
   "metadata": {},
   "source": [
    "### Now write the experiment described above for each qubit\n",
    "\n",
    "If you're stuck the documentation for [pulse can be found here](https://qiskit.org/documentation/apidoc/pulse.html). The pulse builder documentation is at the [end of the page](https://qiskit.org/documentation/apidoc/pulse.html#pulse-builder-builder), you can always default to using the older `Schedule` interface presented in the [tutorials](https://qiskit.org/documentation/tutorials/pulse/index.html). "
   ]
  },
  {
   "cell_type": "code",
   "execution_count": null,
   "metadata": {},
   "outputs": [],
   "source": [
    "d = lambda qubit: pulse.DriveChannel(qubit)\n",
    "m = lambda qubit: pulse.MeasureChannel(qubit) \n",
    "a = lambda qubit: pulse.AcquireChannel(qubit)\n",
    "mem_slot = lambda qubit: pulse.MemorySlot(qubit)"
   ]
  },
  {
   "cell_type": "code",
   "execution_count": null,
   "metadata": {},
   "outputs": [],
   "source": [
    "# Exercise\n",
    "n_exps = 50\n",
    "min_delay = 0.\n",
    "max_delay = 200.e-6\n",
    "delays = np.linspace(min_delay, max_delay, n_exps)\n",
    "\n",
    "exps = []\n",
    "for delay in delays:\n",
    "    with pulse.build(backend=backend) as exp:\n",
    "        for i, qubit in enumerate(chip.qubits):\n",
    "            # Stimulate qubit and delay\n",
    "            # Remember the delay time has to be converted to\n",
    "            # samples.\n",
    "        # Measure qubits\n",
    "        # don't forget to apply your measurement after\n",
    "        # your stimulus (use a barrier)\n",
    "    \n",
    "    exps.append(exp)"
   ]
  },
  {
   "cell_type": "code",
   "execution_count": null,
   "metadata": {},
   "outputs": [],
   "source": [
    "channels_to_plot = [d(0), d(1), m(0), m(1), a(0), a(1)]\n",
    "exps[1].draw(style=style, plot_range=(0, 75000), channels=channels_to_plot)"
   ]
  },
  {
   "cell_type": "markdown",
   "metadata": {},
   "source": [
    "### Now run your Inversion Recovery experiment\n",
    "Use `meas_level=2` this will return counts like in the circuit model."
   ]
  },
  {
   "cell_type": "code",
   "execution_count": null,
   "metadata": {},
   "outputs": [],
   "source": [
    "# Exercise\n",
    "from qiskit import execute\n",
    "# Run your job here\n",
    "# its often helpful to print out\n",
    "# your job id so that you can track it down later."
   ]
  },
  {
   "cell_type": "code",
   "execution_count": null,
   "metadata": {},
   "outputs": [],
   "source": [
    "ir_result = ir_job.result()"
   ]
  },
  {
   "cell_type": "markdown",
   "metadata": {},
   "source": [
    "### Now that we have our results we want to fit them to what we expect\n",
    "A decaying exponential back to the ground state\n",
    "$$\\Pr(0 |\\tau) = e^{-\\frac{\\tau}{T_1}}$$"
   ]
  },
  {
   "cell_type": "markdown",
   "metadata": {},
   "source": [
    "Plot the ration of 0 to 1 counts for each experiment and then fit them to this function."
   ]
  },
  {
   "cell_type": "code",
   "execution_count": null,
   "metadata": {},
   "outputs": [],
   "source": [
    "# Exercise\n",
    "def calc_prob1(counts):\n",
    "    \"\"\"\n",
    "    Write a function to return the 1/0 state ratio from a Qiskit counts\n",
    "    dictionary. https://qiskit.org/documentation/stubs/qiskit.result.Counts.html\n",
    "    \"\"\"\n",
    "    pass\n",
    "\n",
    "\n",
    "def inversion_recovery_function(tau, t1):\n",
    "    \"\"\"\n",
    "    Write a function to emit the expected probability of having a |1>\n",
    "    given a delay time ``tau`` and ``t1``.\n",
    "    \"\"\"\n",
    "    pass"
   ]
  },
  {
   "cell_type": "code",
   "execution_count": null,
   "metadata": {},
   "outputs": [],
   "source": [
    "# Solution\n",
    "def calc_prob1(counts):\n",
    "    \"\"\"\n",
    "    Write a function to return the 1/0 state ratio from a Qiskit counts\n",
    "    dictionary. https://qiskit.org/documentation/stubs/qiskit.result.Counts.html\n",
    "    \"\"\"\n",
    "    return counts.get('1', 0) / (counts.get('0', 0) + counts.get('1', 0))\n",
    "\n",
    "\n",
    "def inversion_recovery_function(tau, t1):\n",
    "    \"\"\"\n",
    "    Write a function to emit the expected probability of having a |1>\n",
    "    given a delay time ``tau`` and ``t1``.\n",
    "    \"\"\"\n",
    "    return np.exp(-tau/t1)        "
   ]
  },
  {
   "cell_type": "markdown",
   "metadata": {},
   "source": [
    "Plot what we would expect to see for a T1 of 100$\\mu s$."
   ]
  },
  {
   "cell_type": "code",
   "execution_count": null,
   "metadata": {},
   "outputs": [],
   "source": [
    "# Exercise\n",
    "# Plot the expected T1 result\n",
    "t1 = 100e-6\n",
    "# Your code here"
   ]
  },
  {
   "cell_type": "code",
   "execution_count": null,
   "metadata": {},
   "outputs": [],
   "source": [
    "from qiskit.result.utils import marginal_counts\n",
    "\n",
    "from fitting import fit_function\n",
    "\n",
    "\n",
    "def get_qubit_counts(qubit, result, index):\n",
    "    \"\"\"\n",
    "    Pulse returns the data for all qubits due to triggering constraints\n",
    "    use this function to trace over unnecessary data.\n",
    "    \"\"\"\n",
    "    return marginal_counts(result.get_counts(index), indices=[qubit.index])\n",
    "\n",
    "\n",
    "def extract_prob1_data(result, qubit):\n",
    "    index = qubit.index\n",
    "    prob_1s = np.zeros(n_exps)\n",
    "    for exp in range(n_exps):\n",
    "        counts = get_qubit_counts(qubit, ir_result, exp)\n",
    "        prob_1 = calc_prob1(counts)\n",
    "        prob_1s[exp] = prob_1\n",
    "    return prob_1s\n",
    "\n",
    "\n",
    "def fit_t1(delays, prob1_data):\n",
    "    \"\"\"\n",
    "    Fit t1 and return with fitted curve data\n",
    "    \"\"\"\n",
    "    fit_params, y_fit = fit_function(\n",
    "        delays,\n",
    "        prob1_data, \n",
    "        inversion_recovery_function,\n",
    "        [100],\n",
    "    )\n",
    "    return fit_params[0], y_fit"
   ]
  },
  {
   "cell_type": "markdown",
   "metadata": {},
   "source": [
    "Now we extract the data for each qubit's experiment and fit it to your inversion recovery\n",
    "function. From this we extract the $T_1$ of the qubit and it to our chip."
   ]
  },
  {
   "cell_type": "code",
   "execution_count": null,
   "metadata": {},
   "outputs": [],
   "source": [
    "fig, axs = plt.subplots(int(min(np.ceil(len(chip.qubits)/2), 1)), 2)\n",
    "axs.reshape(-1)\n",
    "\n",
    "for qubit, ax in zip(chip.qubits, axs):\n",
    "    prob1_data = extract_prob1_data(ir_result, qubit)\n",
    "    \n",
    "    scaled_delays = delays * 1e6\n",
    "    t1, y_fit = fit_t1(scaled_delays, prob1_data)\n",
    "    ax.plot(scaled_delays, y_fit)\n",
    "    ax.scatter(scaled_delays, prob1_data)\n",
    "    ax.set_title('Qubit {}'.format(qubit.index))\n",
    "    print(\"The T1 for qubit {} is {}us\".format(qubit.index, t1))\n",
    "    qubit.attrs.t1 = t1*1e-6 \n",
    "\n",
    "fig.text(0.5, 0.0, 'Delay [$\\mu s$]', ha='center')\n",
    "fig.text(0.00, 0.5, '$\\Pr(|1>)$', va='center', rotation='vertical')\n",
    "fig.suptitle('Inversion Recovert Experiment')"
   ]
  },
  {
   "cell_type": "markdown",
   "metadata": {},
   "source": [
    "### Now we have added one more parameter to our knowledge of our device\n",
    "The $T_1$ helps us upperbound how good a qubit is."
   ]
  },
  {
   "cell_type": "code",
   "execution_count": null,
   "metadata": {},
   "outputs": [],
   "source": [
    "chip"
   ]
  },
  {
   "cell_type": "markdown",
   "metadata": {},
   "source": [
    "### If you have extra time, try performing a Ramsey experiment\n",
    "The [Ramsey experiment](https://qiskit.org/textbook/ch-quantum-hardware/calibrating-qubits-pulse.html#4.-Determining-qubit-Coherence-) is used to find the $T_2^*$ of our qubit, which is how long it will take a state in the $X-Y$ plane on the Bloch sphere, to decay to zero norm when projected onto the $X-Y$ plane. This gives us a sense of how coherent a qubit is."
   ]
  },
  {
   "cell_type": "markdown",
   "metadata": {},
   "source": [
    "For a stretch exercise perform a Ramsey experiment and add `t2_star` to our `chip`."
   ]
  }
 ],
 "metadata": {
  "kernelspec": {
   "display_name": "Python 3",
   "language": "python",
   "name": "python3"
  },
  "language_info": {
   "codemirror_mode": {
    "name": "ipython",
    "version": 3
   },
   "file_extension": ".py",
   "mimetype": "text/x-python",
   "name": "python",
   "nbconvert_exporter": "python",
   "pygments_lexer": "ipython3",
   "version": "3.8.5"
  }
 },
 "nbformat": 4,
 "nbformat_minor": 4
}
